{
 "cells": [
  {
   "cell_type": "markdown",
   "metadata": {},
   "source": [
    "# Tools\n",
    "\n",
    "This notebook contains all the tools that will be used by the agent."
   ]
  },
  {
   "cell_type": "code",
   "execution_count": 40,
   "metadata": {},
   "outputs": [],
   "source": [
    "import requests\n",
    "import sqlite3\n",
    "import pandas as pd\n",
    "\n",
    "from smolagents import tool"
   ]
  },
  {
   "cell_type": "markdown",
   "metadata": {},
   "source": [
    "## Creating simple tool\n",
    "\n",
    "A Python function must be annotated with `@tool`. It should also have a docstring describing what does the function do, what does it return and the description of its parameters."
   ]
  },
  {
   "cell_type": "markdown",
   "metadata": {},
   "source": [
    "### City to location \n",
    "\n",
    "The following function look up at latitude and longitude of a city."
   ]
  },
  {
   "cell_type": "code",
   "execution_count": 22,
   "metadata": {},
   "outputs": [],
   "source": [
    "# TODO: Load CSV file containing latitude, longitude and altitude of cities from the file data/cities_latlng.csv\n",
    "# TODO: Use df as the variable name\n",
    "# https://github.com/bahar/WorldCityLocations/tree/master\n",
    "\n"
   ]
  },
  {
   "cell_type": "code",
   "execution_count": null,
   "metadata": {},
   "outputs": [],
   "source": [
    "# TODO: Explore the loaded dataframe\n"
   ]
  },
  {
   "cell_type": "code",
   "execution_count": 50,
   "metadata": {},
   "outputs": [],
   "source": [
    "# TODO: Add tool description\n",
    "\n",
    "\n",
    "def get_latlng(city: str) -> dict:\n",
    "   r = df.query(f\"city.str.lower() == '{city.lower()}'\")\n",
    "   if len(r) <= 0:\n",
    "      return None\n",
    "   return { 'city': city, 'latitude': r.iloc[0]['latitude'], 'longitude': r.iloc[0]['longitude'], 'altitude': r.iloc[0]['altitude'] }"
   ]
  },
  {
   "cell_type": "code",
   "execution_count": null,
   "metadata": {},
   "outputs": [],
   "source": [
    "# TODO: Test get_latlng method\n",
    "# TODO: perform a case insensitive search\n"
   ]
  },
  {
   "cell_type": "markdown",
   "metadata": {},
   "source": [
    "### Temperature at latitude and longitude\n",
    "\n",
    "The following function lookup the weather at the given latitude and longtude."
   ]
  },
  {
   "cell_type": "code",
   "execution_count": 51,
   "metadata": {},
   "outputs": [],
   "source": [
    "# TODO: Add tool description\n",
    "\n",
    "\n",
    "def get_temperature(latitude: float, longitude: float) -> dict:\n",
    "   url = f\"https://api.open-meteo.com/v1/forecast?latitude={latitude}&longitude={longitude}&current=temperature_2m\"\n",
    "   resp = requests.get(url)\n",
    "   j = resp.json()\n",
    "   if resp.status_code >= 400:\n",
    "      raise Exception(j['reason'])\n",
    "   temperature = j['current']['temperature_2m']\n",
    "   units = j['current_units']['temperature_2m']\n",
    "   return { \"temperature_unit\": units, \"temperature\": temperature }"
   ]
  },
  {
   "cell_type": "code",
   "execution_count": null,
   "metadata": {},
   "outputs": [],
   "source": [
    "# TODO: Test get_temperature method\n",
    "\n",
    "# case insensitive search\n",
    "pos = get_latlng('mumbai')\n",
    "temperature = get_temperature(pos['latitude'], pos['longitude'])\n",
    "print(temperature)"
   ]
  },
  {
   "cell_type": "markdown",
   "metadata": {},
   "source": [
    "### Query relational database\n",
    "\n",
    "The following function queries a relational database (SQLite) view called `album_track`. The table's schema is as follows:\n",
    "| Field name  | Type          |\n",
    "|-------------|---------------| \n",
    "| AlbumId     | integer       |\n",
    "| Title       | nvarchar(160) |\n",
    "| track_name  | nvarchar(200) |\n",
    "| artist_name | nvarchar(120) |\n",
    "| duration    | integer       |\n",
    "| composer    | nvarchar(220) |\n"
   ]
  },
  {
   "cell_type": "code",
   "execution_count": 47,
   "metadata": {},
   "outputs": [],
   "source": [
    "# TODO: Add tool description\n",
    "\n",
    "def query_album_track(query: str) -> str:\n",
    "   database = \"data/chinook_sqlite.sqlite\" \n",
    "   conn = sqlite3.connect(database)\n",
    "   try:\n",
    "      cursor = conn.cursor() \n",
    "      rows = cursor.execute(query)\n",
    "      return rows.fetchall()\n",
    "   finally:\n",
    "      conn.close()"
   ]
  },
  {
   "cell_type": "code",
   "execution_count": null,
   "metadata": {},
   "outputs": [],
   "source": [
    "# TODO: Test the query_album_track function\n"
   ]
  }
 ],
 "metadata": {
  "kernelspec": {
   "display_name": "venv",
   "language": "python",
   "name": "python3"
  },
  "language_info": {
   "codemirror_mode": {
    "name": "ipython",
    "version": 3
   },
   "file_extension": ".py",
   "mimetype": "text/x-python",
   "name": "python",
   "nbconvert_exporter": "python",
   "pygments_lexer": "ipython3",
   "version": "3.12.3"
  }
 },
 "nbformat": 4,
 "nbformat_minor": 2
}
