{
 "cells": [
  {
   "cell_type": "markdown",
   "metadata": {},
   "source": [
    "# IMPORTANT \n",
    "\n",
    "Run the following to install smolagents"
   ]
  },
  {
   "cell_type": "code",
   "execution_count": 1,
   "metadata": {},
   "outputs": [
    {
     "name": "stdout",
     "output_type": "stream",
     "text": [
      "Found existing installation: torch 2.5.1+cpu\n",
      "Uninstalling torch-2.5.1+cpu:\n",
      "  Successfully uninstalled torch-2.5.1+cpu\n",
      "\u001b[33mWARNING: Skipping torchvision as it is not installed.\u001b[0m\u001b[33m\n",
      "\u001b[0m\u001b[33mWARNING: Running pip as the 'root' user can result in broken permissions and conflicting behaviour with the system package manager, possibly rendering your system unusable.It is recommended to use a virtual environment instead: https://pip.pypa.io/warnings/venv. Use the --root-user-action option if you know what you are doing and want to suppress this warning.\u001b[0m\u001b[33m\n",
      "\u001b[0mNote: you may need to restart the kernel to use updated packages.\n",
      "Collecting torch\n",
      "  Using cached torch-2.5.1-cp312-cp312-manylinux1_x86_64.whl.metadata (28 kB)\n",
      "Collecting torchvision\n",
      "  Using cached torchvision-0.20.1-cp312-cp312-manylinux1_x86_64.whl.metadata (6.1 kB)\n",
      "Requirement already satisfied: filelock in /usr/local/lib/python3.12/site-packages (from torch) (3.16.1)\n",
      "Requirement already satisfied: typing-extensions>=4.8.0 in /usr/local/lib/python3.12/site-packages (from torch) (4.12.2)\n",
      "Requirement already satisfied: networkx in /usr/local/lib/python3.12/site-packages (from torch) (3.4.2)\n",
      "Requirement already satisfied: jinja2 in /usr/local/lib/python3.12/site-packages (from torch) (3.1.5)\n",
      "Requirement already satisfied: fsspec in /usr/local/lib/python3.12/site-packages (from torch) (2024.9.0)\n",
      "Requirement already satisfied: nvidia-cuda-nvrtc-cu12==12.4.127 in /usr/local/lib/python3.12/site-packages (from torch) (12.4.127)\n",
      "Requirement already satisfied: nvidia-cuda-runtime-cu12==12.4.127 in /usr/local/lib/python3.12/site-packages (from torch) (12.4.127)\n",
      "Requirement already satisfied: nvidia-cuda-cupti-cu12==12.4.127 in /usr/local/lib/python3.12/site-packages (from torch) (12.4.127)\n",
      "Requirement already satisfied: nvidia-cudnn-cu12==9.1.0.70 in /usr/local/lib/python3.12/site-packages (from torch) (9.1.0.70)\n",
      "Requirement already satisfied: nvidia-cublas-cu12==12.4.5.8 in /usr/local/lib/python3.12/site-packages (from torch) (12.4.5.8)\n",
      "Requirement already satisfied: nvidia-cufft-cu12==11.2.1.3 in /usr/local/lib/python3.12/site-packages (from torch) (11.2.1.3)\n",
      "Requirement already satisfied: nvidia-curand-cu12==10.3.5.147 in /usr/local/lib/python3.12/site-packages (from torch) (10.3.5.147)\n",
      "Requirement already satisfied: nvidia-cusolver-cu12==11.6.1.9 in /usr/local/lib/python3.12/site-packages (from torch) (11.6.1.9)\n",
      "Requirement already satisfied: nvidia-cusparse-cu12==12.3.1.170 in /usr/local/lib/python3.12/site-packages (from torch) (12.3.1.170)\n",
      "Requirement already satisfied: nvidia-nccl-cu12==2.21.5 in /usr/local/lib/python3.12/site-packages (from torch) (2.21.5)\n",
      "Requirement already satisfied: nvidia-nvtx-cu12==12.4.127 in /usr/local/lib/python3.12/site-packages (from torch) (12.4.127)\n",
      "Requirement already satisfied: nvidia-nvjitlink-cu12==12.4.127 in /usr/local/lib/python3.12/site-packages (from torch) (12.4.127)\n",
      "Requirement already satisfied: triton==3.1.0 in /usr/local/lib/python3.12/site-packages (from torch) (3.1.0)\n",
      "Requirement already satisfied: setuptools in /usr/local/lib/python3.12/site-packages (from torch) (75.8.0)\n",
      "Requirement already satisfied: sympy==1.13.1 in /usr/local/lib/python3.12/site-packages (from torch) (1.13.1)\n",
      "Requirement already satisfied: mpmath<1.4,>=1.1.0 in /usr/local/lib/python3.12/site-packages (from sympy==1.13.1->torch) (1.3.0)\n",
      "Requirement already satisfied: numpy in /usr/local/lib/python3.12/site-packages (from torchvision) (1.26.4)\n",
      "Requirement already satisfied: pillow!=8.3.*,>=5.3.0 in /usr/local/lib/python3.12/site-packages (from torchvision) (11.1.0)\n",
      "Requirement already satisfied: MarkupSafe>=2.0 in /usr/local/lib/python3.12/site-packages (from jinja2->torch) (3.0.2)\n",
      "Using cached torch-2.5.1-cp312-cp312-manylinux1_x86_64.whl (906.4 MB)\n",
      "Downloading torchvision-0.20.1-cp312-cp312-manylinux1_x86_64.whl (7.2 MB)\n",
      "\u001b[2K   \u001b[90m━━━━━━━━━━━━━━━━━━━━━━━━━━━━━━━━━━━━━━━━\u001b[0m \u001b[32m7.2/7.2 MB\u001b[0m \u001b[31m2.1 MB/s\u001b[0m eta \u001b[36m0:00:00\u001b[0m00:01\u001b[0m00:01\u001b[0m\n",
      "\u001b[?25hInstalling collected packages: torch, torchvision\n",
      "Successfully installed torch-2.5.1 torchvision-0.20.1\n",
      "\u001b[33mWARNING: Running pip as the 'root' user can result in broken permissions and conflicting behaviour with the system package manager, possibly rendering your system unusable.It is recommended to use a virtual environment instead: https://pip.pypa.io/warnings/venv. Use the --root-user-action option if you know what you are doing and want to suppress this warning.\u001b[0m\u001b[33m\n",
      "\u001b[0mNote: you may need to restart the kernel to use updated packages.\n",
      "Collecting smolagents\n",
      "  Downloading smolagents-1.3.0-py3-none-any.whl.metadata (8.4 kB)\n",
      "Collecting duckduckgo-search\n",
      "  Using cached duckduckgo_search-7.2.1-py3-none-any.whl.metadata (17 kB)\n",
      "Requirement already satisfied: transformers>=4.0.0 in /usr/local/lib/python3.12/site-packages (from smolagents) (4.48.0)\n",
      "Requirement already satisfied: requests>=2.32.3 in /usr/local/lib/python3.12/site-packages (from smolagents) (2.32.3)\n",
      "Requirement already satisfied: rich>=13.9.4 in /usr/local/lib/python3.12/site-packages (from smolagents) (13.9.4)\n",
      "Requirement already satisfied: pandas>=2.2.3 in /usr/local/lib/python3.12/site-packages (from smolagents) (2.2.3)\n",
      "Requirement already satisfied: jinja2>=3.1.4 in /usr/local/lib/python3.12/site-packages (from smolagents) (3.1.5)\n",
      "Requirement already satisfied: pillow>=11.0.0 in /usr/local/lib/python3.12/site-packages (from smolagents) (11.1.0)\n",
      "Collecting markdownify>=0.14.1 (from smolagents)\n",
      "  Using cached markdownify-0.14.1-py3-none-any.whl.metadata (8.5 kB)\n",
      "Collecting gradio>=5.8.0 (from smolagents)\n",
      "  Downloading gradio-5.12.0-py3-none-any.whl.metadata (16 kB)\n",
      "Requirement already satisfied: python-dotenv>=1.0.1 in /usr/local/lib/python3.12/site-packages (from smolagents) (1.0.1)\n",
      "Collecting e2b-code-interpreter>=1.0.3 (from smolagents)\n",
      "  Using cached e2b_code_interpreter-1.0.3-py3-none-any.whl.metadata (2.6 kB)\n",
      "Collecting openai>=1.58.1 (from smolagents)\n",
      "  Downloading openai-1.59.7-py3-none-any.whl.metadata (27 kB)\n",
      "Requirement already satisfied: click>=8.1.7 in /usr/local/lib/python3.12/site-packages (from duckduckgo-search) (8.1.8)\n",
      "Collecting primp>=0.10.0 (from duckduckgo-search)\n",
      "  Using cached primp-0.10.0-cp38-abi3-manylinux_2_17_x86_64.manylinux2014_x86_64.whl.metadata (12 kB)\n",
      "Requirement already satisfied: lxml>=5.3.0 in /usr/local/lib/python3.12/site-packages (from duckduckgo-search) (5.3.0)\n",
      "Requirement already satisfied: attrs>=21.3.0 in /usr/local/lib/python3.12/site-packages (from e2b-code-interpreter>=1.0.3->smolagents) (24.3.0)\n",
      "Collecting e2b<2.0.0,>=1.0.4 (from e2b-code-interpreter>=1.0.3->smolagents)\n",
      "  Using cached e2b-1.0.5-py3-none-any.whl.metadata (2.6 kB)\n",
      "Requirement already satisfied: httpx<1.0.0,>=0.20.0 in /usr/local/lib/python3.12/site-packages (from e2b-code-interpreter>=1.0.3->smolagents) (0.28.1)\n",
      "Collecting aiofiles<24.0,>=22.0 (from gradio>=5.8.0->smolagents)\n",
      "  Using cached aiofiles-23.2.1-py3-none-any.whl.metadata (9.7 kB)\n",
      "Requirement already satisfied: anyio<5.0,>=3.0 in /usr/local/lib/python3.12/site-packages (from gradio>=5.8.0->smolagents) (4.8.0)\n",
      "Requirement already satisfied: fastapi<1.0,>=0.115.2 in /usr/local/lib/python3.12/site-packages (from gradio>=5.8.0->smolagents) (0.115.6)\n",
      "Collecting ffmpy (from gradio>=5.8.0->smolagents)\n",
      "  Using cached ffmpy-0.5.0-py3-none-any.whl.metadata (3.0 kB)\n",
      "Collecting gradio-client==1.5.4 (from gradio>=5.8.0->smolagents)\n",
      "  Downloading gradio_client-1.5.4-py3-none-any.whl.metadata (7.1 kB)\n",
      "Requirement already satisfied: huggingface-hub>=0.25.1 in /usr/local/lib/python3.12/site-packages (from gradio>=5.8.0->smolagents) (0.27.1)\n",
      "Collecting markupsafe~=2.0 (from gradio>=5.8.0->smolagents)\n",
      "  Using cached MarkupSafe-2.1.5-cp312-cp312-manylinux_2_17_x86_64.manylinux2014_x86_64.whl.metadata (3.0 kB)\n",
      "Requirement already satisfied: numpy<3.0,>=1.0 in /usr/local/lib/python3.12/site-packages (from gradio>=5.8.0->smolagents) (1.26.4)\n",
      "Requirement already satisfied: orjson~=3.0 in /usr/local/lib/python3.12/site-packages (from gradio>=5.8.0->smolagents) (3.10.14)\n",
      "Requirement already satisfied: packaging in /usr/local/lib/python3.12/site-packages (from gradio>=5.8.0->smolagents) (24.2)\n",
      "Requirement already satisfied: pydantic>=2.0 in /usr/local/lib/python3.12/site-packages (from gradio>=5.8.0->smolagents) (2.9.2)\n",
      "Collecting pydub (from gradio>=5.8.0->smolagents)\n",
      "  Using cached pydub-0.25.1-py2.py3-none-any.whl.metadata (1.4 kB)\n",
      "Collecting python-multipart>=0.0.18 (from gradio>=5.8.0->smolagents)\n",
      "  Using cached python_multipart-0.0.20-py3-none-any.whl.metadata (1.8 kB)\n",
      "Requirement already satisfied: pyyaml<7.0,>=5.0 in /usr/local/lib/python3.12/site-packages (from gradio>=5.8.0->smolagents) (6.0.2)\n",
      "Collecting ruff>=0.2.2 (from gradio>=5.8.0->smolagents)\n",
      "  Downloading ruff-0.9.1-py3-none-manylinux_2_17_x86_64.manylinux2014_x86_64.whl.metadata (25 kB)\n",
      "Collecting safehttpx<0.2.0,>=0.1.6 (from gradio>=5.8.0->smolagents)\n",
      "  Using cached safehttpx-0.1.6-py3-none-any.whl.metadata (4.2 kB)\n",
      "Collecting semantic-version~=2.0 (from gradio>=5.8.0->smolagents)\n",
      "  Using cached semantic_version-2.10.0-py2.py3-none-any.whl.metadata (9.7 kB)\n",
      "Requirement already satisfied: starlette<1.0,>=0.40.0 in /usr/local/lib/python3.12/site-packages (from gradio>=5.8.0->smolagents) (0.41.3)\n",
      "Collecting tomlkit<0.14.0,>=0.12.0 (from gradio>=5.8.0->smolagents)\n",
      "  Using cached tomlkit-0.13.2-py3-none-any.whl.metadata (2.7 kB)\n",
      "Requirement already satisfied: typer<1.0,>=0.12 in /usr/local/lib/python3.12/site-packages (from gradio>=5.8.0->smolagents) (0.15.1)\n",
      "Requirement already satisfied: typing-extensions~=4.0 in /usr/local/lib/python3.12/site-packages (from gradio>=5.8.0->smolagents) (4.12.2)\n",
      "Requirement already satisfied: uvicorn>=0.14.0 in /usr/local/lib/python3.12/site-packages (from gradio>=5.8.0->smolagents) (0.34.0)\n",
      "Requirement already satisfied: fsspec in /usr/local/lib/python3.12/site-packages (from gradio-client==1.5.4->gradio>=5.8.0->smolagents) (2024.9.0)\n",
      "Requirement already satisfied: websockets<15.0,>=10.0 in /usr/local/lib/python3.12/site-packages (from gradio-client==1.5.4->gradio>=5.8.0->smolagents) (14.1)\n",
      "Requirement already satisfied: beautifulsoup4<5,>=4.9 in /usr/local/lib/python3.12/site-packages (from markdownify>=0.14.1->smolagents) (4.12.3)\n",
      "Requirement already satisfied: six<2,>=1.15 in /usr/local/lib/python3.12/site-packages (from markdownify>=0.14.1->smolagents) (1.17.0)\n",
      "Collecting distro<2,>=1.7.0 (from openai>=1.58.1->smolagents)\n",
      "  Using cached distro-1.9.0-py3-none-any.whl.metadata (6.8 kB)\n",
      "Collecting jiter<1,>=0.4.0 (from openai>=1.58.1->smolagents)\n",
      "  Using cached jiter-0.8.2-cp312-cp312-manylinux_2_17_x86_64.manylinux2014_x86_64.whl.metadata (5.2 kB)\n",
      "Requirement already satisfied: sniffio in /usr/local/lib/python3.12/site-packages (from openai>=1.58.1->smolagents) (1.3.1)\n",
      "Requirement already satisfied: tqdm>4 in /usr/local/lib/python3.12/site-packages (from openai>=1.58.1->smolagents) (4.67.1)\n",
      "Requirement already satisfied: python-dateutil>=2.8.2 in /usr/local/lib/python3.12/site-packages (from pandas>=2.2.3->smolagents) (2.9.0.post0)\n",
      "Requirement already satisfied: pytz>=2020.1 in /usr/local/lib/python3.12/site-packages (from pandas>=2.2.3->smolagents) (2024.2)\n",
      "Requirement already satisfied: tzdata>=2022.7 in /usr/local/lib/python3.12/site-packages (from pandas>=2.2.3->smolagents) (2024.2)\n",
      "Requirement already satisfied: charset-normalizer<4,>=2 in /usr/local/lib/python3.12/site-packages (from requests>=2.32.3->smolagents) (3.4.1)\n",
      "Requirement already satisfied: idna<4,>=2.5 in /usr/local/lib/python3.12/site-packages (from requests>=2.32.3->smolagents) (3.10)\n",
      "Requirement already satisfied: urllib3<3,>=1.21.1 in /usr/local/lib/python3.12/site-packages (from requests>=2.32.3->smolagents) (2.3.0)\n",
      "Requirement already satisfied: certifi>=2017.4.17 in /usr/local/lib/python3.12/site-packages (from requests>=2.32.3->smolagents) (2024.12.14)\n",
      "Requirement already satisfied: markdown-it-py>=2.2.0 in /usr/local/lib/python3.12/site-packages (from rich>=13.9.4->smolagents) (3.0.0)\n",
      "Requirement already satisfied: pygments<3.0.0,>=2.13.0 in /usr/local/lib/python3.12/site-packages (from rich>=13.9.4->smolagents) (2.19.1)\n",
      "Requirement already satisfied: filelock in /usr/local/lib/python3.12/site-packages (from transformers>=4.0.0->smolagents) (3.16.1)\n",
      "Requirement already satisfied: regex!=2019.12.17 in /usr/local/lib/python3.12/site-packages (from transformers>=4.0.0->smolagents) (2024.11.6)\n",
      "Requirement already satisfied: tokenizers<0.22,>=0.21 in /usr/local/lib/python3.12/site-packages (from transformers>=4.0.0->smolagents) (0.21.0)\n",
      "Requirement already satisfied: safetensors>=0.4.1 in /usr/local/lib/python3.12/site-packages (from transformers>=4.0.0->smolagents) (0.5.2)\n",
      "Requirement already satisfied: soupsieve>1.2 in /usr/local/lib/python3.12/site-packages (from beautifulsoup4<5,>=4.9->markdownify>=0.14.1->smolagents) (2.6)\n",
      "Requirement already satisfied: httpcore<2.0.0,>=1.0.5 in /usr/local/lib/python3.12/site-packages (from e2b<2.0.0,>=1.0.4->e2b-code-interpreter>=1.0.3->smolagents) (1.0.7)\n",
      "Requirement already satisfied: protobuf<6.0.0,>=3.20.0 in /usr/local/lib/python3.12/site-packages (from e2b<2.0.0,>=1.0.4->e2b-code-interpreter>=1.0.3->smolagents) (5.29.3)\n",
      "Requirement already satisfied: h11<0.15,>=0.13 in /usr/local/lib/python3.12/site-packages (from httpcore<2.0.0,>=1.0.5->e2b<2.0.0,>=1.0.4->e2b-code-interpreter>=1.0.3->smolagents) (0.14.0)\n",
      "Requirement already satisfied: mdurl~=0.1 in /usr/local/lib/python3.12/site-packages (from markdown-it-py>=2.2.0->rich>=13.9.4->smolagents) (0.1.2)\n",
      "Requirement already satisfied: annotated-types>=0.6.0 in /usr/local/lib/python3.12/site-packages (from pydantic>=2.0->gradio>=5.8.0->smolagents) (0.7.0)\n",
      "Requirement already satisfied: pydantic-core==2.23.4 in /usr/local/lib/python3.12/site-packages (from pydantic>=2.0->gradio>=5.8.0->smolagents) (2.23.4)\n",
      "Requirement already satisfied: shellingham>=1.3.0 in /usr/local/lib/python3.12/site-packages (from typer<1.0,>=0.12->gradio>=5.8.0->smolagents) (1.5.4)\n",
      "Downloading smolagents-1.3.0-py3-none-any.whl (70 kB)\n",
      "Downloading duckduckgo_search-7.2.1-py3-none-any.whl (19 kB)\n",
      "Downloading e2b_code_interpreter-1.0.3-py3-none-any.whl (12 kB)\n",
      "Downloading gradio-5.12.0-py3-none-any.whl (57.6 MB)\n",
      "\u001b[2K   \u001b[90m━━━━━━━━━━━━━━━━━━━━━━━━━━━━━━━━━━━━━━━━\u001b[0m \u001b[32m57.6/57.6 MB\u001b[0m \u001b[31m1.7 MB/s\u001b[0m eta \u001b[36m0:00:00\u001b[0m00:01\u001b[0m00:01\u001b[0m\n",
      "\u001b[?25hDownloading gradio_client-1.5.4-py3-none-any.whl (321 kB)\n",
      "Downloading markdownify-0.14.1-py3-none-any.whl (11 kB)\n",
      "Downloading openai-1.59.7-py3-none-any.whl (454 kB)\n",
      "Downloading primp-0.10.0-cp38-abi3-manylinux_2_17_x86_64.manylinux2014_x86_64.whl (3.3 MB)\n",
      "\u001b[2K   \u001b[90m━━━━━━━━━━━━━━━━━━━━━━━━━━━━━━━━━━━━━━━━\u001b[0m \u001b[32m3.3/3.3 MB\u001b[0m \u001b[31m1.8 MB/s\u001b[0m eta \u001b[36m0:00:00\u001b[0ma \u001b[36m0:00:01\u001b[0m\n",
      "\u001b[?25hDownloading aiofiles-23.2.1-py3-none-any.whl (15 kB)\n",
      "Downloading distro-1.9.0-py3-none-any.whl (20 kB)\n",
      "Downloading e2b-1.0.5-py3-none-any.whl (81 kB)\n",
      "Downloading jiter-0.8.2-cp312-cp312-manylinux_2_17_x86_64.manylinux2014_x86_64.whl (345 kB)\n",
      "Downloading MarkupSafe-2.1.5-cp312-cp312-manylinux_2_17_x86_64.manylinux2014_x86_64.whl (28 kB)\n",
      "Downloading python_multipart-0.0.20-py3-none-any.whl (24 kB)\n",
      "Downloading ruff-0.9.1-py3-none-manylinux_2_17_x86_64.manylinux2014_x86_64.whl (11.3 MB)\n",
      "\u001b[2K   \u001b[90m━━━━━━━━━━━━━━━━━━━━━━━━━━━━━━━━━━━━━━━━\u001b[0m \u001b[32m11.3/11.3 MB\u001b[0m \u001b[31m1.8 MB/s\u001b[0m eta \u001b[36m0:00:00\u001b[0m00:01\u001b[0m00:01\u001b[0m\n",
      "\u001b[?25hDownloading safehttpx-0.1.6-py3-none-any.whl (8.7 kB)\n",
      "Downloading semantic_version-2.10.0-py2.py3-none-any.whl (15 kB)\n",
      "Downloading tomlkit-0.13.2-py3-none-any.whl (37 kB)\n",
      "Downloading ffmpy-0.5.0-py3-none-any.whl (6.0 kB)\n",
      "Downloading pydub-0.25.1-py2.py3-none-any.whl (32 kB)\n",
      "Installing collected packages: pydub, tomlkit, semantic-version, ruff, python-multipart, primp, markupsafe, jiter, ffmpy, distro, aiofiles, markdownify, duckduckgo-search, safehttpx, openai, gradio-client, e2b, gradio, e2b-code-interpreter, smolagents\n",
      "  Attempting uninstall: markupsafe\n",
      "    Found existing installation: MarkupSafe 3.0.2\n",
      "    Uninstalling MarkupSafe-3.0.2:\n",
      "      Successfully uninstalled MarkupSafe-3.0.2\n",
      "  Attempting uninstall: aiofiles\n",
      "    Found existing installation: aiofiles 24.1.0\n",
      "    Uninstalling aiofiles-24.1.0:\n",
      "      Successfully uninstalled aiofiles-24.1.0\n",
      "\u001b[31mERROR: pip's dependency resolver does not currently take into account all the packages that are installed. This behaviour is the source of the following dependency conflicts.\n",
      "unstructured-client 0.28.1 requires aiofiles>=24.1.0, but you have aiofiles 23.2.1 which is incompatible.\u001b[0m\u001b[31m\n",
      "\u001b[0mSuccessfully installed aiofiles-23.2.1 distro-1.9.0 duckduckgo-search-7.2.1 e2b-1.0.5 e2b-code-interpreter-1.0.3 ffmpy-0.5.0 gradio-5.12.0 gradio-client-1.5.4 jiter-0.8.2 markdownify-0.14.1 markupsafe-2.1.5 openai-1.59.7 primp-0.10.0 pydub-0.25.1 python-multipart-0.0.20 ruff-0.9.1 safehttpx-0.1.6 semantic-version-2.10.0 smolagents-1.3.0 tomlkit-0.13.2\n",
      "\u001b[33mWARNING: Running pip as the 'root' user can result in broken permissions and conflicting behaviour with the system package manager, possibly rendering your system unusable.It is recommended to use a virtual environment instead: https://pip.pypa.io/warnings/venv. Use the --root-user-action option if you know what you are doing and want to suppress this warning.\u001b[0m\u001b[33m\n",
      "\u001b[0mNote: you may need to restart the kernel to use updated packages.\n"
     ]
    }
   ],
   "source": [
    "%pip uninstall -y torch torchvision\n",
    "\n",
    "%pip install torch torchvision \n",
    "%pip install smolagents duckduckgo-search nbformat"
   ]
  },
  {
   "cell_type": "code",
   "execution_count": 1,
   "metadata": {},
   "outputs": [],
   "source": [
    "# Imports\n",
    "import os\n",
    "\n",
    "from smolagents import CodeAgent, HfApiModel\n",
    "from langchain_community.tools.ddg_search.tool import DuckDuckGoSearchTool"
   ]
  },
  {
   "cell_type": "code",
   "execution_count": null,
   "metadata": {},
   "outputs": [
    {
     "name": "stdout",
     "output_type": "stream",
     "text": [
      "Collecting nbformat\n",
      "  Using cached nbformat-5.10.4-py3-none-any.whl.metadata (3.6 kB)\n",
      "Collecting fastjsonschema>=2.15 (from nbformat)\n",
      "  Using cached fastjsonschema-2.21.1-py3-none-any.whl.metadata (2.2 kB)\n",
      "Collecting jsonschema>=2.6 (from nbformat)\n",
      "  Using cached jsonschema-4.23.0-py3-none-any.whl.metadata (7.9 kB)\n",
      "Requirement already satisfied: jupyter-core!=5.0.*,>=4.12 in /usr/local/lib/python3.12/site-packages (from nbformat) (5.7.2)\n",
      "Requirement already satisfied: traitlets>=5.1 in /usr/local/lib/python3.12/site-packages (from nbformat) (5.14.3)\n",
      "Requirement already satisfied: attrs>=22.2.0 in /usr/local/lib/python3.12/site-packages (from jsonschema>=2.6->nbformat) (24.3.0)\n",
      "Collecting jsonschema-specifications>=2023.03.6 (from jsonschema>=2.6->nbformat)\n",
      "  Using cached jsonschema_specifications-2024.10.1-py3-none-any.whl.metadata (3.0 kB)\n",
      "Collecting referencing>=0.28.4 (from jsonschema>=2.6->nbformat)\n",
      "  Using cached referencing-0.35.1-py3-none-any.whl.metadata (2.8 kB)\n",
      "Collecting rpds-py>=0.7.1 (from jsonschema>=2.6->nbformat)\n",
      "  Using cached rpds_py-0.22.3-cp312-cp312-manylinux_2_17_x86_64.manylinux2014_x86_64.whl.metadata (4.2 kB)\n",
      "Requirement already satisfied: platformdirs>=2.5 in /usr/local/lib/python3.12/site-packages (from jupyter-core!=5.0.*,>=4.12->nbformat) (4.3.6)\n",
      "Downloading nbformat-5.10.4-py3-none-any.whl (78 kB)\n",
      "Downloading fastjsonschema-2.21.1-py3-none-any.whl (23 kB)\n",
      "Downloading jsonschema-4.23.0-py3-none-any.whl (88 kB)\n",
      "Downloading jsonschema_specifications-2024.10.1-py3-none-any.whl (18 kB)\n",
      "Downloading referencing-0.35.1-py3-none-any.whl (26 kB)\n",
      "Downloading rpds_py-0.22.3-cp312-cp312-manylinux_2_17_x86_64.manylinux2014_x86_64.whl (385 kB)\n",
      "Installing collected packages: fastjsonschema, rpds-py, referencing, jsonschema-specifications, jsonschema, nbformat\n",
      "Successfully installed fastjsonschema-2.21.1 jsonschema-4.23.0 jsonschema-specifications-2024.10.1 nbformat-5.10.4 referencing-0.35.1 rpds-py-0.22.3\n",
      "\u001b[33mWARNING: Running pip as the 'root' user can result in broken permissions and conflicting behaviour with the system package manager, possibly rendering your system unusable.It is recommended to use a virtual environment instead: https://pip.pypa.io/warnings/venv. Use the --root-user-action option if you know what you are doing and want to suppress this warning.\u001b[0m\u001b[33m\n",
      "\u001b[0mNote: you may need to restart the kernel to use updated packages.\n",
      "   id      country            city   latitude  longitude  altitude\n",
      "0   2  Afghanistan        Kandahar  31.610000  65.699997    1015.0\n",
      "1   3  Afghanistan  Mazar-e Sharif  36.706944  67.112221     369.0\n",
      "2   4  Afghanistan           Herat  34.340000  62.189999     927.0\n",
      "3   5  Afghanistan       Jalalabad  34.420000  70.449997     573.0\n",
      "4   6  Afghanistan          Konduz  36.720000  68.860001     394.0\n",
      "{'temperature_unit': '°C', 'temperature': 22.5}\n"
     ]
    }
   ],
   "source": [
    "# TODO: load tools from day04-tools.ipynb\n",
    "\n",
    "%pip install nbformat\n",
    "\n",
    "%run day04-tools-blank.ipynb"
   ]
  },
  {
   "cell_type": "code",
   "execution_count": 7,
   "metadata": {},
   "outputs": [
    {
     "data": {
      "text/plain": [
       "{'city': 'tokyo',\n",
       " 'latitude': 35.6895266,\n",
       " 'longitude': 139.6916809,\n",
       " 'altitude': 40.0}"
      ]
     },
     "execution_count": 7,
     "metadata": {},
     "output_type": "execute_result"
    }
   ],
   "source": [
    "get_latlng('tokyo')"
   ]
  },
  {
   "cell_type": "code",
   "execution_count": null,
   "metadata": {},
   "outputs": [],
   "source": [
    "# TODO: Get or set the Huggingface token\n",
    "HF_TOKEN = os.getenv('HF_TOKEN')\n"
   ]
  },
  {
   "cell_type": "code",
   "execution_count": 10,
   "metadata": {},
   "outputs": [],
   "source": [
    "# TODO: Load an agent with all default tools\n",
    "model = \"meta-llama/Llama-3.3-70B-Instruct\" # Requires a Pro subscription\n",
    "# model = \"meta-llama/Llama-3.1-8B-Instruct\" # Requires a Pro subscription\n",
    "# model = \"Qwen/Qwen2.5-72B-Instruct\"\n",
    "\n",
    "# Create the LLM\n",
    "agent_model = HfApiModel(model_id=model, token=HF_TOKEN)\n",
    "agent = CodeAgent(tools=[], model=agent_model, add_base_tools=True)"
   ]
  },
  {
   "cell_type": "code",
   "execution_count": 12,
   "metadata": {},
   "outputs": [
    {
     "name": "stdout",
     "output_type": "stream",
     "text": [
      "web_search\n",
      "visit_webpage\n",
      "final_answer\n"
     ]
    }
   ],
   "source": [
    "# TODO: List of tools \n",
    "for t in agent.tools.keys():\n",
    "   print(t)\n"
   ]
  },
  {
   "cell_type": "code",
   "execution_count": null,
   "metadata": {},
   "outputs": [],
   "source": [
    "# TODO: Run an inference\n",
    "# TODO: Check number of inference under Settings -> Billiing -> Inference API\n"
   ]
  },
  {
   "cell_type": "code",
   "execution_count": 15,
   "metadata": {},
   "outputs": [
    {
     "data": {
      "text/html": [
       "<pre style=\"white-space:pre;overflow-x:auto;line-height:normal;font-family:Menlo,'DejaVu Sans Mono',consolas,'Courier New',monospace\"><span style=\"color: #d4b702; text-decoration-color: #d4b702\">╭────────────────────────────────────────────────────────────────────────────────────────────── </span><span style=\"color: #d4b702; text-decoration-color: #d4b702; font-weight: bold\">New run</span><span style=\"color: #d4b702; text-decoration-color: #d4b702\"> ───────────────────────────────────────────────────────────────────────────────────────────────╮</span>\n",
       "<span style=\"color: #d4b702; text-decoration-color: #d4b702\">│</span>                                                                                                                                                                                                      <span style=\"color: #d4b702; text-decoration-color: #d4b702\">│</span>\n",
       "<span style=\"color: #d4b702; text-decoration-color: #d4b702\">│</span> <span style=\"font-weight: bold\">What is the Trump's inauguration date for his second presidency? </span>                                                                                                                                    <span style=\"color: #d4b702; text-decoration-color: #d4b702\">│</span>\n",
       "<span style=\"color: #d4b702; text-decoration-color: #d4b702\">│</span> <span style=\"font-weight: bold\">          Give the result as a JSON object. </span>                                                                                                                                                         <span style=\"color: #d4b702; text-decoration-color: #d4b702\">│</span>\n",
       "<span style=\"color: #d4b702; text-decoration-color: #d4b702\">│</span> <span style=\"font-weight: bold\">          Put the date in an attribute called inaug_date as unix epoch</span>                                                                                                                               <span style=\"color: #d4b702; text-decoration-color: #d4b702\">│</span>\n",
       "<span style=\"color: #d4b702; text-decoration-color: #d4b702\">│</span>                                                                                                                                                                                                      <span style=\"color: #d4b702; text-decoration-color: #d4b702\">│</span>\n",
       "<span style=\"color: #d4b702; text-decoration-color: #d4b702\">╰─ HfApiModel - meta-llama/Llama-3.3-70B-Instruct ─────────────────────────────────────────────────────────────────────────────────────────────────────────────────────────────────────────────────────╯</span>\n",
       "</pre>\n"
      ],
      "text/plain": [
       "\u001b[38;2;212;183;2m╭─\u001b[0m\u001b[38;2;212;183;2m─────────────────────────────────────────────────────────────────────────────────────────────\u001b[0m\u001b[38;2;212;183;2m \u001b[0m\u001b[1;38;2;212;183;2mNew run\u001b[0m\u001b[38;2;212;183;2m \u001b[0m\u001b[38;2;212;183;2m──────────────────────────────────────────────────────────────────────────────────────────────\u001b[0m\u001b[38;2;212;183;2m─╮\u001b[0m\n",
       "\u001b[38;2;212;183;2m│\u001b[0m                                                                                                                                                                                                      \u001b[38;2;212;183;2m│\u001b[0m\n",
       "\u001b[38;2;212;183;2m│\u001b[0m \u001b[1mWhat is the Trump's inauguration date for his second presidency? \u001b[0m                                                                                                                                    \u001b[38;2;212;183;2m│\u001b[0m\n",
       "\u001b[38;2;212;183;2m│\u001b[0m \u001b[1m          Give the result as a JSON object. \u001b[0m                                                                                                                                                         \u001b[38;2;212;183;2m│\u001b[0m\n",
       "\u001b[38;2;212;183;2m│\u001b[0m \u001b[1m          Put the date in an attribute called inaug_date as unix epoch\u001b[0m                                                                                                                               \u001b[38;2;212;183;2m│\u001b[0m\n",
       "\u001b[38;2;212;183;2m│\u001b[0m                                                                                                                                                                                                      \u001b[38;2;212;183;2m│\u001b[0m\n",
       "\u001b[38;2;212;183;2m╰─\u001b[0m\u001b[38;2;212;183;2m HfApiModel - meta-llama/Llama-3.3-70B-Instruct \u001b[0m\u001b[38;2;212;183;2m────────────────────────────────────────────────────────────────────────────────────────────────────────────────────────────────────────────────────\u001b[0m\u001b[38;2;212;183;2m─╯\u001b[0m\n"
      ]
     },
     "metadata": {},
     "output_type": "display_data"
    },
    {
     "data": {
      "text/html": [
       "<pre style=\"white-space:pre;overflow-x:auto;line-height:normal;font-family:Menlo,'DejaVu Sans Mono',consolas,'Courier New',monospace\"><span style=\"color: #d4b702; text-decoration-color: #d4b702\">━━━━━━━━━━━━━━━━━━━━━━━━━━━━━━━━━━━━━━━━━━━━━━━━━━━━━━━━━━━━━━━━━━━━━━━━━━━━━━━━━━━━━━━━━━━━━━━━ </span><span style=\"font-weight: bold\">Step </span><span style=\"color: #008080; text-decoration-color: #008080; font-weight: bold\">0</span><span style=\"color: #d4b702; text-decoration-color: #d4b702\"> ━━━━━━━━━━━━━━━━━━━━━━━━━━━━━━━━━━━━━━━━━━━━━━━━━━━━━━━━━━━━━━━━━━━━━━━━━━━━━━━━━━━━━━━━━━━━━━━━</span>\n",
       "</pre>\n"
      ],
      "text/plain": [
       "\u001b[38;2;212;183;2m━━━━━━━━━━━━━━━━━━━━━━━━━━━━━━━━━━━━━━━━━━━━━━━━━━━━━━━━━━━━━━━━━━━━━━━━━━━━━━━━━━━━━━━━━━━━━━━━ \u001b[0m\u001b[1mStep \u001b[0m\u001b[1;36m0\u001b[0m\u001b[38;2;212;183;2m ━━━━━━━━━━━━━━━━━━━━━━━━━━━━━━━━━━━━━━━━━━━━━━━━━━━━━━━━━━━━━━━━━━━━━━━━━━━━━━━━━━━━━━━━━━━━━━━━\u001b[0m\n"
      ]
     },
     "metadata": {},
     "output_type": "display_data"
    },
    {
     "data": {
      "text/html": [
       "<pre style=\"white-space:pre;overflow-x:auto;line-height:normal;font-family:Menlo,'DejaVu Sans Mono',consolas,'Courier New',monospace\"> ─ <span style=\"font-weight: bold\">Executing this code:</span> ─────────────────────────────────────────────────────────────────────────────────────────────────────────────────────────────────────────────────────────────────────────────── \n",
       "  <span style=\"color: #f8f8f2; text-decoration-color: #f8f8f2; background-color: #272822\">result </span><span style=\"color: #ff4689; text-decoration-color: #ff4689; background-color: #272822\">=</span><span style=\"color: #f8f8f2; text-decoration-color: #f8f8f2; background-color: #272822\"> web_search(query</span><span style=\"color: #ff4689; text-decoration-color: #ff4689; background-color: #272822\">=</span><span style=\"color: #e6db74; text-decoration-color: #e6db74; background-color: #272822\">\"Trump second presidency\"</span><span style=\"color: #f8f8f2; text-decoration-color: #f8f8f2; background-color: #272822\">)</span><span style=\"background-color: #272822\">                                                                                                                                                </span>  \n",
       "  <span style=\"color: #f8f8f2; text-decoration-color: #f8f8f2; background-color: #272822\">print(result)</span><span style=\"background-color: #272822\">                                                                                                                                                                                       </span>  \n",
       " ────────────────────────────────────────────────────────────────────────────────────────────────────────────────────────────────────────────────────────────────────────────────────────────────────── \n",
       "</pre>\n"
      ],
      "text/plain": [
       " ─ \u001b[1mExecuting this code:\u001b[0m ─────────────────────────────────────────────────────────────────────────────────────────────────────────────────────────────────────────────────────────────────────────────── \n",
       "  \u001b[38;2;248;248;242;48;2;39;40;34mresult\u001b[0m\u001b[38;2;248;248;242;48;2;39;40;34m \u001b[0m\u001b[38;2;255;70;137;48;2;39;40;34m=\u001b[0m\u001b[38;2;248;248;242;48;2;39;40;34m \u001b[0m\u001b[38;2;248;248;242;48;2;39;40;34mweb_search\u001b[0m\u001b[38;2;248;248;242;48;2;39;40;34m(\u001b[0m\u001b[38;2;248;248;242;48;2;39;40;34mquery\u001b[0m\u001b[38;2;255;70;137;48;2;39;40;34m=\u001b[0m\u001b[38;2;230;219;116;48;2;39;40;34m\"\u001b[0m\u001b[38;2;230;219;116;48;2;39;40;34mTrump second presidency\u001b[0m\u001b[38;2;230;219;116;48;2;39;40;34m\"\u001b[0m\u001b[38;2;248;248;242;48;2;39;40;34m)\u001b[0m\u001b[48;2;39;40;34m                                                                                                                                                \u001b[0m  \n",
       "  \u001b[38;2;248;248;242;48;2;39;40;34mprint\u001b[0m\u001b[38;2;248;248;242;48;2;39;40;34m(\u001b[0m\u001b[38;2;248;248;242;48;2;39;40;34mresult\u001b[0m\u001b[38;2;248;248;242;48;2;39;40;34m)\u001b[0m\u001b[48;2;39;40;34m                                                                                                                                                                                       \u001b[0m  \n",
       " ────────────────────────────────────────────────────────────────────────────────────────────────────────────────────────────────────────────────────────────────────────────────────────────────────── \n"
      ]
     },
     "metadata": {},
     "output_type": "display_data"
    },
    {
     "data": {
      "text/html": [
       "<pre style=\"white-space:pre;overflow-x:auto;line-height:normal;font-family:Menlo,'DejaVu Sans Mono',consolas,'Courier New',monospace\"><span style=\"font-weight: bold\">Execution logs:</span>\n",
       "## Search Results\n",
       "\n",
       "[Second presidency of Donald Trump - Wikipedia](https://en.wikipedia.org/wiki/Second_presidency_of_Donald_Trump)\n",
       "The second tenure of Donald Trump as the president of the United States is set to begin on January 20, 2025, when he is to be inaugurated as the 47th president. Trump, who previously served as the \n",
       "45th president from 2017 to 2021, is scheduled to take office following his victory over Democratic incumbent vice president Kamala Harris in the ...\n",
       "\n",
       "[Timeline of the Donald Trump presidencies - Wikipedia](https://en.wikipedia.org/wiki/Timeline_of_the_Donald_Trump_presidencies)\n",
       "Donald Trump, a Republican originally from New York, who during his first presidency moved his principal residency to Florida, was elected president of the United States in 2016. He was inaugurated on\n",
       "January 20, 2017, as the nation's 45th president, and his presidency ended on January 20, 2021, with the inauguration of Joe Biden .\n",
       "\n",
       "[What a second Trump presidency means now and in the future](https://www.colorado.edu/today/2024/11/07/what-second-trump-presidency-means-now-and-future)\n",
       "Former president Donald Trump is, once again, president-elect. The election was called less than 24 hours after polls closed, a turnaround time that many analysts and pollsters did not expect. ... and\n",
       "what the early days of a second Trump presidency may look like. Doug Spencer. There were several predictions that results would take several days ...\n",
       "\n",
       "[Trump's second term will begin with a crisis that will test his ...](https://www.cnn.com/2025/01/14/politics/trump-california-fires-analysis/index.html)\n",
       "Donald Trump has spent weeks preparing a shock and awe start to his second term. But the new president will walk back into the Oval Office next week with a crisis over the raging wildfires in Los ...\n",
       "\n",
       "[What Trump might do in his second presidency and what it could mean for ...](https://theconversation.com/what-trump-might-do-in-his-second-presidency-and-what-it-could-mean-for-democracy-243052)\n",
       "Donald Trump is likely to expand the powers of the presidency. ... What Trump might do in his second presidency and what it could mean for democracy Published: November 6, 2024 8:49am EST ...\n",
       "\n",
       "[Can Trump Serve a Third Term? - FactCheck.org](https://www.factcheck.org/2024/11/can-trump-serve-a-third-term/)\n",
       "President-elect Donald Trump, who will return to office for a second term on Jan. 20, 2025, recently reignited a constitutional debate about whether a twice-elected president can serve a third term.\n",
       "\n",
       "[5 ways a second Trump administration would be different from the first](https://www.cnn.com/2024/06/23/politics/second-trump-administration-agenda/index.html)\n",
       "Trump, should he secure a second term, would enter the White House with a level of support from congressional Republicans that didn't exist in his first term. ... \"In President Trump's ...\n",
       "\n",
       "[This is what's on Trump's to-do list for his second presidency](https://www.abc.net.au/news/2024-11-08/donald-trump-second-presidency-term-policies/104573310)\n",
       "Donald Trump will be the next president of the United States. While he won't be sworn in for a few months, the former (and future) president has a growing to-do list for a second term.\n",
       "\n",
       "[Trump isn't first to be second: Grover Cleveland set precedent of ...](https://apnews.com/article/grover-cleveland-president-nonconsecutive-terms-7ea2c92c72911462ccb1bc2e7352fa23)\n",
       "Donald John Trump has won the 2024 presidential election, marking his return to the White House after serving as the 45th president of the United States. That was Grover Cleveland, who served as the \n",
       "22nd president after the 1884 election, and as the 24th president after the campaign of 1892.\n",
       "\n",
       "[What a second Trump presidency will bring - The Economist](https://www.economist.com/united-states/2024/11/07/what-a-second-trump-presidency-will-bring)\n",
       "Donald Trump's election as America's 47th president was not a fluke: his victory was decisive. By securing more than 70m votes, he has won the popular vote for the first time in three attempts.\n",
       "\n",
       "Out: None\n",
       "</pre>\n"
      ],
      "text/plain": [
       "\u001b[1mExecution logs:\u001b[0m\n",
       "## Search Results\n",
       "\n",
       "[Second presidency of Donald Trump - Wikipedia](https://en.wikipedia.org/wiki/Second_presidency_of_Donald_Trump)\n",
       "The second tenure of Donald Trump as the president of the United States is set to begin on January 20, 2025, when he is to be inaugurated as the 47th president. Trump, who previously served as the \n",
       "45th president from 2017 to 2021, is scheduled to take office following his victory over Democratic incumbent vice president Kamala Harris in the ...\n",
       "\n",
       "[Timeline of the Donald Trump presidencies - Wikipedia](https://en.wikipedia.org/wiki/Timeline_of_the_Donald_Trump_presidencies)\n",
       "Donald Trump, a Republican originally from New York, who during his first presidency moved his principal residency to Florida, was elected president of the United States in 2016. He was inaugurated on\n",
       "January 20, 2017, as the nation's 45th president, and his presidency ended on January 20, 2021, with the inauguration of Joe Biden .\n",
       "\n",
       "[What a second Trump presidency means now and in the future](https://www.colorado.edu/today/2024/11/07/what-second-trump-presidency-means-now-and-future)\n",
       "Former president Donald Trump is, once again, president-elect. The election was called less than 24 hours after polls closed, a turnaround time that many analysts and pollsters did not expect. ... and\n",
       "what the early days of a second Trump presidency may look like. Doug Spencer. There were several predictions that results would take several days ...\n",
       "\n",
       "[Trump's second term will begin with a crisis that will test his ...](https://www.cnn.com/2025/01/14/politics/trump-california-fires-analysis/index.html)\n",
       "Donald Trump has spent weeks preparing a shock and awe start to his second term. But the new president will walk back into the Oval Office next week with a crisis over the raging wildfires in Los ...\n",
       "\n",
       "[What Trump might do in his second presidency and what it could mean for ...](https://theconversation.com/what-trump-might-do-in-his-second-presidency-and-what-it-could-mean-for-democracy-243052)\n",
       "Donald Trump is likely to expand the powers of the presidency. ... What Trump might do in his second presidency and what it could mean for democracy Published: November 6, 2024 8:49am EST ...\n",
       "\n",
       "[Can Trump Serve a Third Term? - FactCheck.org](https://www.factcheck.org/2024/11/can-trump-serve-a-third-term/)\n",
       "President-elect Donald Trump, who will return to office for a second term on Jan. 20, 2025, recently reignited a constitutional debate about whether a twice-elected president can serve a third term.\n",
       "\n",
       "[5 ways a second Trump administration would be different from the first](https://www.cnn.com/2024/06/23/politics/second-trump-administration-agenda/index.html)\n",
       "Trump, should he secure a second term, would enter the White House with a level of support from congressional Republicans that didn't exist in his first term. ... \"In President Trump's ...\n",
       "\n",
       "[This is what's on Trump's to-do list for his second presidency](https://www.abc.net.au/news/2024-11-08/donald-trump-second-presidency-term-policies/104573310)\n",
       "Donald Trump will be the next president of the United States. While he won't be sworn in for a few months, the former (and future) president has a growing to-do list for a second term.\n",
       "\n",
       "[Trump isn't first to be second: Grover Cleveland set precedent of ...](https://apnews.com/article/grover-cleveland-president-nonconsecutive-terms-7ea2c92c72911462ccb1bc2e7352fa23)\n",
       "Donald John Trump has won the 2024 presidential election, marking his return to the White House after serving as the 45th president of the United States. That was Grover Cleveland, who served as the \n",
       "22nd president after the 1884 election, and as the 24th president after the campaign of 1892.\n",
       "\n",
       "[What a second Trump presidency will bring - The Economist](https://www.economist.com/united-states/2024/11/07/what-a-second-trump-presidency-will-bring)\n",
       "Donald Trump's election as America's 47th president was not a fluke: his victory was decisive. By securing more than 70m votes, he has won the popular vote for the first time in three attempts.\n",
       "\n",
       "Out: None\n"
      ]
     },
     "metadata": {},
     "output_type": "display_data"
    },
    {
     "data": {
      "text/html": [
       "<pre style=\"white-space:pre;overflow-x:auto;line-height:normal;font-family:Menlo,'DejaVu Sans Mono',consolas,'Courier New',monospace\"><span style=\"color: #7f7f7f; text-decoration-color: #7f7f7f\">[Step 0: Duration 3.92 seconds| Input tokens: 2,116 | Output tokens: 65]</span>\n",
       "</pre>\n"
      ],
      "text/plain": [
       "\u001b[2m[Step 0: Duration 3.92 seconds| Input tokens: 2,116 | Output tokens: 65]\u001b[0m\n"
      ]
     },
     "metadata": {},
     "output_type": "display_data"
    },
    {
     "data": {
      "text/html": [
       "<pre style=\"white-space:pre;overflow-x:auto;line-height:normal;font-family:Menlo,'DejaVu Sans Mono',consolas,'Courier New',monospace\"><span style=\"color: #d4b702; text-decoration-color: #d4b702\">━━━━━━━━━━━━━━━━━━━━━━━━━━━━━━━━━━━━━━━━━━━━━━━━━━━━━━━━━━━━━━━━━━━━━━━━━━━━━━━━━━━━━━━━━━━━━━━━ </span><span style=\"font-weight: bold\">Step </span><span style=\"color: #008080; text-decoration-color: #008080; font-weight: bold\">1</span><span style=\"color: #d4b702; text-decoration-color: #d4b702\"> ━━━━━━━━━━━━━━━━━━━━━━━━━━━━━━━━━━━━━━━━━━━━━━━━━━━━━━━━━━━━━━━━━━━━━━━━━━━━━━━━━━━━━━━━━━━━━━━━</span>\n",
       "</pre>\n"
      ],
      "text/plain": [
       "\u001b[38;2;212;183;2m━━━━━━━━━━━━━━━━━━━━━━━━━━━━━━━━━━━━━━━━━━━━━━━━━━━━━━━━━━━━━━━━━━━━━━━━━━━━━━━━━━━━━━━━━━━━━━━━ \u001b[0m\u001b[1mStep \u001b[0m\u001b[1;36m1\u001b[0m\u001b[38;2;212;183;2m ━━━━━━━━━━━━━━━━━━━━━━━━━━━━━━━━━━━━━━━━━━━━━━━━━━━━━━━━━━━━━━━━━━━━━━━━━━━━━━━━━━━━━━━━━━━━━━━━\u001b[0m\n"
      ]
     },
     "metadata": {},
     "output_type": "display_data"
    },
    {
     "data": {
      "text/html": [
       "<pre style=\"white-space:pre;overflow-x:auto;line-height:normal;font-family:Menlo,'DejaVu Sans Mono',consolas,'Courier New',monospace\"> ─ <span style=\"font-weight: bold\">Executing this code:</span> ─────────────────────────────────────────────────────────────────────────────────────────────────────────────────────────────────────────────────────────────────────────────── \n",
       "  <span style=\"color: #ff4689; text-decoration-color: #ff4689; background-color: #272822\">import</span><span style=\"color: #f8f8f2; text-decoration-color: #f8f8f2; background-color: #272822\"> datetime</span><span style=\"background-color: #272822\">                                                                                                                                                                                     </span>  \n",
       "  <span style=\"color: #f8f8f2; text-decoration-color: #f8f8f2; background-color: #272822\">inaug_date </span><span style=\"color: #ff4689; text-decoration-color: #ff4689; background-color: #272822\">=</span><span style=\"color: #f8f8f2; text-decoration-color: #f8f8f2; background-color: #272822\"> datetime</span><span style=\"color: #ff4689; text-decoration-color: #ff4689; background-color: #272822\">.</span><span style=\"color: #f8f8f2; text-decoration-color: #f8f8f2; background-color: #272822\">datetime(</span><span style=\"color: #ae81ff; text-decoration-color: #ae81ff; background-color: #272822\">2025</span><span style=\"color: #f8f8f2; text-decoration-color: #f8f8f2; background-color: #272822\">, </span><span style=\"color: #ae81ff; text-decoration-color: #ae81ff; background-color: #272822\">1</span><span style=\"color: #f8f8f2; text-decoration-color: #f8f8f2; background-color: #272822\">, </span><span style=\"color: #ae81ff; text-decoration-color: #ae81ff; background-color: #272822\">20</span><span style=\"color: #f8f8f2; text-decoration-color: #f8f8f2; background-color: #272822\">)</span><span style=\"background-color: #272822\">                                                                                                                                                         </span>  \n",
       "  <span style=\"color: #f8f8f2; text-decoration-color: #f8f8f2; background-color: #272822\">inaug_date_epoch </span><span style=\"color: #ff4689; text-decoration-color: #ff4689; background-color: #272822\">=</span><span style=\"color: #f8f8f2; text-decoration-color: #f8f8f2; background-color: #272822\"> int(inaug_date</span><span style=\"color: #ff4689; text-decoration-color: #ff4689; background-color: #272822\">.</span><span style=\"color: #f8f8f2; text-decoration-color: #f8f8f2; background-color: #272822\">timestamp())</span><span style=\"background-color: #272822\">                                                                                                                                                      </span>  \n",
       "  <span style=\"color: #f8f8f2; text-decoration-color: #f8f8f2; background-color: #272822\">print(inaug_date_epoch)</span><span style=\"background-color: #272822\">                                                                                                                                                                             </span>  \n",
       " ────────────────────────────────────────────────────────────────────────────────────────────────────────────────────────────────────────────────────────────────────────────────────────────────────── \n",
       "</pre>\n"
      ],
      "text/plain": [
       " ─ \u001b[1mExecuting this code:\u001b[0m ─────────────────────────────────────────────────────────────────────────────────────────────────────────────────────────────────────────────────────────────────────────────── \n",
       "  \u001b[38;2;255;70;137;48;2;39;40;34mimport\u001b[0m\u001b[38;2;248;248;242;48;2;39;40;34m \u001b[0m\u001b[38;2;248;248;242;48;2;39;40;34mdatetime\u001b[0m\u001b[48;2;39;40;34m                                                                                                                                                                                     \u001b[0m  \n",
       "  \u001b[38;2;248;248;242;48;2;39;40;34minaug_date\u001b[0m\u001b[38;2;248;248;242;48;2;39;40;34m \u001b[0m\u001b[38;2;255;70;137;48;2;39;40;34m=\u001b[0m\u001b[38;2;248;248;242;48;2;39;40;34m \u001b[0m\u001b[38;2;248;248;242;48;2;39;40;34mdatetime\u001b[0m\u001b[38;2;255;70;137;48;2;39;40;34m.\u001b[0m\u001b[38;2;248;248;242;48;2;39;40;34mdatetime\u001b[0m\u001b[38;2;248;248;242;48;2;39;40;34m(\u001b[0m\u001b[38;2;174;129;255;48;2;39;40;34m2025\u001b[0m\u001b[38;2;248;248;242;48;2;39;40;34m,\u001b[0m\u001b[38;2;248;248;242;48;2;39;40;34m \u001b[0m\u001b[38;2;174;129;255;48;2;39;40;34m1\u001b[0m\u001b[38;2;248;248;242;48;2;39;40;34m,\u001b[0m\u001b[38;2;248;248;242;48;2;39;40;34m \u001b[0m\u001b[38;2;174;129;255;48;2;39;40;34m20\u001b[0m\u001b[38;2;248;248;242;48;2;39;40;34m)\u001b[0m\u001b[48;2;39;40;34m                                                                                                                                                         \u001b[0m  \n",
       "  \u001b[38;2;248;248;242;48;2;39;40;34minaug_date_epoch\u001b[0m\u001b[38;2;248;248;242;48;2;39;40;34m \u001b[0m\u001b[38;2;255;70;137;48;2;39;40;34m=\u001b[0m\u001b[38;2;248;248;242;48;2;39;40;34m \u001b[0m\u001b[38;2;248;248;242;48;2;39;40;34mint\u001b[0m\u001b[38;2;248;248;242;48;2;39;40;34m(\u001b[0m\u001b[38;2;248;248;242;48;2;39;40;34minaug_date\u001b[0m\u001b[38;2;255;70;137;48;2;39;40;34m.\u001b[0m\u001b[38;2;248;248;242;48;2;39;40;34mtimestamp\u001b[0m\u001b[38;2;248;248;242;48;2;39;40;34m(\u001b[0m\u001b[38;2;248;248;242;48;2;39;40;34m)\u001b[0m\u001b[38;2;248;248;242;48;2;39;40;34m)\u001b[0m\u001b[48;2;39;40;34m                                                                                                                                                      \u001b[0m  \n",
       "  \u001b[38;2;248;248;242;48;2;39;40;34mprint\u001b[0m\u001b[38;2;248;248;242;48;2;39;40;34m(\u001b[0m\u001b[38;2;248;248;242;48;2;39;40;34minaug_date_epoch\u001b[0m\u001b[38;2;248;248;242;48;2;39;40;34m)\u001b[0m\u001b[48;2;39;40;34m                                                                                                                                                                             \u001b[0m  \n",
       " ────────────────────────────────────────────────────────────────────────────────────────────────────────────────────────────────────────────────────────────────────────────────────────────────────── \n"
      ]
     },
     "metadata": {},
     "output_type": "display_data"
    },
    {
     "data": {
      "text/html": [
       "<pre style=\"white-space:pre;overflow-x:auto;line-height:normal;font-family:Menlo,'DejaVu Sans Mono',consolas,'Courier New',monospace\"><span style=\"font-weight: bold\">Execution logs:</span>\n",
       "1737331200\n",
       "\n",
       "Out: None\n",
       "</pre>\n"
      ],
      "text/plain": [
       "\u001b[1mExecution logs:\u001b[0m\n",
       "1737331200\n",
       "\n",
       "Out: None\n"
      ]
     },
     "metadata": {},
     "output_type": "display_data"
    },
    {
     "data": {
      "text/html": [
       "<pre style=\"white-space:pre;overflow-x:auto;line-height:normal;font-family:Menlo,'DejaVu Sans Mono',consolas,'Courier New',monospace\"><span style=\"color: #7f7f7f; text-decoration-color: #7f7f7f\">[Step 1: Duration 6.20 seconds| Input tokens: 5,323 | Output tokens: 168]</span>\n",
       "</pre>\n"
      ],
      "text/plain": [
       "\u001b[2m[Step 1: Duration 6.20 seconds| Input tokens: 5,323 | Output tokens: 168]\u001b[0m\n"
      ]
     },
     "metadata": {},
     "output_type": "display_data"
    },
    {
     "data": {
      "text/html": [
       "<pre style=\"white-space:pre;overflow-x:auto;line-height:normal;font-family:Menlo,'DejaVu Sans Mono',consolas,'Courier New',monospace\"><span style=\"color: #d4b702; text-decoration-color: #d4b702\">━━━━━━━━━━━━━━━━━━━━━━━━━━━━━━━━━━━━━━━━━━━━━━━━━━━━━━━━━━━━━━━━━━━━━━━━━━━━━━━━━━━━━━━━━━━━━━━━ </span><span style=\"font-weight: bold\">Step </span><span style=\"color: #008080; text-decoration-color: #008080; font-weight: bold\">2</span><span style=\"color: #d4b702; text-decoration-color: #d4b702\"> ━━━━━━━━━━━━━━━━━━━━━━━━━━━━━━━━━━━━━━━━━━━━━━━━━━━━━━━━━━━━━━━━━━━━━━━━━━━━━━━━━━━━━━━━━━━━━━━━</span>\n",
       "</pre>\n"
      ],
      "text/plain": [
       "\u001b[38;2;212;183;2m━━━━━━━━━━━━━━━━━━━━━━━━━━━━━━━━━━━━━━━━━━━━━━━━━━━━━━━━━━━━━━━━━━━━━━━━━━━━━━━━━━━━━━━━━━━━━━━━ \u001b[0m\u001b[1mStep \u001b[0m\u001b[1;36m2\u001b[0m\u001b[38;2;212;183;2m ━━━━━━━━━━━━━━━━━━━━━━━━━━━━━━━━━━━━━━━━━━━━━━━━━━━━━━━━━━━━━━━━━━━━━━━━━━━━━━━━━━━━━━━━━━━━━━━━\u001b[0m\n"
      ]
     },
     "metadata": {},
     "output_type": "display_data"
    },
    {
     "data": {
      "text/html": [
       "<pre style=\"white-space:pre;overflow-x:auto;line-height:normal;font-family:Menlo,'DejaVu Sans Mono',consolas,'Courier New',monospace\"> ─ <span style=\"font-weight: bold\">Executing this code:</span> ─────────────────────────────────────────────────────────────────────────────────────────────────────────────────────────────────────────────────────────────────────────────── \n",
       "  <span style=\"color: #ff4689; text-decoration-color: #ff4689; background-color: #272822\">import</span><span style=\"color: #f8f8f2; text-decoration-color: #f8f8f2; background-color: #272822\"> json</span><span style=\"background-color: #272822\">                                                                                                                                                                                         </span>  \n",
       "  <span style=\"color: #f8f8f2; text-decoration-color: #f8f8f2; background-color: #272822\">inaug_date_epoch </span><span style=\"color: #ff4689; text-decoration-color: #ff4689; background-color: #272822\">=</span><span style=\"color: #f8f8f2; text-decoration-color: #f8f8f2; background-color: #272822\"> </span><span style=\"color: #ae81ff; text-decoration-color: #ae81ff; background-color: #272822\">1737331200</span><span style=\"background-color: #272822\">                                                                                                                                                                       </span>  \n",
       "  <span style=\"color: #f8f8f2; text-decoration-color: #f8f8f2; background-color: #272822\">result </span><span style=\"color: #ff4689; text-decoration-color: #ff4689; background-color: #272822\">=</span><span style=\"color: #f8f8f2; text-decoration-color: #f8f8f2; background-color: #272822\"> json</span><span style=\"color: #ff4689; text-decoration-color: #ff4689; background-color: #272822\">.</span><span style=\"color: #f8f8f2; text-decoration-color: #f8f8f2; background-color: #272822\">dumps({</span><span style=\"color: #e6db74; text-decoration-color: #e6db74; background-color: #272822\">\"inaug_date\"</span><span style=\"color: #f8f8f2; text-decoration-color: #f8f8f2; background-color: #272822\">: inaug_date_epoch})</span><span style=\"background-color: #272822\">                                                                                                                                               </span>  \n",
       "  <span style=\"color: #f8f8f2; text-decoration-color: #f8f8f2; background-color: #272822\">final_answer(result)</span><span style=\"background-color: #272822\">                                                                                                                                                                                </span>  \n",
       " ────────────────────────────────────────────────────────────────────────────────────────────────────────────────────────────────────────────────────────────────────────────────────────────────────── \n",
       "</pre>\n"
      ],
      "text/plain": [
       " ─ \u001b[1mExecuting this code:\u001b[0m ─────────────────────────────────────────────────────────────────────────────────────────────────────────────────────────────────────────────────────────────────────────────── \n",
       "  \u001b[38;2;255;70;137;48;2;39;40;34mimport\u001b[0m\u001b[38;2;248;248;242;48;2;39;40;34m \u001b[0m\u001b[38;2;248;248;242;48;2;39;40;34mjson\u001b[0m\u001b[48;2;39;40;34m                                                                                                                                                                                         \u001b[0m  \n",
       "  \u001b[38;2;248;248;242;48;2;39;40;34minaug_date_epoch\u001b[0m\u001b[38;2;248;248;242;48;2;39;40;34m \u001b[0m\u001b[38;2;255;70;137;48;2;39;40;34m=\u001b[0m\u001b[38;2;248;248;242;48;2;39;40;34m \u001b[0m\u001b[38;2;174;129;255;48;2;39;40;34m1737331200\u001b[0m\u001b[48;2;39;40;34m                                                                                                                                                                       \u001b[0m  \n",
       "  \u001b[38;2;248;248;242;48;2;39;40;34mresult\u001b[0m\u001b[38;2;248;248;242;48;2;39;40;34m \u001b[0m\u001b[38;2;255;70;137;48;2;39;40;34m=\u001b[0m\u001b[38;2;248;248;242;48;2;39;40;34m \u001b[0m\u001b[38;2;248;248;242;48;2;39;40;34mjson\u001b[0m\u001b[38;2;255;70;137;48;2;39;40;34m.\u001b[0m\u001b[38;2;248;248;242;48;2;39;40;34mdumps\u001b[0m\u001b[38;2;248;248;242;48;2;39;40;34m(\u001b[0m\u001b[38;2;248;248;242;48;2;39;40;34m{\u001b[0m\u001b[38;2;230;219;116;48;2;39;40;34m\"\u001b[0m\u001b[38;2;230;219;116;48;2;39;40;34minaug_date\u001b[0m\u001b[38;2;230;219;116;48;2;39;40;34m\"\u001b[0m\u001b[38;2;248;248;242;48;2;39;40;34m:\u001b[0m\u001b[38;2;248;248;242;48;2;39;40;34m \u001b[0m\u001b[38;2;248;248;242;48;2;39;40;34minaug_date_epoch\u001b[0m\u001b[38;2;248;248;242;48;2;39;40;34m}\u001b[0m\u001b[38;2;248;248;242;48;2;39;40;34m)\u001b[0m\u001b[48;2;39;40;34m                                                                                                                                               \u001b[0m  \n",
       "  \u001b[38;2;248;248;242;48;2;39;40;34mfinal_answer\u001b[0m\u001b[38;2;248;248;242;48;2;39;40;34m(\u001b[0m\u001b[38;2;248;248;242;48;2;39;40;34mresult\u001b[0m\u001b[38;2;248;248;242;48;2;39;40;34m)\u001b[0m\u001b[48;2;39;40;34m                                                                                                                                                                                \u001b[0m  \n",
       " ────────────────────────────────────────────────────────────────────────────────────────────────────────────────────────────────────────────────────────────────────────────────────────────────────── \n"
      ]
     },
     "metadata": {},
     "output_type": "display_data"
    },
    {
     "data": {
      "text/html": [
       "<pre style=\"white-space:pre;overflow-x:auto;line-height:normal;font-family:Menlo,'DejaVu Sans Mono',consolas,'Courier New',monospace\"><span style=\"color: #800000; text-decoration-color: #800000; font-weight: bold\">Warning to user: Code execution failed due to an unauthorized import - Consider passing said import under `additional_authorized_imports` when initializing your CodeAgent.</span>\n",
       "</pre>\n"
      ],
      "text/plain": [
       "\u001b[1;31mWarning to user: Code execution failed due to an unauthorized import - Consider passing said import under `additional_authorized_imports` when initializing your CodeAgent.\u001b[0m\n"
      ]
     },
     "metadata": {},
     "output_type": "display_data"
    },
    {
     "data": {
      "text/html": [
       "<pre style=\"white-space:pre;overflow-x:auto;line-height:normal;font-family:Menlo,'DejaVu Sans Mono',consolas,'Courier New',monospace\"><span style=\"color: #800000; text-decoration-color: #800000; font-weight: bold\">Code execution failed at line </span><span style=\"color: #800000; text-decoration-color: #800000; font-weight: bold\">'import json'</span><span style=\"color: #800000; text-decoration-color: #800000; font-weight: bold\"> because of the following error:</span>\n",
       "<span style=\"color: #800000; text-decoration-color: #800000; font-weight: bold\">Import of json is not allowed. Authorized imports are: [</span><span style=\"color: #800000; text-decoration-color: #800000; font-weight: bold\">'time'</span><span style=\"color: #800000; text-decoration-color: #800000; font-weight: bold\">, </span><span style=\"color: #800000; text-decoration-color: #800000; font-weight: bold\">'random'</span><span style=\"color: #800000; text-decoration-color: #800000; font-weight: bold\">, </span><span style=\"color: #800000; text-decoration-color: #800000; font-weight: bold\">'math'</span><span style=\"color: #800000; text-decoration-color: #800000; font-weight: bold\">, </span><span style=\"color: #800000; text-decoration-color: #800000; font-weight: bold\">'datetime'</span><span style=\"color: #800000; text-decoration-color: #800000; font-weight: bold\">, </span><span style=\"color: #800000; text-decoration-color: #800000; font-weight: bold\">'itertools'</span><span style=\"color: #800000; text-decoration-color: #800000; font-weight: bold\">, </span><span style=\"color: #800000; text-decoration-color: #800000; font-weight: bold\">'stat'</span><span style=\"color: #800000; text-decoration-color: #800000; font-weight: bold\">, </span><span style=\"color: #800000; text-decoration-color: #800000; font-weight: bold\">'statistics'</span><span style=\"color: #800000; text-decoration-color: #800000; font-weight: bold\">, </span><span style=\"color: #800000; text-decoration-color: #800000; font-weight: bold\">'queue'</span><span style=\"color: #800000; text-decoration-color: #800000; font-weight: bold\">, </span><span style=\"color: #800000; text-decoration-color: #800000; font-weight: bold\">'collections'</span><span style=\"color: #800000; text-decoration-color: #800000; font-weight: bold\">, </span><span style=\"color: #800000; text-decoration-color: #800000; font-weight: bold\">'unicodedata'</span><span style=\"color: #800000; text-decoration-color: #800000; font-weight: bold\">, </span><span style=\"color: #800000; text-decoration-color: #800000; font-weight: bold\">'re'</span><span style=\"color: #800000; text-decoration-color: #800000; font-weight: bold\">]</span>\n",
       "</pre>\n"
      ],
      "text/plain": [
       "\u001b[1;31mCode execution failed at line \u001b[0m\u001b[1;31m'import json'\u001b[0m\u001b[1;31m because of the following error:\u001b[0m\n",
       "\u001b[1;31mImport of json is not allowed. Authorized imports are: \u001b[0m\u001b[1;31m[\u001b[0m\u001b[1;31m'time'\u001b[0m\u001b[1;31m, \u001b[0m\u001b[1;31m'random'\u001b[0m\u001b[1;31m, \u001b[0m\u001b[1;31m'math'\u001b[0m\u001b[1;31m, \u001b[0m\u001b[1;31m'datetime'\u001b[0m\u001b[1;31m, \u001b[0m\u001b[1;31m'itertools'\u001b[0m\u001b[1;31m, \u001b[0m\u001b[1;31m'stat'\u001b[0m\u001b[1;31m, \u001b[0m\u001b[1;31m'statistics'\u001b[0m\u001b[1;31m, \u001b[0m\u001b[1;31m'queue'\u001b[0m\u001b[1;31m, \u001b[0m\u001b[1;31m'collections'\u001b[0m\u001b[1;31m, \u001b[0m\u001b[1;31m'unicodedata'\u001b[0m\u001b[1;31m, \u001b[0m\u001b[1;31m're'\u001b[0m\u001b[1;31m]\u001b[0m\n"
      ]
     },
     "metadata": {},
     "output_type": "display_data"
    },
    {
     "data": {
      "text/html": [
       "<pre style=\"white-space:pre;overflow-x:auto;line-height:normal;font-family:Menlo,'DejaVu Sans Mono',consolas,'Courier New',monospace\"><span style=\"color: #7f7f7f; text-decoration-color: #7f7f7f\">[Step 2: Duration 3.92 seconds| Input tokens: 8,742 | Output tokens: 240]</span>\n",
       "</pre>\n"
      ],
      "text/plain": [
       "\u001b[2m[Step 2: Duration 3.92 seconds| Input tokens: 8,742 | Output tokens: 240]\u001b[0m\n"
      ]
     },
     "metadata": {},
     "output_type": "display_data"
    },
    {
     "data": {
      "text/html": [
       "<pre style=\"white-space:pre;overflow-x:auto;line-height:normal;font-family:Menlo,'DejaVu Sans Mono',consolas,'Courier New',monospace\"><span style=\"color: #d4b702; text-decoration-color: #d4b702\">━━━━━━━━━━━━━━━━━━━━━━━━━━━━━━━━━━━━━━━━━━━━━━━━━━━━━━━━━━━━━━━━━━━━━━━━━━━━━━━━━━━━━━━━━━━━━━━━ </span><span style=\"font-weight: bold\">Step </span><span style=\"color: #008080; text-decoration-color: #008080; font-weight: bold\">3</span><span style=\"color: #d4b702; text-decoration-color: #d4b702\"> ━━━━━━━━━━━━━━━━━━━━━━━━━━━━━━━━━━━━━━━━━━━━━━━━━━━━━━━━━━━━━━━━━━━━━━━━━━━━━━━━━━━━━━━━━━━━━━━━</span>\n",
       "</pre>\n"
      ],
      "text/plain": [
       "\u001b[38;2;212;183;2m━━━━━━━━━━━━━━━━━━━━━━━━━━━━━━━━━━━━━━━━━━━━━━━━━━━━━━━━━━━━━━━━━━━━━━━━━━━━━━━━━━━━━━━━━━━━━━━━ \u001b[0m\u001b[1mStep \u001b[0m\u001b[1;36m3\u001b[0m\u001b[38;2;212;183;2m ━━━━━━━━━━━━━━━━━━━━━━━━━━━━━━━━━━━━━━━━━━━━━━━━━━━━━━━━━━━━━━━━━━━━━━━━━━━━━━━━━━━━━━━━━━━━━━━━\u001b[0m\n"
      ]
     },
     "metadata": {},
     "output_type": "display_data"
    },
    {
     "data": {
      "text/html": [
       "<pre style=\"white-space:pre;overflow-x:auto;line-height:normal;font-family:Menlo,'DejaVu Sans Mono',consolas,'Courier New',monospace\"> ─ <span style=\"font-weight: bold\">Executing this code:</span> ─────────────────────────────────────────────────────────────────────────────────────────────────────────────────────────────────────────────────────────────────────────────── \n",
       "  <span style=\"color: #f8f8f2; text-decoration-color: #f8f8f2; background-color: #272822\">inaug_date_epoch </span><span style=\"color: #ff4689; text-decoration-color: #ff4689; background-color: #272822\">=</span><span style=\"color: #f8f8f2; text-decoration-color: #f8f8f2; background-color: #272822\"> </span><span style=\"color: #ae81ff; text-decoration-color: #ae81ff; background-color: #272822\">1737331200</span><span style=\"background-color: #272822\">                                                                                                                                                                       </span>  \n",
       "  <span style=\"color: #f8f8f2; text-decoration-color: #f8f8f2; background-color: #272822\">result </span><span style=\"color: #ff4689; text-decoration-color: #ff4689; background-color: #272822\">=</span><span style=\"color: #f8f8f2; text-decoration-color: #f8f8f2; background-color: #272822\"> </span><span style=\"color: #e6db74; text-decoration-color: #e6db74; background-color: #272822\">'{\"inaug_date\":'</span><span style=\"color: #ff4689; text-decoration-color: #ff4689; background-color: #272822\">+</span><span style=\"color: #f8f8f2; text-decoration-color: #f8f8f2; background-color: #272822\"> str(inaug_date_epoch) </span><span style=\"color: #ff4689; text-decoration-color: #ff4689; background-color: #272822\">+</span><span style=\"color: #f8f8f2; text-decoration-color: #f8f8f2; background-color: #272822\"> </span><span style=\"color: #e6db74; text-decoration-color: #e6db74; background-color: #272822\">'}'</span><span style=\"background-color: #272822\">                                                                                                                                              </span>  \n",
       "  <span style=\"color: #f8f8f2; text-decoration-color: #f8f8f2; background-color: #272822\">final_answer(result)</span><span style=\"background-color: #272822\">                                                                                                                                                                                </span>  \n",
       " ────────────────────────────────────────────────────────────────────────────────────────────────────────────────────────────────────────────────────────────────────────────────────────────────────── \n",
       "</pre>\n"
      ],
      "text/plain": [
       " ─ \u001b[1mExecuting this code:\u001b[0m ─────────────────────────────────────────────────────────────────────────────────────────────────────────────────────────────────────────────────────────────────────────────── \n",
       "  \u001b[38;2;248;248;242;48;2;39;40;34minaug_date_epoch\u001b[0m\u001b[38;2;248;248;242;48;2;39;40;34m \u001b[0m\u001b[38;2;255;70;137;48;2;39;40;34m=\u001b[0m\u001b[38;2;248;248;242;48;2;39;40;34m \u001b[0m\u001b[38;2;174;129;255;48;2;39;40;34m1737331200\u001b[0m\u001b[48;2;39;40;34m                                                                                                                                                                       \u001b[0m  \n",
       "  \u001b[38;2;248;248;242;48;2;39;40;34mresult\u001b[0m\u001b[38;2;248;248;242;48;2;39;40;34m \u001b[0m\u001b[38;2;255;70;137;48;2;39;40;34m=\u001b[0m\u001b[38;2;248;248;242;48;2;39;40;34m \u001b[0m\u001b[38;2;230;219;116;48;2;39;40;34m'\u001b[0m\u001b[38;2;230;219;116;48;2;39;40;34m{\u001b[0m\u001b[38;2;230;219;116;48;2;39;40;34m\"\u001b[0m\u001b[38;2;230;219;116;48;2;39;40;34minaug_date\u001b[0m\u001b[38;2;230;219;116;48;2;39;40;34m\"\u001b[0m\u001b[38;2;230;219;116;48;2;39;40;34m:\u001b[0m\u001b[38;2;230;219;116;48;2;39;40;34m'\u001b[0m\u001b[38;2;255;70;137;48;2;39;40;34m+\u001b[0m\u001b[38;2;248;248;242;48;2;39;40;34m \u001b[0m\u001b[38;2;248;248;242;48;2;39;40;34mstr\u001b[0m\u001b[38;2;248;248;242;48;2;39;40;34m(\u001b[0m\u001b[38;2;248;248;242;48;2;39;40;34minaug_date_epoch\u001b[0m\u001b[38;2;248;248;242;48;2;39;40;34m)\u001b[0m\u001b[38;2;248;248;242;48;2;39;40;34m \u001b[0m\u001b[38;2;255;70;137;48;2;39;40;34m+\u001b[0m\u001b[38;2;248;248;242;48;2;39;40;34m \u001b[0m\u001b[38;2;230;219;116;48;2;39;40;34m'\u001b[0m\u001b[38;2;230;219;116;48;2;39;40;34m}\u001b[0m\u001b[38;2;230;219;116;48;2;39;40;34m'\u001b[0m\u001b[48;2;39;40;34m                                                                                                                                              \u001b[0m  \n",
       "  \u001b[38;2;248;248;242;48;2;39;40;34mfinal_answer\u001b[0m\u001b[38;2;248;248;242;48;2;39;40;34m(\u001b[0m\u001b[38;2;248;248;242;48;2;39;40;34mresult\u001b[0m\u001b[38;2;248;248;242;48;2;39;40;34m)\u001b[0m\u001b[48;2;39;40;34m                                                                                                                                                                                \u001b[0m  \n",
       " ────────────────────────────────────────────────────────────────────────────────────────────────────────────────────────────────────────────────────────────────────────────────────────────────────── \n"
      ]
     },
     "metadata": {},
     "output_type": "display_data"
    },
    {
     "data": {
      "text/html": [
       "<pre style=\"white-space:pre;overflow-x:auto;line-height:normal;font-family:Menlo,'DejaVu Sans Mono',consolas,'Courier New',monospace\"><span style=\"color: #d4b702; text-decoration-color: #d4b702; font-weight: bold\">Out - Final answer: {\"inaug_date\":1737331200}</span>\n",
       "</pre>\n"
      ],
      "text/plain": [
       "\u001b[1;38;2;212;183;2mOut - Final answer: {\"inaug_date\":1737331200}\u001b[0m\n"
      ]
     },
     "metadata": {},
     "output_type": "display_data"
    },
    {
     "data": {
      "text/html": [
       "<pre style=\"white-space:pre;overflow-x:auto;line-height:normal;font-family:Menlo,'DejaVu Sans Mono',consolas,'Courier New',monospace\"><span style=\"color: #7f7f7f; text-decoration-color: #7f7f7f\">[Step 3: Duration 3.63 seconds| Input tokens: 12,407 | Output tokens: 306]</span>\n",
       "</pre>\n"
      ],
      "text/plain": [
       "\u001b[2m[Step 3: Duration 3.63 seconds| Input tokens: 12,407 | Output tokens: 306]\u001b[0m\n"
      ]
     },
     "metadata": {},
     "output_type": "display_data"
    },
    {
     "data": {
      "text/plain": [
       "'{\"inaug_date\":1737331200}'"
      ]
     },
     "execution_count": 15,
     "metadata": {},
     "output_type": "execute_result"
    }
   ],
   "source": [
    "# TODO: Create an agent with our tools\n",
    "\n",
    "agent.run(\"\"\"\n",
    "          What is the Trump's inauguration date for his second presidency? \n",
    "          Give the result as a JSON object. \n",
    "          Put the date in an attribute called inaug_date as unix epoch\n",
    "\"\"\")"
   ]
  },
  {
   "cell_type": "code",
   "execution_count": null,
   "metadata": {},
   "outputs": [],
   "source": [
    "#TODO: Run an inference\n",
    "\n"
   ]
  },
  {
   "cell_type": "code",
   "execution_count": 32,
   "metadata": {},
   "outputs": [],
   "source": [
    "# TODO: Create an agent with our own tools\n",
    "\n",
    "tools = [\n",
    "   get_latlng, get_temperature, \n",
    "   SQLiteTool('data/chinook_sqlite.sqlite'), DuckDuckGoSearchTool()\n",
    "]\n",
    "\n",
    "agent_model = HfApiModel(model_id=model, token=HF_TOKEN)\n",
    "agent = CodeAgent(\n",
    "   tools=tools, model=agent_model, add_base_tools=False, \n",
    "   max_steps=10,\n",
    "   additional_authorized_imports = [ \"sqlite3\", \"json\" ],\n",
    ")"
   ]
  },
  {
   "cell_type": "code",
   "execution_count": 21,
   "metadata": {},
   "outputs": [
    {
     "data": {
      "text/html": [
       "<pre style=\"white-space:pre;overflow-x:auto;line-height:normal;font-family:Menlo,'DejaVu Sans Mono',consolas,'Courier New',monospace\"><span style=\"color: #d4b702; text-decoration-color: #d4b702\">╭────────────────────────────────────────────────────────────────────────────────────────────── </span><span style=\"color: #d4b702; text-decoration-color: #d4b702; font-weight: bold\">New run</span><span style=\"color: #d4b702; text-decoration-color: #d4b702\"> ───────────────────────────────────────────────────────────────────────────────────────────────╮</span>\n",
       "<span style=\"color: #d4b702; text-decoration-color: #d4b702\">│</span>                                                                                                                                                                                                      <span style=\"color: #d4b702; text-decoration-color: #d4b702\">│</span>\n",
       "<span style=\"color: #d4b702; text-decoration-color: #d4b702\">│</span> <span style=\"font-weight: bold\">What is the current temperature in New York? Do not use DuckDuckGo if you cannot get the temperature. Say I don't know</span>                                                                               <span style=\"color: #d4b702; text-decoration-color: #d4b702\">│</span>\n",
       "<span style=\"color: #d4b702; text-decoration-color: #d4b702\">│</span>                                                                                                                                                                                                      <span style=\"color: #d4b702; text-decoration-color: #d4b702\">│</span>\n",
       "<span style=\"color: #d4b702; text-decoration-color: #d4b702\">╰─ HfApiModel - meta-llama/Llama-3.3-70B-Instruct ─────────────────────────────────────────────────────────────────────────────────────────────────────────────────────────────────────────────────────╯</span>\n",
       "</pre>\n"
      ],
      "text/plain": [
       "\u001b[38;2;212;183;2m╭─\u001b[0m\u001b[38;2;212;183;2m─────────────────────────────────────────────────────────────────────────────────────────────\u001b[0m\u001b[38;2;212;183;2m \u001b[0m\u001b[1;38;2;212;183;2mNew run\u001b[0m\u001b[38;2;212;183;2m \u001b[0m\u001b[38;2;212;183;2m──────────────────────────────────────────────────────────────────────────────────────────────\u001b[0m\u001b[38;2;212;183;2m─╮\u001b[0m\n",
       "\u001b[38;2;212;183;2m│\u001b[0m                                                                                                                                                                                                      \u001b[38;2;212;183;2m│\u001b[0m\n",
       "\u001b[38;2;212;183;2m│\u001b[0m \u001b[1mWhat is the current temperature in New York? Do not use DuckDuckGo if you cannot get the temperature. Say I don't know\u001b[0m                                                                               \u001b[38;2;212;183;2m│\u001b[0m\n",
       "\u001b[38;2;212;183;2m│\u001b[0m                                                                                                                                                                                                      \u001b[38;2;212;183;2m│\u001b[0m\n",
       "\u001b[38;2;212;183;2m╰─\u001b[0m\u001b[38;2;212;183;2m HfApiModel - meta-llama/Llama-3.3-70B-Instruct \u001b[0m\u001b[38;2;212;183;2m────────────────────────────────────────────────────────────────────────────────────────────────────────────────────────────────────────────────────\u001b[0m\u001b[38;2;212;183;2m─╯\u001b[0m\n"
      ]
     },
     "metadata": {},
     "output_type": "display_data"
    },
    {
     "data": {
      "text/html": [
       "<pre style=\"white-space:pre;overflow-x:auto;line-height:normal;font-family:Menlo,'DejaVu Sans Mono',consolas,'Courier New',monospace\"><span style=\"color: #d4b702; text-decoration-color: #d4b702\">━━━━━━━━━━━━━━━━━━━━━━━━━━━━━━━━━━━━━━━━━━━━━━━━━━━━━━━━━━━━━━━━━━━━━━━━━━━━━━━━━━━━━━━━━━━━━━━━ </span><span style=\"font-weight: bold\">Step </span><span style=\"color: #008080; text-decoration-color: #008080; font-weight: bold\">0</span><span style=\"color: #d4b702; text-decoration-color: #d4b702\"> ━━━━━━━━━━━━━━━━━━━━━━━━━━━━━━━━━━━━━━━━━━━━━━━━━━━━━━━━━━━━━━━━━━━━━━━━━━━━━━━━━━━━━━━━━━━━━━━━</span>\n",
       "</pre>\n"
      ],
      "text/plain": [
       "\u001b[38;2;212;183;2m━━━━━━━━━━━━━━━━━━━━━━━━━━━━━━━━━━━━━━━━━━━━━━━━━━━━━━━━━━━━━━━━━━━━━━━━━━━━━━━━━━━━━━━━━━━━━━━━ \u001b[0m\u001b[1mStep \u001b[0m\u001b[1;36m0\u001b[0m\u001b[38;2;212;183;2m ━━━━━━━━━━━━━━━━━━━━━━━━━━━━━━━━━━━━━━━━━━━━━━━━━━━━━━━━━━━━━━━━━━━━━━━━━━━━━━━━━━━━━━━━━━━━━━━━\u001b[0m\n"
      ]
     },
     "metadata": {},
     "output_type": "display_data"
    },
    {
     "data": {
      "text/html": [
       "<pre style=\"white-space:pre;overflow-x:auto;line-height:normal;font-family:Menlo,'DejaVu Sans Mono',consolas,'Courier New',monospace\"> ─ <span style=\"font-weight: bold\">Executing this code:</span> ─────────────────────────────────────────────────────────────────────────────────────────────────────────────────────────────────────────────────────────────────────────────── \n",
       "  <span style=\"color: #f8f8f2; text-decoration-color: #f8f8f2; background-color: #272822\">new_york_coords </span><span style=\"color: #ff4689; text-decoration-color: #ff4689; background-color: #272822\">=</span><span style=\"color: #f8f8f2; text-decoration-color: #f8f8f2; background-color: #272822\"> get_latlng(city</span><span style=\"color: #ff4689; text-decoration-color: #ff4689; background-color: #272822\">=</span><span style=\"color: #e6db74; text-decoration-color: #e6db74; background-color: #272822\">\"New York\"</span><span style=\"color: #f8f8f2; text-decoration-color: #f8f8f2; background-color: #272822\">)</span><span style=\"background-color: #272822\">                                                                                                                                                       </span>  \n",
       "  <span style=\"color: #f8f8f2; text-decoration-color: #f8f8f2; background-color: #272822\">print(new_york_coords)</span><span style=\"background-color: #272822\">                                                                                                                                                                              </span>  \n",
       " ────────────────────────────────────────────────────────────────────────────────────────────────────────────────────────────────────────────────────────────────────────────────────────────────────── \n",
       "</pre>\n"
      ],
      "text/plain": [
       " ─ \u001b[1mExecuting this code:\u001b[0m ─────────────────────────────────────────────────────────────────────────────────────────────────────────────────────────────────────────────────────────────────────────────── \n",
       "  \u001b[38;2;248;248;242;48;2;39;40;34mnew_york_coords\u001b[0m\u001b[38;2;248;248;242;48;2;39;40;34m \u001b[0m\u001b[38;2;255;70;137;48;2;39;40;34m=\u001b[0m\u001b[38;2;248;248;242;48;2;39;40;34m \u001b[0m\u001b[38;2;248;248;242;48;2;39;40;34mget_latlng\u001b[0m\u001b[38;2;248;248;242;48;2;39;40;34m(\u001b[0m\u001b[38;2;248;248;242;48;2;39;40;34mcity\u001b[0m\u001b[38;2;255;70;137;48;2;39;40;34m=\u001b[0m\u001b[38;2;230;219;116;48;2;39;40;34m\"\u001b[0m\u001b[38;2;230;219;116;48;2;39;40;34mNew York\u001b[0m\u001b[38;2;230;219;116;48;2;39;40;34m\"\u001b[0m\u001b[38;2;248;248;242;48;2;39;40;34m)\u001b[0m\u001b[48;2;39;40;34m                                                                                                                                                       \u001b[0m  \n",
       "  \u001b[38;2;248;248;242;48;2;39;40;34mprint\u001b[0m\u001b[38;2;248;248;242;48;2;39;40;34m(\u001b[0m\u001b[38;2;248;248;242;48;2;39;40;34mnew_york_coords\u001b[0m\u001b[38;2;248;248;242;48;2;39;40;34m)\u001b[0m\u001b[48;2;39;40;34m                                                                                                                                                                              \u001b[0m  \n",
       " ────────────────────────────────────────────────────────────────────────────────────────────────────────────────────────────────────────────────────────────────────────────────────────────────────── \n"
      ]
     },
     "metadata": {},
     "output_type": "display_data"
    },
    {
     "data": {
      "text/html": [
       "<pre style=\"white-space:pre;overflow-x:auto;line-height:normal;font-family:Menlo,'DejaVu Sans Mono',consolas,'Courier New',monospace\"><span style=\"font-weight: bold\">Execution logs:</span>\n",
       "None\n",
       "\n",
       "Out: None\n",
       "</pre>\n"
      ],
      "text/plain": [
       "\u001b[1mExecution logs:\u001b[0m\n",
       "None\n",
       "\n",
       "Out: None\n"
      ]
     },
     "metadata": {},
     "output_type": "display_data"
    },
    {
     "data": {
      "text/html": [
       "<pre style=\"white-space:pre;overflow-x:auto;line-height:normal;font-family:Menlo,'DejaVu Sans Mono',consolas,'Courier New',monospace\"><span style=\"color: #7f7f7f; text-decoration-color: #7f7f7f\">[Step 0: Duration 4.00 seconds| Input tokens: 2,313 | Output tokens: 69]</span>\n",
       "</pre>\n"
      ],
      "text/plain": [
       "\u001b[2m[Step 0: Duration 4.00 seconds| Input tokens: 2,313 | Output tokens: 69]\u001b[0m\n"
      ]
     },
     "metadata": {},
     "output_type": "display_data"
    },
    {
     "data": {
      "text/html": [
       "<pre style=\"white-space:pre;overflow-x:auto;line-height:normal;font-family:Menlo,'DejaVu Sans Mono',consolas,'Courier New',monospace\"><span style=\"color: #d4b702; text-decoration-color: #d4b702\">━━━━━━━━━━━━━━━━━━━━━━━━━━━━━━━━━━━━━━━━━━━━━━━━━━━━━━━━━━━━━━━━━━━━━━━━━━━━━━━━━━━━━━━━━━━━━━━━ </span><span style=\"font-weight: bold\">Step </span><span style=\"color: #008080; text-decoration-color: #008080; font-weight: bold\">1</span><span style=\"color: #d4b702; text-decoration-color: #d4b702\"> ━━━━━━━━━━━━━━━━━━━━━━━━━━━━━━━━━━━━━━━━━━━━━━━━━━━━━━━━━━━━━━━━━━━━━━━━━━━━━━━━━━━━━━━━━━━━━━━━</span>\n",
       "</pre>\n"
      ],
      "text/plain": [
       "\u001b[38;2;212;183;2m━━━━━━━━━━━━━━━━━━━━━━━━━━━━━━━━━━━━━━━━━━━━━━━━━━━━━━━━━━━━━━━━━━━━━━━━━━━━━━━━━━━━━━━━━━━━━━━━ \u001b[0m\u001b[1mStep \u001b[0m\u001b[1;36m1\u001b[0m\u001b[38;2;212;183;2m ━━━━━━━━━━━━━━━━━━━━━━━━━━━━━━━━━━━━━━━━━━━━━━━━━━━━━━━━━━━━━━━━━━━━━━━━━━━━━━━━━━━━━━━━━━━━━━━━\u001b[0m\n"
      ]
     },
     "metadata": {},
     "output_type": "display_data"
    },
    {
     "data": {
      "text/html": [
       "<pre style=\"white-space:pre;overflow-x:auto;line-height:normal;font-family:Menlo,'DejaVu Sans Mono',consolas,'Courier New',monospace\"> ─ <span style=\"font-weight: bold\">Executing this code:</span> ─────────────────────────────────────────────────────────────────────────────────────────────────────────────────────────────────────────────────────────────────────────────── \n",
       "  <span style=\"color: #f8f8f2; text-decoration-color: #f8f8f2; background-color: #272822\">final_answer(</span><span style=\"color: #e6db74; text-decoration-color: #e6db74; background-color: #272822\">\"I don't know\"</span><span style=\"color: #f8f8f2; text-decoration-color: #f8f8f2; background-color: #272822\">)</span><span style=\"background-color: #272822\">                                                                                                                                                                        </span>  \n",
       " ────────────────────────────────────────────────────────────────────────────────────────────────────────────────────────────────────────────────────────────────────────────────────────────────────── \n",
       "</pre>\n"
      ],
      "text/plain": [
       " ─ \u001b[1mExecuting this code:\u001b[0m ─────────────────────────────────────────────────────────────────────────────────────────────────────────────────────────────────────────────────────────────────────────────── \n",
       "  \u001b[38;2;248;248;242;48;2;39;40;34mfinal_answer\u001b[0m\u001b[38;2;248;248;242;48;2;39;40;34m(\u001b[0m\u001b[38;2;230;219;116;48;2;39;40;34m\"\u001b[0m\u001b[38;2;230;219;116;48;2;39;40;34mI don\u001b[0m\u001b[38;2;230;219;116;48;2;39;40;34m'\u001b[0m\u001b[38;2;230;219;116;48;2;39;40;34mt know\u001b[0m\u001b[38;2;230;219;116;48;2;39;40;34m\"\u001b[0m\u001b[38;2;248;248;242;48;2;39;40;34m)\u001b[0m\u001b[48;2;39;40;34m                                                                                                                                                                        \u001b[0m  \n",
       " ────────────────────────────────────────────────────────────────────────────────────────────────────────────────────────────────────────────────────────────────────────────────────────────────────── \n"
      ]
     },
     "metadata": {},
     "output_type": "display_data"
    },
    {
     "data": {
      "text/html": [
       "<pre style=\"white-space:pre;overflow-x:auto;line-height:normal;font-family:Menlo,'DejaVu Sans Mono',consolas,'Courier New',monospace\"><span style=\"color: #d4b702; text-decoration-color: #d4b702; font-weight: bold\">Out - Final answer: I don't know</span>\n",
       "</pre>\n"
      ],
      "text/plain": [
       "\u001b[1;38;2;212;183;2mOut - Final answer: I don't know\u001b[0m\n"
      ]
     },
     "metadata": {},
     "output_type": "display_data"
    },
    {
     "data": {
      "text/html": [
       "<pre style=\"white-space:pre;overflow-x:auto;line-height:normal;font-family:Menlo,'DejaVu Sans Mono',consolas,'Courier New',monospace\"><span style=\"color: #7f7f7f; text-decoration-color: #7f7f7f\">[Step 1: Duration 3.81 seconds| Input tokens: 4,781 | Output tokens: 129]</span>\n",
       "</pre>\n"
      ],
      "text/plain": [
       "\u001b[2m[Step 1: Duration 3.81 seconds| Input tokens: 4,781 | Output tokens: 129]\u001b[0m\n"
      ]
     },
     "metadata": {},
     "output_type": "display_data"
    },
    {
     "data": {
      "text/plain": [
       "\"I don't know\""
      ]
     },
     "execution_count": 21,
     "metadata": {},
     "output_type": "execute_result"
    }
   ],
   "source": [
    "# TODO: Perform a search with DuckDuckGo\n",
    "agent.run(\"What is the current temperature in New York? Do not use DuckDuckGo if you cannot get the temperature. Say I don't know\")"
   ]
  },
  {
   "cell_type": "code",
   "execution_count": null,
   "metadata": {},
   "outputs": [],
   "source": [
    "# TODO: Perform task with get_latlng and get_temperature function\n",
    "# TODO: Will switch to duckduckgo if cannot get the temperature from custom functions"
   ]
  },
  {
   "cell_type": "code",
   "execution_count": 30,
   "metadata": {},
   "outputs": [
    {
     "data": {
      "text/html": [
       "<pre style=\"white-space:pre;overflow-x:auto;line-height:normal;font-family:Menlo,'DejaVu Sans Mono',consolas,'Courier New',monospace\"><span style=\"color: #d4b702; text-decoration-color: #d4b702\">╭────────────────────────────────────────────────────────────────────────────────────────────── </span><span style=\"color: #d4b702; text-decoration-color: #d4b702; font-weight: bold\">New run</span><span style=\"color: #d4b702; text-decoration-color: #d4b702\"> ───────────────────────────────────────────────────────────────────────────────────────────────╮</span>\n",
       "<span style=\"color: #d4b702; text-decoration-color: #d4b702\">│</span>                                                                                                                                                                                                      <span style=\"color: #d4b702; text-decoration-color: #d4b702\">│</span>\n",
       "<span style=\"color: #d4b702; text-decoration-color: #d4b702\">│</span> <span style=\"font-weight: bold\">List all the songs by michael jackson. </span>                                                                                                                                                              <span style=\"color: #d4b702; text-decoration-color: #d4b702\">│</span>\n",
       "<span style=\"color: #d4b702; text-decoration-color: #d4b702\">│</span> <span style=\"font-weight: bold\">   Display the songs in a number list starting from 1.</span>                                                                                                                                               <span style=\"color: #d4b702; text-decoration-color: #d4b702\">│</span>\n",
       "<span style=\"color: #d4b702; text-decoration-color: #d4b702\">│</span> <span style=\"font-weight: bold\">   Do not use DuckDuckGo.</span>                                                                                                                                                                            <span style=\"color: #d4b702; text-decoration-color: #d4b702\">│</span>\n",
       "<span style=\"color: #d4b702; text-decoration-color: #d4b702\">│</span>                                                                                                                                                                                                      <span style=\"color: #d4b702; text-decoration-color: #d4b702\">│</span>\n",
       "<span style=\"color: #d4b702; text-decoration-color: #d4b702\">╰─ HfApiModel - meta-llama/Llama-3.3-70B-Instruct ─────────────────────────────────────────────────────────────────────────────────────────────────────────────────────────────────────────────────────╯</span>\n",
       "</pre>\n"
      ],
      "text/plain": [
       "\u001b[38;2;212;183;2m╭─\u001b[0m\u001b[38;2;212;183;2m─────────────────────────────────────────────────────────────────────────────────────────────\u001b[0m\u001b[38;2;212;183;2m \u001b[0m\u001b[1;38;2;212;183;2mNew run\u001b[0m\u001b[38;2;212;183;2m \u001b[0m\u001b[38;2;212;183;2m──────────────────────────────────────────────────────────────────────────────────────────────\u001b[0m\u001b[38;2;212;183;2m─╮\u001b[0m\n",
       "\u001b[38;2;212;183;2m│\u001b[0m                                                                                                                                                                                                      \u001b[38;2;212;183;2m│\u001b[0m\n",
       "\u001b[38;2;212;183;2m│\u001b[0m \u001b[1mList all the songs by michael jackson. \u001b[0m                                                                                                                                                              \u001b[38;2;212;183;2m│\u001b[0m\n",
       "\u001b[38;2;212;183;2m│\u001b[0m \u001b[1m   Display the songs in a number list starting from 1.\u001b[0m                                                                                                                                               \u001b[38;2;212;183;2m│\u001b[0m\n",
       "\u001b[38;2;212;183;2m│\u001b[0m \u001b[1m   Do not use DuckDuckGo.\u001b[0m                                                                                                                                                                            \u001b[38;2;212;183;2m│\u001b[0m\n",
       "\u001b[38;2;212;183;2m│\u001b[0m                                                                                                                                                                                                      \u001b[38;2;212;183;2m│\u001b[0m\n",
       "\u001b[38;2;212;183;2m╰─\u001b[0m\u001b[38;2;212;183;2m HfApiModel - meta-llama/Llama-3.3-70B-Instruct \u001b[0m\u001b[38;2;212;183;2m────────────────────────────────────────────────────────────────────────────────────────────────────────────────────────────────────────────────────\u001b[0m\u001b[38;2;212;183;2m─╯\u001b[0m\n"
      ]
     },
     "metadata": {},
     "output_type": "display_data"
    },
    {
     "data": {
      "text/html": [
       "<pre style=\"white-space:pre;overflow-x:auto;line-height:normal;font-family:Menlo,'DejaVu Sans Mono',consolas,'Courier New',monospace\"><span style=\"color: #d4b702; text-decoration-color: #d4b702\">━━━━━━━━━━━━━━━━━━━━━━━━━━━━━━━━━━━━━━━━━━━━━━━━━━━━━━━━━━━━━━━━━━━━━━━━━━━━━━━━━━━━━━━━━━━━━━━━ </span><span style=\"font-weight: bold\">Step </span><span style=\"color: #008080; text-decoration-color: #008080; font-weight: bold\">0</span><span style=\"color: #d4b702; text-decoration-color: #d4b702\"> ━━━━━━━━━━━━━━━━━━━━━━━━━━━━━━━━━━━━━━━━━━━━━━━━━━━━━━━━━━━━━━━━━━━━━━━━━━━━━━━━━━━━━━━━━━━━━━━━</span>\n",
       "</pre>\n"
      ],
      "text/plain": [
       "\u001b[38;2;212;183;2m━━━━━━━━━━━━━━━━━━━━━━━━━━━━━━━━━━━━━━━━━━━━━━━━━━━━━━━━━━━━━━━━━━━━━━━━━━━━━━━━━━━━━━━━━━━━━━━━ \u001b[0m\u001b[1mStep \u001b[0m\u001b[1;36m0\u001b[0m\u001b[38;2;212;183;2m ━━━━━━━━━━━━━━━━━━━━━━━━━━━━━━━━━━━━━━━━━━━━━━━━━━━━━━━━━━━━━━━━━━━━━━━━━━━━━━━━━━━━━━━━━━━━━━━━\u001b[0m\n"
      ]
     },
     "metadata": {},
     "output_type": "display_data"
    },
    {
     "data": {
      "text/html": [
       "<pre style=\"white-space:pre;overflow-x:auto;line-height:normal;font-family:Menlo,'DejaVu Sans Mono',consolas,'Courier New',monospace\"> ─ <span style=\"font-weight: bold\">Executing this code:</span> ─────────────────────────────────────────────────────────────────────────────────────────────────────────────────────────────────────────────────────────────────────────────── \n",
       "  <span style=\"color: #f8f8f2; text-decoration-color: #f8f8f2; background-color: #272822\">michael_jackson_songs </span><span style=\"color: #ff4689; text-decoration-color: #ff4689; background-color: #272822\">=</span><span style=\"color: #f8f8f2; text-decoration-color: #f8f8f2; background-color: #272822\"> chinook_sqlite(query</span><span style=\"color: #ff4689; text-decoration-color: #ff4689; background-color: #272822\">=</span><span style=\"color: #e6db74; text-decoration-color: #e6db74; background-color: #272822\">\"SELECT track_name FROM album_track WHERE artist_name = 'Michael Jackson'\"</span><span style=\"color: #f8f8f2; text-decoration-color: #f8f8f2; background-color: #272822\">)</span><span style=\"background-color: #272822\">                                                                            </span>  \n",
       "  <span style=\"color: #f8f8f2; text-decoration-color: #f8f8f2; background-color: #272822\">print(michael_jackson_songs)</span><span style=\"background-color: #272822\">                                                                                                                                                                        </span>  \n",
       " ────────────────────────────────────────────────────────────────────────────────────────────────────────────────────────────────────────────────────────────────────────────────────────────────────── \n",
       "</pre>\n"
      ],
      "text/plain": [
       " ─ \u001b[1mExecuting this code:\u001b[0m ─────────────────────────────────────────────────────────────────────────────────────────────────────────────────────────────────────────────────────────────────────────────── \n",
       "  \u001b[38;2;248;248;242;48;2;39;40;34mmichael_jackson_songs\u001b[0m\u001b[38;2;248;248;242;48;2;39;40;34m \u001b[0m\u001b[38;2;255;70;137;48;2;39;40;34m=\u001b[0m\u001b[38;2;248;248;242;48;2;39;40;34m \u001b[0m\u001b[38;2;248;248;242;48;2;39;40;34mchinook_sqlite\u001b[0m\u001b[38;2;248;248;242;48;2;39;40;34m(\u001b[0m\u001b[38;2;248;248;242;48;2;39;40;34mquery\u001b[0m\u001b[38;2;255;70;137;48;2;39;40;34m=\u001b[0m\u001b[38;2;230;219;116;48;2;39;40;34m\"\u001b[0m\u001b[38;2;230;219;116;48;2;39;40;34mSELECT track_name FROM album_track WHERE artist_name = \u001b[0m\u001b[38;2;230;219;116;48;2;39;40;34m'\u001b[0m\u001b[38;2;230;219;116;48;2;39;40;34mMichael Jackson\u001b[0m\u001b[38;2;230;219;116;48;2;39;40;34m'\u001b[0m\u001b[38;2;230;219;116;48;2;39;40;34m\"\u001b[0m\u001b[38;2;248;248;242;48;2;39;40;34m)\u001b[0m\u001b[48;2;39;40;34m                                                                            \u001b[0m  \n",
       "  \u001b[38;2;248;248;242;48;2;39;40;34mprint\u001b[0m\u001b[38;2;248;248;242;48;2;39;40;34m(\u001b[0m\u001b[38;2;248;248;242;48;2;39;40;34mmichael_jackson_songs\u001b[0m\u001b[38;2;248;248;242;48;2;39;40;34m)\u001b[0m\u001b[48;2;39;40;34m                                                                                                                                                                        \u001b[0m  \n",
       " ────────────────────────────────────────────────────────────────────────────────────────────────────────────────────────────────────────────────────────────────────────────────────────────────────── \n"
      ]
     },
     "metadata": {},
     "output_type": "display_data"
    },
    {
     "data": {
      "text/html": [
       "<pre style=\"white-space:pre;overflow-x:auto;line-height:normal;font-family:Menlo,'DejaVu Sans Mono',consolas,'Courier New',monospace\"><span style=\"font-weight: bold\">Execution logs:</span>\n",
       "[]\n",
       "\n",
       "Out: None\n",
       "</pre>\n"
      ],
      "text/plain": [
       "\u001b[1mExecution logs:\u001b[0m\n",
       "[]\n",
       "\n",
       "Out: None\n"
      ]
     },
     "metadata": {},
     "output_type": "display_data"
    },
    {
     "data": {
      "text/html": [
       "<pre style=\"white-space:pre;overflow-x:auto;line-height:normal;font-family:Menlo,'DejaVu Sans Mono',consolas,'Courier New',monospace\"><span style=\"color: #7f7f7f; text-decoration-color: #7f7f7f\">[Step 0: Duration 0.28 seconds| Input tokens: 2,319 | Output tokens: 106]</span>\n",
       "</pre>\n"
      ],
      "text/plain": [
       "\u001b[2m[Step 0: Duration 0.28 seconds| Input tokens: 2,319 | Output tokens: 106]\u001b[0m\n"
      ]
     },
     "metadata": {},
     "output_type": "display_data"
    },
    {
     "data": {
      "text/html": [
       "<pre style=\"white-space:pre;overflow-x:auto;line-height:normal;font-family:Menlo,'DejaVu Sans Mono',consolas,'Courier New',monospace\"><span style=\"color: #d4b702; text-decoration-color: #d4b702\">━━━━━━━━━━━━━━━━━━━━━━━━━━━━━━━━━━━━━━━━━━━━━━━━━━━━━━━━━━━━━━━━━━━━━━━━━━━━━━━━━━━━━━━━━━━━━━━━ </span><span style=\"font-weight: bold\">Step </span><span style=\"color: #008080; text-decoration-color: #008080; font-weight: bold\">1</span><span style=\"color: #d4b702; text-decoration-color: #d4b702\"> ━━━━━━━━━━━━━━━━━━━━━━━━━━━━━━━━━━━━━━━━━━━━━━━━━━━━━━━━━━━━━━━━━━━━━━━━━━━━━━━━━━━━━━━━━━━━━━━━</span>\n",
       "</pre>\n"
      ],
      "text/plain": [
       "\u001b[38;2;212;183;2m━━━━━━━━━━━━━━━━━━━━━━━━━━━━━━━━━━━━━━━━━━━━━━━━━━━━━━━━━━━━━━━━━━━━━━━━━━━━━━━━━━━━━━━━━━━━━━━━ \u001b[0m\u001b[1mStep \u001b[0m\u001b[1;36m1\u001b[0m\u001b[38;2;212;183;2m ━━━━━━━━━━━━━━━━━━━━━━━━━━━━━━━━━━━━━━━━━━━━━━━━━━━━━━━━━━━━━━━━━━━━━━━━━━━━━━━━━━━━━━━━━━━━━━━━\u001b[0m\n"
      ]
     },
     "metadata": {},
     "output_type": "display_data"
    },
    {
     "data": {
      "text/html": [
       "<pre style=\"white-space:pre;overflow-x:auto;line-height:normal;font-family:Menlo,'DejaVu Sans Mono',consolas,'Courier New',monospace\"> ─ <span style=\"font-weight: bold\">Executing this code:</span> ─────────────────────────────────────────────────────────────────────────────────────────────────────────────────────────────────────────────────────────────────────────────── \n",
       "  <span style=\"color: #f8f8f2; text-decoration-color: #f8f8f2; background-color: #272822\">michael_jackson_songs </span><span style=\"color: #ff4689; text-decoration-color: #ff4689; background-color: #272822\">=</span><span style=\"color: #f8f8f2; text-decoration-color: #f8f8f2; background-color: #272822\"> chinook_sqlite(query</span><span style=\"color: #ff4689; text-decoration-color: #ff4689; background-color: #272822\">=</span><span style=\"color: #e6db74; text-decoration-color: #e6db74; background-color: #272822\">\"SELECT track_name FROM album_track WHERE LOWER(artist_name) LIKE '%michael jackson%'\"</span><span style=\"color: #f8f8f2; text-decoration-color: #f8f8f2; background-color: #272822\">)</span><span style=\"background-color: #272822\">                                                                </span>  \n",
       "  <span style=\"color: #f8f8f2; text-decoration-color: #f8f8f2; background-color: #272822\">print(michael_jackson_songs)</span><span style=\"background-color: #272822\">                                                                                                                                                                        </span>  \n",
       " ────────────────────────────────────────────────────────────────────────────────────────────────────────────────────────────────────────────────────────────────────────────────────────────────────── \n",
       "</pre>\n"
      ],
      "text/plain": [
       " ─ \u001b[1mExecuting this code:\u001b[0m ─────────────────────────────────────────────────────────────────────────────────────────────────────────────────────────────────────────────────────────────────────────────── \n",
       "  \u001b[38;2;248;248;242;48;2;39;40;34mmichael_jackson_songs\u001b[0m\u001b[38;2;248;248;242;48;2;39;40;34m \u001b[0m\u001b[38;2;255;70;137;48;2;39;40;34m=\u001b[0m\u001b[38;2;248;248;242;48;2;39;40;34m \u001b[0m\u001b[38;2;248;248;242;48;2;39;40;34mchinook_sqlite\u001b[0m\u001b[38;2;248;248;242;48;2;39;40;34m(\u001b[0m\u001b[38;2;248;248;242;48;2;39;40;34mquery\u001b[0m\u001b[38;2;255;70;137;48;2;39;40;34m=\u001b[0m\u001b[38;2;230;219;116;48;2;39;40;34m\"\u001b[0m\u001b[38;2;230;219;116;48;2;39;40;34mSELECT track_name FROM album_track WHERE LOWER(artist_name) LIKE \u001b[0m\u001b[38;2;230;219;116;48;2;39;40;34m'\u001b[0m\u001b[38;2;230;219;116;48;2;39;40;34m%\u001b[0m\u001b[38;2;230;219;116;48;2;39;40;34mmichael jackson\u001b[0m\u001b[38;2;230;219;116;48;2;39;40;34m%\u001b[0m\u001b[38;2;230;219;116;48;2;39;40;34m'\u001b[0m\u001b[38;2;230;219;116;48;2;39;40;34m\"\u001b[0m\u001b[38;2;248;248;242;48;2;39;40;34m)\u001b[0m\u001b[48;2;39;40;34m                                                                \u001b[0m  \n",
       "  \u001b[38;2;248;248;242;48;2;39;40;34mprint\u001b[0m\u001b[38;2;248;248;242;48;2;39;40;34m(\u001b[0m\u001b[38;2;248;248;242;48;2;39;40;34mmichael_jackson_songs\u001b[0m\u001b[38;2;248;248;242;48;2;39;40;34m)\u001b[0m\u001b[48;2;39;40;34m                                                                                                                                                                        \u001b[0m  \n",
       " ────────────────────────────────────────────────────────────────────────────────────────────────────────────────────────────────────────────────────────────────────────────────────────────────────── \n"
      ]
     },
     "metadata": {},
     "output_type": "display_data"
    },
    {
     "data": {
      "text/html": [
       "<pre style=\"white-space:pre;overflow-x:auto;line-height:normal;font-family:Menlo,'DejaVu Sans Mono',consolas,'Courier New',monospace\"><span style=\"font-weight: bold\">Execution logs:</span>\n",
       "[]\n",
       "\n",
       "Out: None\n",
       "</pre>\n"
      ],
      "text/plain": [
       "\u001b[1mExecution logs:\u001b[0m\n",
       "[]\n",
       "\n",
       "Out: None\n"
      ]
     },
     "metadata": {},
     "output_type": "display_data"
    },
    {
     "data": {
      "text/html": [
       "<pre style=\"white-space:pre;overflow-x:auto;line-height:normal;font-family:Menlo,'DejaVu Sans Mono',consolas,'Courier New',monospace\"><span style=\"color: #7f7f7f; text-decoration-color: #7f7f7f\">[Step 1: Duration 0.28 seconds| Input tokens: 4,846 | Output tokens: 227]</span>\n",
       "</pre>\n"
      ],
      "text/plain": [
       "\u001b[2m[Step 1: Duration 0.28 seconds| Input tokens: 4,846 | Output tokens: 227]\u001b[0m\n"
      ]
     },
     "metadata": {},
     "output_type": "display_data"
    },
    {
     "data": {
      "text/html": [
       "<pre style=\"white-space:pre;overflow-x:auto;line-height:normal;font-family:Menlo,'DejaVu Sans Mono',consolas,'Courier New',monospace\"><span style=\"color: #d4b702; text-decoration-color: #d4b702\">━━━━━━━━━━━━━━━━━━━━━━━━━━━━━━━━━━━━━━━━━━━━━━━━━━━━━━━━━━━━━━━━━━━━━━━━━━━━━━━━━━━━━━━━━━━━━━━━ </span><span style=\"font-weight: bold\">Step </span><span style=\"color: #008080; text-decoration-color: #008080; font-weight: bold\">2</span><span style=\"color: #d4b702; text-decoration-color: #d4b702\"> ━━━━━━━━━━━━━━━━━━━━━━━━━━━━━━━━━━━━━━━━━━━━━━━━━━━━━━━━━━━━━━━━━━━━━━━━━━━━━━━━━━━━━━━━━━━━━━━━</span>\n",
       "</pre>\n"
      ],
      "text/plain": [
       "\u001b[38;2;212;183;2m━━━━━━━━━━━━━━━━━━━━━━━━━━━━━━━━━━━━━━━━━━━━━━━━━━━━━━━━━━━━━━━━━━━━━━━━━━━━━━━━━━━━━━━━━━━━━━━━ \u001b[0m\u001b[1mStep \u001b[0m\u001b[1;36m2\u001b[0m\u001b[38;2;212;183;2m ━━━━━━━━━━━━━━━━━━━━━━━━━━━━━━━━━━━━━━━━━━━━━━━━━━━━━━━━━━━━━━━━━━━━━━━━━━━━━━━━━━━━━━━━━━━━━━━━\u001b[0m\n"
      ]
     },
     "metadata": {},
     "output_type": "display_data"
    },
    {
     "data": {
      "text/html": [
       "<pre style=\"white-space:pre;overflow-x:auto;line-height:normal;font-family:Menlo,'DejaVu Sans Mono',consolas,'Courier New',monospace\"> ─ <span style=\"font-weight: bold\">Executing this code:</span> ─────────────────────────────────────────────────────────────────────────────────────────────────────────────────────────────────────────────────────────────────────────────── \n",
       "  <span style=\"color: #ff4689; text-decoration-color: #ff4689; background-color: #272822\">import</span><span style=\"color: #f8f8f2; text-decoration-color: #f8f8f2; background-color: #272822\"> wikipedia</span><span style=\"background-color: #272822\">                                                                                                                                                                                    </span>  \n",
       "  <span style=\"color: #f8f8f2; text-decoration-color: #f8f8f2; background-color: #272822\">mj_page </span><span style=\"color: #ff4689; text-decoration-color: #ff4689; background-color: #272822\">=</span><span style=\"color: #f8f8f2; text-decoration-color: #f8f8f2; background-color: #272822\"> wikipedia</span><span style=\"color: #ff4689; text-decoration-color: #ff4689; background-color: #272822\">.</span><span style=\"color: #f8f8f2; text-decoration-color: #f8f8f2; background-color: #272822\">page(</span><span style=\"color: #e6db74; text-decoration-color: #e6db74; background-color: #272822\">'Michael Jackson discography'</span><span style=\"color: #f8f8f2; text-decoration-color: #f8f8f2; background-color: #272822\">)</span><span style=\"background-color: #272822\">                                                                                                                                             </span>  \n",
       "  <span style=\"color: #f8f8f2; text-decoration-color: #f8f8f2; background-color: #272822\">print(mj_page</span><span style=\"color: #ff4689; text-decoration-color: #ff4689; background-color: #272822\">.</span><span style=\"color: #f8f8f2; text-decoration-color: #f8f8f2; background-color: #272822\">content)</span><span style=\"background-color: #272822\">                                                                                                                                                                              </span>  \n",
       " ────────────────────────────────────────────────────────────────────────────────────────────────────────────────────────────────────────────────────────────────────────────────────────────────────── \n",
       "</pre>\n"
      ],
      "text/plain": [
       " ─ \u001b[1mExecuting this code:\u001b[0m ─────────────────────────────────────────────────────────────────────────────────────────────────────────────────────────────────────────────────────────────────────────────── \n",
       "  \u001b[38;2;255;70;137;48;2;39;40;34mimport\u001b[0m\u001b[38;2;248;248;242;48;2;39;40;34m \u001b[0m\u001b[38;2;248;248;242;48;2;39;40;34mwikipedia\u001b[0m\u001b[48;2;39;40;34m                                                                                                                                                                                    \u001b[0m  \n",
       "  \u001b[38;2;248;248;242;48;2;39;40;34mmj_page\u001b[0m\u001b[38;2;248;248;242;48;2;39;40;34m \u001b[0m\u001b[38;2;255;70;137;48;2;39;40;34m=\u001b[0m\u001b[38;2;248;248;242;48;2;39;40;34m \u001b[0m\u001b[38;2;248;248;242;48;2;39;40;34mwikipedia\u001b[0m\u001b[38;2;255;70;137;48;2;39;40;34m.\u001b[0m\u001b[38;2;248;248;242;48;2;39;40;34mpage\u001b[0m\u001b[38;2;248;248;242;48;2;39;40;34m(\u001b[0m\u001b[38;2;230;219;116;48;2;39;40;34m'\u001b[0m\u001b[38;2;230;219;116;48;2;39;40;34mMichael Jackson discography\u001b[0m\u001b[38;2;230;219;116;48;2;39;40;34m'\u001b[0m\u001b[38;2;248;248;242;48;2;39;40;34m)\u001b[0m\u001b[48;2;39;40;34m                                                                                                                                             \u001b[0m  \n",
       "  \u001b[38;2;248;248;242;48;2;39;40;34mprint\u001b[0m\u001b[38;2;248;248;242;48;2;39;40;34m(\u001b[0m\u001b[38;2;248;248;242;48;2;39;40;34mmj_page\u001b[0m\u001b[38;2;255;70;137;48;2;39;40;34m.\u001b[0m\u001b[38;2;248;248;242;48;2;39;40;34mcontent\u001b[0m\u001b[38;2;248;248;242;48;2;39;40;34m)\u001b[0m\u001b[48;2;39;40;34m                                                                                                                                                                              \u001b[0m  \n",
       " ────────────────────────────────────────────────────────────────────────────────────────────────────────────────────────────────────────────────────────────────────────────────────────────────────── \n"
      ]
     },
     "metadata": {},
     "output_type": "display_data"
    },
    {
     "data": {
      "text/html": [
       "<pre style=\"white-space:pre;overflow-x:auto;line-height:normal;font-family:Menlo,'DejaVu Sans Mono',consolas,'Courier New',monospace\"><span style=\"color: #800000; text-decoration-color: #800000; font-weight: bold\">Warning to user: Code execution failed due to an unauthorized import - Consider passing said import under `additional_authorized_imports` when initializing your CodeAgent.</span>\n",
       "</pre>\n"
      ],
      "text/plain": [
       "\u001b[1;31mWarning to user: Code execution failed due to an unauthorized import - Consider passing said import under `additional_authorized_imports` when initializing your CodeAgent.\u001b[0m\n"
      ]
     },
     "metadata": {},
     "output_type": "display_data"
    },
    {
     "data": {
      "text/html": [
       "<pre style=\"white-space:pre;overflow-x:auto;line-height:normal;font-family:Menlo,'DejaVu Sans Mono',consolas,'Courier New',monospace\"><span style=\"color: #800000; text-decoration-color: #800000; font-weight: bold\">Code execution failed at line </span><span style=\"color: #800000; text-decoration-color: #800000; font-weight: bold\">'import wikipedia'</span><span style=\"color: #800000; text-decoration-color: #800000; font-weight: bold\"> because of the following error:</span>\n",
       "<span style=\"color: #800000; text-decoration-color: #800000; font-weight: bold\">Import of wikipedia is not allowed. Authorized imports are: [</span><span style=\"color: #800000; text-decoration-color: #800000; font-weight: bold\">'time'</span><span style=\"color: #800000; text-decoration-color: #800000; font-weight: bold\">, </span><span style=\"color: #800000; text-decoration-color: #800000; font-weight: bold\">'random'</span><span style=\"color: #800000; text-decoration-color: #800000; font-weight: bold\">, </span><span style=\"color: #800000; text-decoration-color: #800000; font-weight: bold\">'sqlite3'</span><span style=\"color: #800000; text-decoration-color: #800000; font-weight: bold\">, </span><span style=\"color: #800000; text-decoration-color: #800000; font-weight: bold\">'math'</span><span style=\"color: #800000; text-decoration-color: #800000; font-weight: bold\">, </span><span style=\"color: #800000; text-decoration-color: #800000; font-weight: bold\">'json'</span><span style=\"color: #800000; text-decoration-color: #800000; font-weight: bold\">, </span><span style=\"color: #800000; text-decoration-color: #800000; font-weight: bold\">'datetime'</span><span style=\"color: #800000; text-decoration-color: #800000; font-weight: bold\">, </span><span style=\"color: #800000; text-decoration-color: #800000; font-weight: bold\">'itertools'</span><span style=\"color: #800000; text-decoration-color: #800000; font-weight: bold\">, </span><span style=\"color: #800000; text-decoration-color: #800000; font-weight: bold\">'stat'</span><span style=\"color: #800000; text-decoration-color: #800000; font-weight: bold\">, </span><span style=\"color: #800000; text-decoration-color: #800000; font-weight: bold\">'statistics'</span><span style=\"color: #800000; text-decoration-color: #800000; font-weight: bold\">, </span><span style=\"color: #800000; text-decoration-color: #800000; font-weight: bold\">'queue'</span><span style=\"color: #800000; text-decoration-color: #800000; font-weight: bold\">, </span><span style=\"color: #800000; text-decoration-color: #800000; font-weight: bold\">'collections'</span><span style=\"color: #800000; text-decoration-color: #800000; font-weight: bold\">, </span><span style=\"color: #800000; text-decoration-color: #800000; font-weight: bold\">'unicodedata'</span><span style=\"color: #800000; text-decoration-color: #800000; font-weight: bold\">, </span><span style=\"color: #800000; text-decoration-color: #800000; font-weight: bold\">'re'</span><span style=\"color: #800000; text-decoration-color: #800000; font-weight: bold\">]</span>\n",
       "</pre>\n"
      ],
      "text/plain": [
       "\u001b[1;31mCode execution failed at line \u001b[0m\u001b[1;31m'import wikipedia'\u001b[0m\u001b[1;31m because of the following error:\u001b[0m\n",
       "\u001b[1;31mImport of wikipedia is not allowed. Authorized imports are: \u001b[0m\u001b[1;31m[\u001b[0m\u001b[1;31m'time'\u001b[0m\u001b[1;31m, \u001b[0m\u001b[1;31m'random'\u001b[0m\u001b[1;31m, \u001b[0m\u001b[1;31m'sqlite3'\u001b[0m\u001b[1;31m, \u001b[0m\u001b[1;31m'math'\u001b[0m\u001b[1;31m, \u001b[0m\u001b[1;31m'json'\u001b[0m\u001b[1;31m, \u001b[0m\u001b[1;31m'datetime'\u001b[0m\u001b[1;31m, \u001b[0m\u001b[1;31m'itertools'\u001b[0m\u001b[1;31m, \u001b[0m\u001b[1;31m'stat'\u001b[0m\u001b[1;31m, \u001b[0m\u001b[1;31m'statistics'\u001b[0m\u001b[1;31m, \u001b[0m\u001b[1;31m'queue'\u001b[0m\u001b[1;31m, \u001b[0m\u001b[1;31m'collections'\u001b[0m\u001b[1;31m, \u001b[0m\u001b[1;31m'unicodedata'\u001b[0m\u001b[1;31m, \u001b[0m\u001b[1;31m're'\u001b[0m\u001b[1;31m]\u001b[0m\n"
      ]
     },
     "metadata": {},
     "output_type": "display_data"
    },
    {
     "data": {
      "text/html": [
       "<pre style=\"white-space:pre;overflow-x:auto;line-height:normal;font-family:Menlo,'DejaVu Sans Mono',consolas,'Courier New',monospace\"><span style=\"color: #7f7f7f; text-decoration-color: #7f7f7f\">[Step 2: Duration 2.15 seconds| Input tokens: 7,602 | Output tokens: 306]</span>\n",
       "</pre>\n"
      ],
      "text/plain": [
       "\u001b[2m[Step 2: Duration 2.15 seconds| Input tokens: 7,602 | Output tokens: 306]\u001b[0m\n"
      ]
     },
     "metadata": {},
     "output_type": "display_data"
    },
    {
     "data": {
      "text/html": [
       "<pre style=\"white-space:pre;overflow-x:auto;line-height:normal;font-family:Menlo,'DejaVu Sans Mono',consolas,'Courier New',monospace\"><span style=\"color: #d4b702; text-decoration-color: #d4b702\">━━━━━━━━━━━━━━━━━━━━━━━━━━━━━━━━━━━━━━━━━━━━━━━━━━━━━━━━━━━━━━━━━━━━━━━━━━━━━━━━━━━━━━━━━━━━━━━━ </span><span style=\"font-weight: bold\">Step </span><span style=\"color: #008080; text-decoration-color: #008080; font-weight: bold\">3</span><span style=\"color: #d4b702; text-decoration-color: #d4b702\"> ━━━━━━━━━━━━━━━━━━━━━━━━━━━━━━━━━━━━━━━━━━━━━━━━━━━━━━━━━━━━━━━━━━━━━━━━━━━━━━━━━━━━━━━━━━━━━━━━</span>\n",
       "</pre>\n"
      ],
      "text/plain": [
       "\u001b[38;2;212;183;2m━━━━━━━━━━━━━━━━━━━━━━━━━━━━━━━━━━━━━━━━━━━━━━━━━━━━━━━━━━━━━━━━━━━━━━━━━━━━━━━━━━━━━━━━━━━━━━━━ \u001b[0m\u001b[1mStep \u001b[0m\u001b[1;36m3\u001b[0m\u001b[38;2;212;183;2m ━━━━━━━━━━━━━━━━━━━━━━━━━━━━━━━━━━━━━━━━━━━━━━━━━━━━━━━━━━━━━━━━━━━━━━━━━━━━━━━━━━━━━━━━━━━━━━━━\u001b[0m\n"
      ]
     },
     "metadata": {},
     "output_type": "display_data"
    },
    {
     "data": {
      "text/html": [
       "<pre style=\"white-space:pre;overflow-x:auto;line-height:normal;font-family:Menlo,'DejaVu Sans Mono',consolas,'Courier New',monospace\"> ─ <span style=\"font-weight: bold\">Executing this code:</span> ─────────────────────────────────────────────────────────────────────────────────────────────────────────────────────────────────────────────────────────────────────────────── \n",
       "  <span style=\"color: #f8f8f2; text-decoration-color: #f8f8f2; background-color: #272822\">all_songs </span><span style=\"color: #ff4689; text-decoration-color: #ff4689; background-color: #272822\">=</span><span style=\"color: #f8f8f2; text-decoration-color: #f8f8f2; background-color: #272822\"> chinook_sqlite(query</span><span style=\"color: #ff4689; text-decoration-color: #ff4689; background-color: #272822\">=</span><span style=\"color: #e6db74; text-decoration-color: #e6db74; background-color: #272822\">\"SELECT track_name, artist_name FROM album_track\"</span><span style=\"color: #f8f8f2; text-decoration-color: #f8f8f2; background-color: #272822\">)</span><span style=\"background-color: #272822\">                                                                                                                 </span>  \n",
       "  <span style=\"color: #f8f8f2; text-decoration-color: #f8f8f2; background-color: #272822\">print(all_songs)</span><span style=\"background-color: #272822\">                                                                                                                                                                                    </span>  \n",
       " ────────────────────────────────────────────────────────────────────────────────────────────────────────────────────────────────────────────────────────────────────────────────────────────────────── \n",
       "</pre>\n"
      ],
      "text/plain": [
       " ─ \u001b[1mExecuting this code:\u001b[0m ─────────────────────────────────────────────────────────────────────────────────────────────────────────────────────────────────────────────────────────────────────────────── \n",
       "  \u001b[38;2;248;248;242;48;2;39;40;34mall_songs\u001b[0m\u001b[38;2;248;248;242;48;2;39;40;34m \u001b[0m\u001b[38;2;255;70;137;48;2;39;40;34m=\u001b[0m\u001b[38;2;248;248;242;48;2;39;40;34m \u001b[0m\u001b[38;2;248;248;242;48;2;39;40;34mchinook_sqlite\u001b[0m\u001b[38;2;248;248;242;48;2;39;40;34m(\u001b[0m\u001b[38;2;248;248;242;48;2;39;40;34mquery\u001b[0m\u001b[38;2;255;70;137;48;2;39;40;34m=\u001b[0m\u001b[38;2;230;219;116;48;2;39;40;34m\"\u001b[0m\u001b[38;2;230;219;116;48;2;39;40;34mSELECT track_name, artist_name FROM album_track\u001b[0m\u001b[38;2;230;219;116;48;2;39;40;34m\"\u001b[0m\u001b[38;2;248;248;242;48;2;39;40;34m)\u001b[0m\u001b[48;2;39;40;34m                                                                                                                 \u001b[0m  \n",
       "  \u001b[38;2;248;248;242;48;2;39;40;34mprint\u001b[0m\u001b[38;2;248;248;242;48;2;39;40;34m(\u001b[0m\u001b[38;2;248;248;242;48;2;39;40;34mall_songs\u001b[0m\u001b[38;2;248;248;242;48;2;39;40;34m)\u001b[0m\u001b[48;2;39;40;34m                                                                                                                                                                                    \u001b[0m  \n",
       " ────────────────────────────────────────────────────────────────────────────────────────────────────────────────────────────────────────────────────────────────────────────────────────────────────── \n"
      ]
     },
     "metadata": {},
     "output_type": "display_data"
    },
    {
     "data": {
      "text/html": [
       "<pre style=\"white-space:pre;overflow-x:auto;line-height:normal;font-family:Menlo,'DejaVu Sans Mono',consolas,'Courier New',monospace\"><span style=\"font-weight: bold\">Execution logs:</span>\n",
       "[('For Those About To Rock (We Salute You)', 'AC/DC'), ('Balls to the Wall', 'Accept'), ('Fast As a Shark', 'Accept'), ('Restless and Wild', 'Accept'), ('Princess of the Dawn', 'Accept'), ('Put The \n",
       "Finger On You', 'AC/DC'), (\"Let's Get It Up\", 'AC/DC'), ('Inject The Venom', 'AC/DC'), ('Snowballed', 'AC/DC'), ('Evil Walks', 'AC/DC'), ('C.O.D.', 'AC/DC'), ('Breaking The Rules', 'AC/DC'), ('Night \n",
       "Of The Long Knives', 'AC/DC'), ('Spellbound', 'AC/DC'), ('Go Down', 'AC/DC'), ('Dog Eat Dog', 'AC/DC'), ('Let There Be Rock', 'AC/DC'), ('Bad Boy Boogie', 'AC/DC'), ('Problem Child', 'AC/DC'), \n",
       "('Overdose', 'AC/DC'), (\"Hell Ain't A Bad Place To Be\", 'AC/DC'), ('Whole Lotta Rosie', 'AC/DC'), ('Walk On Water', 'Aerosmith'), ('Love In An Elevator', 'Aerosmith'), ('Rag Doll', 'Aerosmith'), \n",
       "('What It Takes', 'Aerosmith'), ('Dude (Looks Like A Lady)', 'Aerosmith'), (\"Janie's Got A Gun\", 'Aerosmith'), (\"Cryin'\", 'Aerosmith'), ('Amazing', 'Aerosmith'), ('Blind Man', 'Aerosmith'), ('Deuces \n",
       "Are Wild', 'Aerosmith'), ('The Other Side', 'Aerosmith'), ('Crazy', 'Aerosmith'), ('Eat The Rich', 'Aerosmith'), ('Angel', 'Aerosmith'), (\"Livin' On The Edge\", 'Aerosmith'), ('All I Really Want', \n",
       "'Alanis Morissette'), ('You Oughta Know', 'Alanis Morissette'), ('Perfect', 'Alanis Morissette'), ('Hand In My Pocket', 'Alanis Morissette'), ('Right Through You', 'Alanis Morissette'), ('Forgiven', \n",
       "'Alanis Morissette'), ('You Learn', 'Alanis Morissette'), ('Head Over Feet', 'Alanis Morissette'), ('Mary Jane', 'Alanis Morissette'), ('Ironic', 'Alanis Morissette'), ('Not The Doctor', 'Alanis \n",
       "Morissette'), ('Wake Up', 'Alanis Morissette'), ('You Oughta Know (Alternate)', 'Alanis Morissette'), ('We Die Young', 'Alice In Chains'), ('Man In The Box', 'Alice In Chains'), ('Sea Of Sorrow', \n",
       "'Alice In Chains'), ('Bleed The Freak', 'Alice In Chains'), (\"I Can't Remember\", 'Alice In Chains'), ('Love, Hate, Love', 'Alice In Chains'), (\"It Ain't Like That\", 'Alice In Chains'), ('Sunshine', \n",
       "'Alice In Chains'), ('Put You Down', 'Alice In Chains'), ('Confusion', 'Alice In Chains'), ('I Know Somethin (Bout You)', 'Alice In Chains'), ('Real Thing', 'Alice In Chains'), ('Desafinado', 'Antônio\n",
       "Carlos Jobim'), ('Garota De Ipanema', 'Antônio Carlos Jobim'), ('Samba De Uma Nota Só (One Note Samba)', 'Antônio Carlos Jobim'), ('Por Causa De Você', 'Antônio Carlos Jobim'), ('Ligia', 'Antônio \n",
       "Carlos Jobim'), ('Fotografia', 'Antônio Carlos Jobim'), ('Dindi (Dindi)', 'Antônio Carlos Jobim'), ('Se Todos Fossem Iguais A Você (Instrumental)', 'Antônio Carlos Jobim'), ('Falando De Amor', \n",
       "'Antônio Carlos Jobim'), ('Angela', 'Antônio Carlos Jobim'), ('Corcovado (Quiet Nights Of Quiet Stars)', 'Antônio Carlos Jobim'), ('Outra Vez', 'Antônio Carlos Jobim'), ('O Boto (Bôto)', 'Antônio \n",
       "Carlos Jobim'), ('Canta, Canta Mais', 'Antônio Carlos Jobim'), ('Enter Sandman', 'Apocalyptica'), ('Master Of Puppets', 'Apocalyptica'), ('Harvester Of Sorrow', 'Apocalyptica'), ('The Unforgiven', \n",
       "'Apocalyptica'), ('Sad But True', 'Apocalyptica'), ('Creeping Death', 'Apocalyptica'), ('Wherever I May Roam', 'Apocalyptica'), ('Welcome Home (Sanitarium)', 'Apocalyptica'), ('Cochise', \n",
       "'Audioslave'), ('Show Me How to Live', 'Audioslave'), ('Gasoline', 'Audioslave'), ('What You Are', 'Audioslave'), ('Like a Stone', 'Audioslave'), ('Set It Off', 'Audioslave'), ('Shadow on the Sun', \n",
       "'Audioslave'), ('I am the Highway', 'Audioslave'), ('Exploder', 'Audioslave'), ('Hypnotize', 'Audioslave'), (\"Bring'em Back Alive\", 'Audioslave'), ('Light My Way', 'Audioslave'), ('Getaway Car', \n",
       "'Audioslave'), ('The Last Remaining Light', 'Audioslave'), ('Your Time Has Come', 'Audioslave'), ('Out Of Exile', 'Audioslave'), ('Be Yourself', 'Audioslave'), (\"Doesn't Remind Me\", 'Audioslave'), \n",
       "('Drown Me Slowly', 'Audioslave'), (\"Heaven's Dead\", 'Audioslave'), ('The Worm', 'Audioslave'), ('Man Or Animal', 'Audioslave'), ('Yesterday To Tomorrow', 'Audioslave'), ('Dandelion', 'Audioslave'), \n",
       "('#1 Zero', 'Audioslave'), ('The Curse', 'Audioslave'), ('Money', 'BackBeat'), ('Long Tall Sally', 'BackBeat'), ('Bad Boy', 'BackBeat'), ('Twist And Shout', 'BackBeat'), ('Please Mr. Postman', \n",
       "'BackBeat'), (\"C'Mon Everybody\", 'BackBeat'), (\"Rock 'N' Roll Music\", 'BackBeat'), ('Slow Down', 'BackBeat'), ('Roadrunner', 'BackBeat'), ('Carol', 'BackBeat'), ('Good Golly Miss Molly', 'BackBeat'), \n",
       "('20 Flight Rock', 'BackBeat'), ('Quadrant', 'Billy Cobham'), (\"Snoopy's search-Red baron\", 'Billy Cobham'), ('Spanish moss-\"A sound portrait\"-Spanish moss', 'Billy Cobham'), ('Moon germs', 'Billy \n",
       "Cobham'), ('Stratus', 'Billy Cobham'), ('The pleasant pheasant', 'Billy Cobham'), ('Solo-Panhandler', 'Billy Cobham'), ('Do what cha wanna', 'Billy Cobham'), ('Intro/ Low Down', 'Black Label \n",
       "Society'), ('13 Years Of Grief', 'Black Label Society'), ('Stronger Than Death', 'Black Label Society'), ('All For You', 'Black Label Society'), ('Super Terrorizer', 'Black Label Society'), ('Phoney \n",
       "Smile Fake Hellos', 'Black Label Society'), ('Lost My Better Half', 'Black Label Society'), ('Bored To Tears', 'Black Label Society'), ('A.N.D.R.O.T.A.Z.', 'Black Label Society'), ('Born To Booze', \n",
       "'Black Label Society'), ('World Of Trouble', 'Black Label Society'), ('No More Tears', 'Black Label Society'), ('The Begining... At Last', 'Black Label Society'), ('Heart Of Gold', 'Black Label \n",
       "Society'), ('Snowblind', 'Black Label Society'), ('Like A Bird', 'Black Label Society'), ('Blood In The Wall', 'Black Label Society'), ('The Beginning...At Last', 'Black Label Society'), ('Black \n",
       "Sabbath', 'Black Sabbath'), ('The Wizard', 'Black Sabbath'), ('Behind The Wall Of Sleep', 'Black Sabbath'), ('N.I.B.', 'Black Sabbath'), ('Evil Woman', 'Black Sabbath'), ('Sleeping Village', 'Black \n",
       "Sabbath'), ('Warning', 'Black Sabbath'), ('Wheels Of Confusion / The Straightener', 'Black Sabbath'), (\"Tomorrow's Dream\", 'Black Sabbath'), ('Changes', 'Black Sabbath'), ('FX', 'Black Sabbath'), \n",
       "('Supernaut', 'Black Sabbath'), ('Snowblind', 'Black Sabbath'), ('Cornucopia', 'Black Sabbath'), ('Laguna Sunrise', 'Black Sabbath'), ('St. Vitus Dance', 'Black Sabbath'), ('Under The Sun/Every Day \n",
       "Comes and Goes', 'Black Sabbath'), ('Smoked Pork', 'Body Count'), (\"Body Count's In The House\", 'Body Count'), ('Now Sports', 'Body Count'), ('Body Count', 'Body Count'), ('A Statistic', 'Body \n",
       "Count'), ('Bowels Of The Devil', 'Body Count'), ('The Real Problem', 'Body Count'), ('KKK Bitch', 'Body Count'), ('D Note', 'Body Count'), ('Voodoo', 'Body Count'), ('The Winner Loses', 'Body Count'),\n",
       "('There Goes The Neighborhood', 'Body Count'), ('Oprah', 'Body Count'), ('Evil Dick', 'Body Count'), ('Body Count Anthem', 'Body Count'), (\"Momma's Gotta Die Tonight\", 'Body Count'), ('Freedom Of \n",
       "Speech', 'Body Count'), ('King In Crimson', 'Bruce Dickinson'), ('Chemical Wedding', 'Bruce Dickinson'), ('The Tower', 'Bruce Dickinson'), ('Killing Floor', 'Bruce Dickinson'), ('Book Of Thel', 'Bruce\n",
       "Dickinson'), ('Gates Of Urizen', 'Bruce Dickinson'), ('Jerusalem', 'Bruce Dickinson'), ('Trupets Of Jericho', 'Bruce Dickinson'), ('Machine Men', 'Bruce Dickinson'), ('The Alchemist', 'Bruce \n",
       "Dickinson'), ('Realword', 'Bruce Dickinson'), ('First Time I Met The Blues', 'Buddy Guy'), ('Let Me Love You Baby', 'Buddy Guy'), ('Stone Crazy', 'Buddy Guy'), ('Pretty Baby', 'Buddy Guy'), ('When My \n",
       "Left Eye Jumps', 'Buddy Guy'), ('Leave My Girl Alone', 'Buddy Guy'), ('She Suits Me To A Tee', 'Buddy Guy'), ('Keep It To Myself (Aka Keep It To Yourself)', 'Buddy Guy'), ('My Time After Awhile', \n",
       "'Buddy Guy'), ('Too Many Ways (Alternate)', 'Buddy Guy'), (\"Talkin' 'Bout Women Obviously\", 'Buddy Guy'), ('Jorge Da Capadócia', 'Caetano Veloso'), ('Prenda Minha', 'Caetano Veloso'), ('Meditação', \n",
       "'Caetano Veloso'), ('Terra', 'Caetano Veloso'), ('Eclipse Oculto', 'Caetano Veloso'), ('Texto \"Verdade Tropical\"', 'Caetano Veloso'), ('Bem Devagar', 'Caetano Veloso'), ('Drão', 'Caetano Veloso'), \n",
       "('Saudosismo', 'Caetano Veloso'), ('Carolina', 'Caetano Veloso'), ('Sozinho', 'Caetano Veloso'), ('Esse Cara', 'Caetano Veloso'), ('Mel', 'Caetano Veloso'), ('Linha Do Equador', 'Caetano Veloso'), \n",
       "('Odara', 'Caetano Veloso'), ('A Luz De Tieta', 'Caetano Veloso'), ('Atrás Da Verd-E-Rosa Só Não Vai Quem Já Morreu', 'Caetano Veloso'), ('Vida Boa', 'Caetano Veloso'), ('Sozinho (Hitmakers Classic \n",
       "Mix)', 'Caetano Veloso'), ('Sozinho (Hitmakers Classic Radio Edit)', 'Caetano Veloso'), (\"Sozinho (Caêdrum 'n' Bass)\", 'Caetano Veloso'), ('Carolina', 'Chico Buarque'), ('Essa Moça Ta Diferente', \n",
       "'Chico Buarque'), ('Vai Passar', 'Chico Buarque'), ('Samba De Orly', 'Chico Buarque'), ('Bye, Bye Brasil', 'Chico Buarque'), ('Atras Da Porta', 'Chico Buarque'), ('Tatuagem', 'Chico Buarque'), ('O Que\n",
       "Será (À Flor Da Terra)', 'Chico Buarque'), ('Morena De Angola', 'Chico Buarque'), ('Apesar De Você', 'Chico Buarque'), ('A Banda', 'Chico Buarque'), ('Minha Historia', 'Chico Buarque'), ('Com Açúcar E\n",
       "Com Afeto', 'Chico Buarque'), ('Brejo Da Cruz', 'Chico Buarque'), ('Meu Caro Amigo', 'Chico Buarque'), ('Geni E O Zepelim', 'Chico Buarque'), ('Trocando Em Miúdos', 'Chico Buarque'), ('Vai Trabalhar \n",
       "Vagabundo', 'Chico Buarque'), (\"Gota D'água\", 'Chico Buarque'), ('Construção / Deus Lhe Pague', 'Chico Buarque'), ('Mateus Enter', 'Chico Science &amp; Nação Zumbi'), ('O Cidadão Do Mundo', 'Chico Science\n",
       "&amp; Nação Zumbi'), ('Etnia', 'Chico Science &amp; Nação Zumbi'), ('Quilombo Groove [Instrumental]', 'Chico Science &amp; Nação Zumbi'), ('Macô', 'Chico Science &amp; Nação Zumbi'), ('Um Passeio No Mundo Livre', \n",
       "'Chico Science &amp; Nação Zumbi'), ('Samba Do Lado', 'Chico Science &amp; Nação Zumbi'), ('Maracatu Atômico', 'Chico Science &amp; Nação Zumbi'), ('O Encontro De Isaac Asimov Com Santos Dumont No Céu', 'Chico \n",
       "Science &amp; Nação Zumbi'), ('Corpo De Lama', 'Chico Science &amp; Nação Zumbi'), ('Sobremesa', 'Chico Science &amp; Nação Zumbi'), ('Manguetown', 'Chico Science &amp; Nação Zumbi'), ('Um Satélite Na Cabeça', 'Chico\n",
       "Science &amp; Nação Zumbi'), ('Baião Ambiental [Instrumental]', 'Chico Science &amp; Nação Zumbi'), ('Sangue De Bairro', 'Chico Science &amp; Nação Zumbi'), ('Enqua\n",
       "..._This content has been truncated to stay below 50000 characters_...\n",
       "mething Nice Back Home', 'Lost'), ('Cabin Fever', 'Lost'), (\"There's No Place Like Home, Pt. 1\", 'Lost'), (\"There's No Place Like Home, Pt. 2\", 'Lost'), (\"There's No Place Like Home, Pt. 3\", 'Lost'), \n",
       "('Say Hello 2 Heaven', 'Temple of the Dog'), ('Reach Down', 'Temple of the Dog'), ('Hunger Strike', 'Temple of the Dog'), ('Pushin Forward Back', 'Temple of the Dog'), ('Call Me a Dog', 'Temple of the\n",
       "Dog'), ('Times of Trouble', 'Temple of the Dog'), ('Wooden Jesus', 'Temple of the Dog'), ('Your Savior', 'Temple of the Dog'), ('Four Walled World', 'Temple of the Dog'), ('All Night Thing', 'Temple \n",
       "of the Dog'), ('No Such Thing', 'Chris Cornell'), ('Poison Eye', 'Chris Cornell'), ('Arms Around Your Love', 'Chris Cornell'), ('Safe and Sound', 'Chris Cornell'), (\"She'll Never Be Your Man\", 'Chris \n",
       "Cornell'), ('Ghosts', 'Chris Cornell'), ('Killing Birds', 'Chris Cornell'), ('Billie Jean', 'Chris Cornell'), ('Scar On the Sky', 'Chris Cornell'), ('Your Soul Today', 'Chris Cornell'), ('Finally \n",
       "Forever', 'Chris Cornell'), ('Silence the Voices', 'Chris Cornell'), ('Disappearing Act', 'Chris Cornell'), ('You Know My Name', 'Chris Cornell'), ('Revelations', 'Audioslave'), ('One and the Same', \n",
       "'Audioslave'), ('Sound of a Gun', 'Audioslave'), ('Until We Fall', 'Audioslave'), ('Original Fire', 'Audioslave'), ('Broken City', 'Audioslave'), ('Somedays', 'Audioslave'), ('Shape of Things to \n",
       "Come', 'Audioslave'), ('Jewel of the Summertime', 'Audioslave'), ('Wide Awake', 'Audioslave'), ('Nothing Left to Say But Goodbye', 'Audioslave'), ('Moth', 'Audioslave'), ('Show Me How to Live (Live at\n",
       "the Quart Festival)', 'Audioslave'), ('Band Members Discuss Tracks from \"Revelations\"', 'Audioslave'), ('Intoitus: Adorate Deum', 'Alberto Turco &amp; Nova Schola Gregoriana'), ('Miserere mei, Deus', \n",
       "'Richard Marlow &amp; The Choir of Trinity College, Cambridge'), ('Canon and Gigue in D Major: I. Canon', 'English Concert &amp; Trevor Pinnock'), ('Concerto No. 1 in E Major, RV 269 \"Spring\": I. Allegro', \n",
       "'Anne-Sophie Mutter, Herbert Von Karajan &amp; Wiener Philharmoniker'), ('Concerto for 2 Violins in D Minor, BWV 1043: I. Vivace', 'Hilary Hahn, Jeffrey Kahane, Los Angeles Chamber Orchestra &amp; Margaret \n",
       "Batjer'), ('Aria Mit 30 Veränderungen, BWV 988 \"Goldberg Variations\": Aria', 'Wilhelm Kempff'), ('Suite for Solo Cello No. 1 in G Major, BWV 1007: I. Prélude', 'Yo-Yo Ma'), ('The Messiah: Behold, I \n",
       "Tell You a Mystery... The Trumpet Shall Sound', 'Scholars Baroque Ensemble'), ('Solomon HWV 67: The Arrival of the Queen of Sheba', 'Academy of St. Martin in the Fields &amp; Sir Neville Marriner'), \n",
       "('\"Eine Kleine Nachtmusik\" Serenade In G, K. 525: I. Allegro', 'Academy of St. Martin in the Fields Chamber Ensemble &amp; Sir Neville Marriner'), ('Concerto for Clarinet in A Major, K. 622: II. Adagio', \n",
       "'Berliner Philharmoniker, Claudio Abbado &amp; Sabine Meyer'), ('Symphony No. 104 in D Major \"London\": IV. Finale: Spiritoso', 'Royal Philharmonic Orchestra &amp; Sir Thomas Beecham'), ('Symphony No.5 in C \n",
       "Minor: I. Allegro con brio', 'Orchestre Révolutionnaire et Romantique &amp; John Eliot Gardiner'), ('Ave Maria', 'Britten Sinfonia, Ivor Bolton &amp; Lesley Garrett'), ('Nabucco: Chorus, \"Va, Pensiero, \n",
       "Sull\\'ali Dorate\"', 'Chicago Symphony Chorus, Chicago Symphony Orchestra &amp; Sir Georg Solti'), ('Die Walküre: The Ride of the Valkyries', 'Sir Georg Solti &amp; Wiener Philharmoniker'), ('Requiem, Op.48: \n",
       "4. Pie Jesu', 'Academy of St. Martin in the Fields, John Birch, Sir Neville Marriner &amp; Sylvia McNair'), ('The Nutcracker, Op. 71a, Act II: Scene 14: Pas de deux: Dance of the Prince &amp; the Sugar-Plum \n",
       "Fairy', 'London Symphony Orchestra &amp; Sir Charles Mackerras'), ('Nimrod (Adagio) from Variations On an Original Theme, Op. 36 \"Enigma\"', 'Barry Wordsworth &amp; BBC Concert Orchestra'), ('Madama Butterfly:\n",
       "Un Bel Dì Vedremo', 'Herbert Von Karajan, Mirella Freni &amp; Wiener Philharmoniker'), ('Jupiter, the Bringer of Jollity', 'Eugene Ormandy'), ('Turandot, Act III, Nessun dorma!', 'Luciano Pavarotti'), \n",
       "('Adagio for Strings from the String Quartet, Op. 11', 'Leonard Bernstein &amp; New York Philharmonic'), ('Carmina Burana: O Fortuna', 'Boston Symphony Orchestra &amp; Seiji Ozawa'), ('Fanfare for the Common \n",
       "Man', 'Aaron Copland &amp; London Symphony Orchestra'), ('Branch Closing', 'The Office'), ('The Return', 'The Office'), ('Toccata and Fugue in D Minor, BWV 565: I. Toccata', 'Ton Koopman'), ('Symphony \n",
       "No.1 in D Major, Op.25 \"Classical\", Allegro Con Brio', 'Sergei Prokofiev &amp; Yuri Temirkanov'), (\"Scheherazade, Op. 35: I. The Sea and Sindbad's Ship\", 'Chicago Symphony Orchestra &amp; Fritz Reiner'), \n",
       "('Concerto No.2 in F Major, BWV1047, I. Allegro', 'Orchestra of The Age of Enlightenment'), ('Concerto for Piano No. 2 in F Minor, Op. 21: II. Larghetto', 'Emanuel Ax, Eugene Ormandy &amp; Philadelphia \n",
       "Orchestra'), ('Cavalleria Rusticana \\\\ Act \\\\ Intermezzo Sinfonico', 'James Levine'), ('Karelia Suite, Op.11: 2. Ballade (Tempo Di Menuetto)', 'Berliner Philharmoniker &amp; Hans Rosbaud'), ('Piano Sonata\n",
       "No. 14 in C Sharp Minor, Op. 27, No. 2, \"Moonlight\": I. Adagio sostenuto', 'Maurizio Pollini'), ('Fantasia On Greensleeves', 'Academy of St. Martin in the Fields &amp; Sir Neville Marriner'), ('Das Lied \n",
       "Von Der Erde, Von Der Jugend', 'Gustav Mahler'), ('Concerto for Cello and Orchestra in E minor, Op. 85: I. Adagio - Moderato', 'Felix Schmidt, London Symphony Orchestra &amp; Rafael Frühbeck de Burgos'), \n",
       "('Two Fanfares for Orchestra: II. Short Ride in a Fast Machine', 'Edo de Waart &amp; San Francisco Symphony'), (\"Wellington's Victory or the Battle Symphony, Op.91: 2. Symphony of Triumph\", 'Antal Doráti \n",
       "&amp; London Symphony Orchestra'), ('Missa Papae Marcelli: Kyrie', 'Choir Of Westminster Abbey &amp; Simon Preston'), ('Romeo et Juliette: No. 11 - Danse des Chevaliers', 'Michael Tilson Thomas &amp; San \n",
       "Francisco Symphony'), ('On the Beautiful Blue Danube', 'Eugene Ormandy'), (\"Symphonie Fantastique, Op. 14: V. Songe d'une nuit du sabbat\", 'Michael Tilson Thomas &amp; San Francisco Symphony'), ('Carmen: \n",
       "Overture', 'Chor der Wiener Staatsoper, Herbert Von Karajan &amp; Wiener Philharmoniker'), ('Lamentations of Jeremiah, First Set \\\\ Incipit Lamentatio', \"The King's Singers\"), ('Music for the Royal \n",
       "Fireworks, HWV351 (1749): La Réjouissance', 'English Concert &amp; Trevor Pinnock'), ('Peer Gynt Suite No.1, Op.46: 1. Morning Mood', 'Berliner Philharmoniker &amp; Herbert Von Karajan'), ('Die Zauberflöte, \n",
       "K.620: \"Der Hölle Rache Kocht in Meinem Herze\"', 'Sir Georg Solti, Sumi Jo &amp; Wiener Philharmoniker'), ('SCRIABIN: Prelude in B Major, Op. 11, No. 11', \"Christopher O'Riley\"), ('Pavan, Lachrimae \n",
       "Antiquae', 'Fretwork'), ('Symphony No. 41 in C Major, K. 551, \"Jupiter\": IV. Molto allegro', 'Berliner Philharmoniker &amp; Herbert Von Karajan'), ('Rehab', 'Amy Winehouse'), (\"You Know I'm No Good\", 'Amy\n",
       "Winehouse'), ('Me &amp; Mr. Jones', 'Amy Winehouse'), ('Just Friends', 'Amy Winehouse'), ('Back to Black', 'Amy Winehouse'), ('Love Is a Losing Game', 'Amy Winehouse'), ('Tears Dry On Their Own', 'Amy \n",
       "Winehouse'), ('Wake Up Alone', 'Amy Winehouse'), ('Some Unholy War', 'Amy Winehouse'), ('He Can Only Hold Her', 'Amy Winehouse'), (\"You Know I'm No Good (feat. Ghostface Killah)\", 'Amy Winehouse'), \n",
       "('Rehab (Hot Chip Remix)', 'Amy Winehouse'), ('Intro / Stronger Than Me', 'Amy Winehouse'), ('You Sent Me Flying / Cherry', 'Amy Winehouse'), ('F**k Me Pumps', 'Amy Winehouse'), ('I Heard Love Is \n",
       "Blind', 'Amy Winehouse'), ('(There Is) No Greater Love (Teo Licks)', 'Amy Winehouse'), ('In My Bed', 'Amy Winehouse'), ('Take the Box', 'Amy Winehouse'), ('October Song', 'Amy Winehouse'), ('What Is \n",
       "It About Men', 'Amy Winehouse'), ('Help Yourself', 'Amy Winehouse'), ('Amy Amy Amy (Outro)', 'Amy Winehouse'), ('Slowness', 'Calexico'), ('Prometheus Overture, Op. 43', 'Otto Klemperer &amp; Philharmonia \n",
       "Orchestra'), ('Sonata for Solo Violin: IV: Presto', 'Yehudi Menuhin'), (\"A Midsummer Night's Dream, Op.61 Incidental Music: No.7 Notturno\", 'Philharmonia Orchestra &amp; Sir Neville Marriner'), ('Suite \n",
       "No. 3 in D, BWV 1068: III. Gavotte I &amp; II', 'Academy of St. Martin in the Fields, Sir Neville Marriner &amp; Thurston Dart'), ('Concert pour 4 Parties de V**les, H. 545: I. Prelude', 'Les Arts Florissants\n",
       "&amp; William Christie'), ('Adios nonino', 'The 12 Cellists of The Berlin Philharmonic'), ('Symphony No. 3 Op. 36 for Orchestra and Soprano \"Symfonia Piesni Zalosnych\" \\\\ Lento E Largo - Tranquillissimo',\n",
       "'Adrian Leaper &amp; Doreen de Feis'), ('Act IV, Symphony', 'Roger Norrington, London Classical Players'), ('3 Gymnopédies: No.1 - Lent Et Grave, No.3 - Lent Et Douloureux', \"Charles Dutoit &amp; L'Orchestre \n",
       "Symphonique de Montréal\"), ('Music for the Funeral of Queen Mary: VI. \"Thou Knowest, Lord, the Secrets of Our Hearts\"', 'Equale Brass Ensemble, John Eliot Gardiner &amp; Munich Monteverdi Orchestra and \n",
       "Choir'), ('Symphony No. 2: III. Allegro vivace', \"Kent Nagano and Orchestre de l'Opéra de Lyon\"), ('Partita in E Major, BWV 1006A: I. Prelude', 'Julian Bream'), ('Le Sacre Du Printemps: I.iv. Spring \n",
       "Rounds', 'Berliner Philharmoniker &amp; Herbert Von Karajan'), ('Sing Joyfully', \"The King's Singers\"), ('Metopes, Op. 29: Calypso', 'Martin Roscoe'), ('Symphony No. 2, Op. 16 -  \"The Four Temperaments\": \n",
       "II. Allegro Comodo e Flemmatico', 'Göteborgs Symfoniker &amp; Neeme Järvi'), ('24 Caprices, Op. 1, No. 24, for Solo Violin, in A Minor', 'Itzhak Perlman'), ('Étude 1, In C Major - Preludio (Presto) - \n",
       "Liszt', 'Michele Campanella'), ('Erlkonig, D.328', 'Gerald Moore'), ('Concerto for Violin, Strings and Continuo in G Major, Op. 3, No. 9: I. Allegro', 'Mela Tenenbaum, Pro Musica Prague &amp; Richard \n",
       "Kapp'), ('Pini Di Roma (Pinien Von Rom) \\\\ I Pini Della Via Appia', 'Eugene Ormandy'), ('String Quartet No. 12 in C Minor, D. 703 \"Quartettsatz\": II. Andante - Allegro assai', 'Emerson String \n",
       "Quartet'), (\"L'orfeo, Act 3, Sinfonia (Orchestra)\", 'C. Monteverdi, Nigel Rogers - Chiaroscuro; London Baroque; London Cornett &amp; Sackbu'), ('Quintet for Horn, Violin, 2 Violas, and Cello in E Flat \n",
       "Major, K. 407/386c: III. Allegro', 'Nash Ensemble'), ('Koyaanisqatsi', 'Philip Glass Ensemble')]\n",
       "\n",
       "Out: None\n",
       "</pre>\n"
      ],
      "text/plain": [
       "\u001b[1mExecution logs:\u001b[0m\n",
       "[('For Those About To Rock (We Salute You)', 'AC/DC'), ('Balls to the Wall', 'Accept'), ('Fast As a Shark', 'Accept'), ('Restless and Wild', 'Accept'), ('Princess of the Dawn', 'Accept'), ('Put The \n",
       "Finger On You', 'AC/DC'), (\"Let's Get It Up\", 'AC/DC'), ('Inject The Venom', 'AC/DC'), ('Snowballed', 'AC/DC'), ('Evil Walks', 'AC/DC'), ('C.O.D.', 'AC/DC'), ('Breaking The Rules', 'AC/DC'), ('Night \n",
       "Of The Long Knives', 'AC/DC'), ('Spellbound', 'AC/DC'), ('Go Down', 'AC/DC'), ('Dog Eat Dog', 'AC/DC'), ('Let There Be Rock', 'AC/DC'), ('Bad Boy Boogie', 'AC/DC'), ('Problem Child', 'AC/DC'), \n",
       "('Overdose', 'AC/DC'), (\"Hell Ain't A Bad Place To Be\", 'AC/DC'), ('Whole Lotta Rosie', 'AC/DC'), ('Walk On Water', 'Aerosmith'), ('Love In An Elevator', 'Aerosmith'), ('Rag Doll', 'Aerosmith'), \n",
       "('What It Takes', 'Aerosmith'), ('Dude (Looks Like A Lady)', 'Aerosmith'), (\"Janie's Got A Gun\", 'Aerosmith'), (\"Cryin'\", 'Aerosmith'), ('Amazing', 'Aerosmith'), ('Blind Man', 'Aerosmith'), ('Deuces \n",
       "Are Wild', 'Aerosmith'), ('The Other Side', 'Aerosmith'), ('Crazy', 'Aerosmith'), ('Eat The Rich', 'Aerosmith'), ('Angel', 'Aerosmith'), (\"Livin' On The Edge\", 'Aerosmith'), ('All I Really Want', \n",
       "'Alanis Morissette'), ('You Oughta Know', 'Alanis Morissette'), ('Perfect', 'Alanis Morissette'), ('Hand In My Pocket', 'Alanis Morissette'), ('Right Through You', 'Alanis Morissette'), ('Forgiven', \n",
       "'Alanis Morissette'), ('You Learn', 'Alanis Morissette'), ('Head Over Feet', 'Alanis Morissette'), ('Mary Jane', 'Alanis Morissette'), ('Ironic', 'Alanis Morissette'), ('Not The Doctor', 'Alanis \n",
       "Morissette'), ('Wake Up', 'Alanis Morissette'), ('You Oughta Know (Alternate)', 'Alanis Morissette'), ('We Die Young', 'Alice In Chains'), ('Man In The Box', 'Alice In Chains'), ('Sea Of Sorrow', \n",
       "'Alice In Chains'), ('Bleed The Freak', 'Alice In Chains'), (\"I Can't Remember\", 'Alice In Chains'), ('Love, Hate, Love', 'Alice In Chains'), (\"It Ain't Like That\", 'Alice In Chains'), ('Sunshine', \n",
       "'Alice In Chains'), ('Put You Down', 'Alice In Chains'), ('Confusion', 'Alice In Chains'), ('I Know Somethin (Bout You)', 'Alice In Chains'), ('Real Thing', 'Alice In Chains'), ('Desafinado', 'Antônio\n",
       "Carlos Jobim'), ('Garota De Ipanema', 'Antônio Carlos Jobim'), ('Samba De Uma Nota Só (One Note Samba)', 'Antônio Carlos Jobim'), ('Por Causa De Você', 'Antônio Carlos Jobim'), ('Ligia', 'Antônio \n",
       "Carlos Jobim'), ('Fotografia', 'Antônio Carlos Jobim'), ('Dindi (Dindi)', 'Antônio Carlos Jobim'), ('Se Todos Fossem Iguais A Você (Instrumental)', 'Antônio Carlos Jobim'), ('Falando De Amor', \n",
       "'Antônio Carlos Jobim'), ('Angela', 'Antônio Carlos Jobim'), ('Corcovado (Quiet Nights Of Quiet Stars)', 'Antônio Carlos Jobim'), ('Outra Vez', 'Antônio Carlos Jobim'), ('O Boto (Bôto)', 'Antônio \n",
       "Carlos Jobim'), ('Canta, Canta Mais', 'Antônio Carlos Jobim'), ('Enter Sandman', 'Apocalyptica'), ('Master Of Puppets', 'Apocalyptica'), ('Harvester Of Sorrow', 'Apocalyptica'), ('The Unforgiven', \n",
       "'Apocalyptica'), ('Sad But True', 'Apocalyptica'), ('Creeping Death', 'Apocalyptica'), ('Wherever I May Roam', 'Apocalyptica'), ('Welcome Home (Sanitarium)', 'Apocalyptica'), ('Cochise', \n",
       "'Audioslave'), ('Show Me How to Live', 'Audioslave'), ('Gasoline', 'Audioslave'), ('What You Are', 'Audioslave'), ('Like a Stone', 'Audioslave'), ('Set It Off', 'Audioslave'), ('Shadow on the Sun', \n",
       "'Audioslave'), ('I am the Highway', 'Audioslave'), ('Exploder', 'Audioslave'), ('Hypnotize', 'Audioslave'), (\"Bring'em Back Alive\", 'Audioslave'), ('Light My Way', 'Audioslave'), ('Getaway Car', \n",
       "'Audioslave'), ('The Last Remaining Light', 'Audioslave'), ('Your Time Has Come', 'Audioslave'), ('Out Of Exile', 'Audioslave'), ('Be Yourself', 'Audioslave'), (\"Doesn't Remind Me\", 'Audioslave'), \n",
       "('Drown Me Slowly', 'Audioslave'), (\"Heaven's Dead\", 'Audioslave'), ('The Worm', 'Audioslave'), ('Man Or Animal', 'Audioslave'), ('Yesterday To Tomorrow', 'Audioslave'), ('Dandelion', 'Audioslave'), \n",
       "('#1 Zero', 'Audioslave'), ('The Curse', 'Audioslave'), ('Money', 'BackBeat'), ('Long Tall Sally', 'BackBeat'), ('Bad Boy', 'BackBeat'), ('Twist And Shout', 'BackBeat'), ('Please Mr. Postman', \n",
       "'BackBeat'), (\"C'Mon Everybody\", 'BackBeat'), (\"Rock 'N' Roll Music\", 'BackBeat'), ('Slow Down', 'BackBeat'), ('Roadrunner', 'BackBeat'), ('Carol', 'BackBeat'), ('Good Golly Miss Molly', 'BackBeat'), \n",
       "('20 Flight Rock', 'BackBeat'), ('Quadrant', 'Billy Cobham'), (\"Snoopy's search-Red baron\", 'Billy Cobham'), ('Spanish moss-\"A sound portrait\"-Spanish moss', 'Billy Cobham'), ('Moon germs', 'Billy \n",
       "Cobham'), ('Stratus', 'Billy Cobham'), ('The pleasant pheasant', 'Billy Cobham'), ('Solo-Panhandler', 'Billy Cobham'), ('Do what cha wanna', 'Billy Cobham'), ('Intro/ Low Down', 'Black Label \n",
       "Society'), ('13 Years Of Grief', 'Black Label Society'), ('Stronger Than Death', 'Black Label Society'), ('All For You', 'Black Label Society'), ('Super Terrorizer', 'Black Label Society'), ('Phoney \n",
       "Smile Fake Hellos', 'Black Label Society'), ('Lost My Better Half', 'Black Label Society'), ('Bored To Tears', 'Black Label Society'), ('A.N.D.R.O.T.A.Z.', 'Black Label Society'), ('Born To Booze', \n",
       "'Black Label Society'), ('World Of Trouble', 'Black Label Society'), ('No More Tears', 'Black Label Society'), ('The Begining... At Last', 'Black Label Society'), ('Heart Of Gold', 'Black Label \n",
       "Society'), ('Snowblind', 'Black Label Society'), ('Like A Bird', 'Black Label Society'), ('Blood In The Wall', 'Black Label Society'), ('The Beginning...At Last', 'Black Label Society'), ('Black \n",
       "Sabbath', 'Black Sabbath'), ('The Wizard', 'Black Sabbath'), ('Behind The Wall Of Sleep', 'Black Sabbath'), ('N.I.B.', 'Black Sabbath'), ('Evil Woman', 'Black Sabbath'), ('Sleeping Village', 'Black \n",
       "Sabbath'), ('Warning', 'Black Sabbath'), ('Wheels Of Confusion / The Straightener', 'Black Sabbath'), (\"Tomorrow's Dream\", 'Black Sabbath'), ('Changes', 'Black Sabbath'), ('FX', 'Black Sabbath'), \n",
       "('Supernaut', 'Black Sabbath'), ('Snowblind', 'Black Sabbath'), ('Cornucopia', 'Black Sabbath'), ('Laguna Sunrise', 'Black Sabbath'), ('St. Vitus Dance', 'Black Sabbath'), ('Under The Sun/Every Day \n",
       "Comes and Goes', 'Black Sabbath'), ('Smoked Pork', 'Body Count'), (\"Body Count's In The House\", 'Body Count'), ('Now Sports', 'Body Count'), ('Body Count', 'Body Count'), ('A Statistic', 'Body \n",
       "Count'), ('Bowels Of The Devil', 'Body Count'), ('The Real Problem', 'Body Count'), ('KKK Bitch', 'Body Count'), ('D Note', 'Body Count'), ('Voodoo', 'Body Count'), ('The Winner Loses', 'Body Count'),\n",
       "('There Goes The Neighborhood', 'Body Count'), ('Oprah', 'Body Count'), ('Evil Dick', 'Body Count'), ('Body Count Anthem', 'Body Count'), (\"Momma's Gotta Die Tonight\", 'Body Count'), ('Freedom Of \n",
       "Speech', 'Body Count'), ('King In Crimson', 'Bruce Dickinson'), ('Chemical Wedding', 'Bruce Dickinson'), ('The Tower', 'Bruce Dickinson'), ('Killing Floor', 'Bruce Dickinson'), ('Book Of Thel', 'Bruce\n",
       "Dickinson'), ('Gates Of Urizen', 'Bruce Dickinson'), ('Jerusalem', 'Bruce Dickinson'), ('Trupets Of Jericho', 'Bruce Dickinson'), ('Machine Men', 'Bruce Dickinson'), ('The Alchemist', 'Bruce \n",
       "Dickinson'), ('Realword', 'Bruce Dickinson'), ('First Time I Met The Blues', 'Buddy Guy'), ('Let Me Love You Baby', 'Buddy Guy'), ('Stone Crazy', 'Buddy Guy'), ('Pretty Baby', 'Buddy Guy'), ('When My \n",
       "Left Eye Jumps', 'Buddy Guy'), ('Leave My Girl Alone', 'Buddy Guy'), ('She Suits Me To A Tee', 'Buddy Guy'), ('Keep It To Myself (Aka Keep It To Yourself)', 'Buddy Guy'), ('My Time After Awhile', \n",
       "'Buddy Guy'), ('Too Many Ways (Alternate)', 'Buddy Guy'), (\"Talkin' 'Bout Women Obviously\", 'Buddy Guy'), ('Jorge Da Capadócia', 'Caetano Veloso'), ('Prenda Minha', 'Caetano Veloso'), ('Meditação', \n",
       "'Caetano Veloso'), ('Terra', 'Caetano Veloso'), ('Eclipse Oculto', 'Caetano Veloso'), ('Texto \"Verdade Tropical\"', 'Caetano Veloso'), ('Bem Devagar', 'Caetano Veloso'), ('Drão', 'Caetano Veloso'), \n",
       "('Saudosismo', 'Caetano Veloso'), ('Carolina', 'Caetano Veloso'), ('Sozinho', 'Caetano Veloso'), ('Esse Cara', 'Caetano Veloso'), ('Mel', 'Caetano Veloso'), ('Linha Do Equador', 'Caetano Veloso'), \n",
       "('Odara', 'Caetano Veloso'), ('A Luz De Tieta', 'Caetano Veloso'), ('Atrás Da Verd-E-Rosa Só Não Vai Quem Já Morreu', 'Caetano Veloso'), ('Vida Boa', 'Caetano Veloso'), ('Sozinho (Hitmakers Classic \n",
       "Mix)', 'Caetano Veloso'), ('Sozinho (Hitmakers Classic Radio Edit)', 'Caetano Veloso'), (\"Sozinho (Caêdrum 'n' Bass)\", 'Caetano Veloso'), ('Carolina', 'Chico Buarque'), ('Essa Moça Ta Diferente', \n",
       "'Chico Buarque'), ('Vai Passar', 'Chico Buarque'), ('Samba De Orly', 'Chico Buarque'), ('Bye, Bye Brasil', 'Chico Buarque'), ('Atras Da Porta', 'Chico Buarque'), ('Tatuagem', 'Chico Buarque'), ('O Que\n",
       "Será (À Flor Da Terra)', 'Chico Buarque'), ('Morena De Angola', 'Chico Buarque'), ('Apesar De Você', 'Chico Buarque'), ('A Banda', 'Chico Buarque'), ('Minha Historia', 'Chico Buarque'), ('Com Açúcar E\n",
       "Com Afeto', 'Chico Buarque'), ('Brejo Da Cruz', 'Chico Buarque'), ('Meu Caro Amigo', 'Chico Buarque'), ('Geni E O Zepelim', 'Chico Buarque'), ('Trocando Em Miúdos', 'Chico Buarque'), ('Vai Trabalhar \n",
       "Vagabundo', 'Chico Buarque'), (\"Gota D'água\", 'Chico Buarque'), ('Construção / Deus Lhe Pague', 'Chico Buarque'), ('Mateus Enter', 'Chico Science & Nação Zumbi'), ('O Cidadão Do Mundo', 'Chico Science\n",
       "& Nação Zumbi'), ('Etnia', 'Chico Science & Nação Zumbi'), ('Quilombo Groove [Instrumental]', 'Chico Science & Nação Zumbi'), ('Macô', 'Chico Science & Nação Zumbi'), ('Um Passeio No Mundo Livre', \n",
       "'Chico Science & Nação Zumbi'), ('Samba Do Lado', 'Chico Science & Nação Zumbi'), ('Maracatu Atômico', 'Chico Science & Nação Zumbi'), ('O Encontro De Isaac Asimov Com Santos Dumont No Céu', 'Chico \n",
       "Science & Nação Zumbi'), ('Corpo De Lama', 'Chico Science & Nação Zumbi'), ('Sobremesa', 'Chico Science & Nação Zumbi'), ('Manguetown', 'Chico Science & Nação Zumbi'), ('Um Satélite Na Cabeça', 'Chico\n",
       "Science & Nação Zumbi'), ('Baião Ambiental [Instrumental]', 'Chico Science & Nação Zumbi'), ('Sangue De Bairro', 'Chico Science & Nação Zumbi'), ('Enqua\n",
       "..._This content has been truncated to stay below 50000 characters_...\n",
       "mething Nice Back Home', 'Lost'), ('Cabin Fever', 'Lost'), (\"There's No Place Like Home, Pt. 1\", 'Lost'), (\"There's No Place Like Home, Pt. 2\", 'Lost'), (\"There's No Place Like Home, Pt. 3\", 'Lost'), \n",
       "('Say Hello 2 Heaven', 'Temple of the Dog'), ('Reach Down', 'Temple of the Dog'), ('Hunger Strike', 'Temple of the Dog'), ('Pushin Forward Back', 'Temple of the Dog'), ('Call Me a Dog', 'Temple of the\n",
       "Dog'), ('Times of Trouble', 'Temple of the Dog'), ('Wooden Jesus', 'Temple of the Dog'), ('Your Savior', 'Temple of the Dog'), ('Four Walled World', 'Temple of the Dog'), ('All Night Thing', 'Temple \n",
       "of the Dog'), ('No Such Thing', 'Chris Cornell'), ('Poison Eye', 'Chris Cornell'), ('Arms Around Your Love', 'Chris Cornell'), ('Safe and Sound', 'Chris Cornell'), (\"She'll Never Be Your Man\", 'Chris \n",
       "Cornell'), ('Ghosts', 'Chris Cornell'), ('Killing Birds', 'Chris Cornell'), ('Billie Jean', 'Chris Cornell'), ('Scar On the Sky', 'Chris Cornell'), ('Your Soul Today', 'Chris Cornell'), ('Finally \n",
       "Forever', 'Chris Cornell'), ('Silence the Voices', 'Chris Cornell'), ('Disappearing Act', 'Chris Cornell'), ('You Know My Name', 'Chris Cornell'), ('Revelations', 'Audioslave'), ('One and the Same', \n",
       "'Audioslave'), ('Sound of a Gun', 'Audioslave'), ('Until We Fall', 'Audioslave'), ('Original Fire', 'Audioslave'), ('Broken City', 'Audioslave'), ('Somedays', 'Audioslave'), ('Shape of Things to \n",
       "Come', 'Audioslave'), ('Jewel of the Summertime', 'Audioslave'), ('Wide Awake', 'Audioslave'), ('Nothing Left to Say But Goodbye', 'Audioslave'), ('Moth', 'Audioslave'), ('Show Me How to Live (Live at\n",
       "the Quart Festival)', 'Audioslave'), ('Band Members Discuss Tracks from \"Revelations\"', 'Audioslave'), ('Intoitus: Adorate Deum', 'Alberto Turco & Nova Schola Gregoriana'), ('Miserere mei, Deus', \n",
       "'Richard Marlow & The Choir of Trinity College, Cambridge'), ('Canon and Gigue in D Major: I. Canon', 'English Concert & Trevor Pinnock'), ('Concerto No. 1 in E Major, RV 269 \"Spring\": I. Allegro', \n",
       "'Anne-Sophie Mutter, Herbert Von Karajan & Wiener Philharmoniker'), ('Concerto for 2 Violins in D Minor, BWV 1043: I. Vivace', 'Hilary Hahn, Jeffrey Kahane, Los Angeles Chamber Orchestra & Margaret \n",
       "Batjer'), ('Aria Mit 30 Veränderungen, BWV 988 \"Goldberg Variations\": Aria', 'Wilhelm Kempff'), ('Suite for Solo Cello No. 1 in G Major, BWV 1007: I. Prélude', 'Yo-Yo Ma'), ('The Messiah: Behold, I \n",
       "Tell You a Mystery... The Trumpet Shall Sound', 'Scholars Baroque Ensemble'), ('Solomon HWV 67: The Arrival of the Queen of Sheba', 'Academy of St. Martin in the Fields & Sir Neville Marriner'), \n",
       "('\"Eine Kleine Nachtmusik\" Serenade In G, K. 525: I. Allegro', 'Academy of St. Martin in the Fields Chamber Ensemble & Sir Neville Marriner'), ('Concerto for Clarinet in A Major, K. 622: II. Adagio', \n",
       "'Berliner Philharmoniker, Claudio Abbado & Sabine Meyer'), ('Symphony No. 104 in D Major \"London\": IV. Finale: Spiritoso', 'Royal Philharmonic Orchestra & Sir Thomas Beecham'), ('Symphony No.5 in C \n",
       "Minor: I. Allegro con brio', 'Orchestre Révolutionnaire et Romantique & John Eliot Gardiner'), ('Ave Maria', 'Britten Sinfonia, Ivor Bolton & Lesley Garrett'), ('Nabucco: Chorus, \"Va, Pensiero, \n",
       "Sull\\'ali Dorate\"', 'Chicago Symphony Chorus, Chicago Symphony Orchestra & Sir Georg Solti'), ('Die Walküre: The Ride of the Valkyries', 'Sir Georg Solti & Wiener Philharmoniker'), ('Requiem, Op.48: \n",
       "4. Pie Jesu', 'Academy of St. Martin in the Fields, John Birch, Sir Neville Marriner & Sylvia McNair'), ('The Nutcracker, Op. 71a, Act II: Scene 14: Pas de deux: Dance of the Prince & the Sugar-Plum \n",
       "Fairy', 'London Symphony Orchestra & Sir Charles Mackerras'), ('Nimrod (Adagio) from Variations On an Original Theme, Op. 36 \"Enigma\"', 'Barry Wordsworth & BBC Concert Orchestra'), ('Madama Butterfly:\n",
       "Un Bel Dì Vedremo', 'Herbert Von Karajan, Mirella Freni & Wiener Philharmoniker'), ('Jupiter, the Bringer of Jollity', 'Eugene Ormandy'), ('Turandot, Act III, Nessun dorma!', 'Luciano Pavarotti'), \n",
       "('Adagio for Strings from the String Quartet, Op. 11', 'Leonard Bernstein & New York Philharmonic'), ('Carmina Burana: O Fortuna', 'Boston Symphony Orchestra & Seiji Ozawa'), ('Fanfare for the Common \n",
       "Man', 'Aaron Copland & London Symphony Orchestra'), ('Branch Closing', 'The Office'), ('The Return', 'The Office'), ('Toccata and Fugue in D Minor, BWV 565: I. Toccata', 'Ton Koopman'), ('Symphony \n",
       "No.1 in D Major, Op.25 \"Classical\", Allegro Con Brio', 'Sergei Prokofiev & Yuri Temirkanov'), (\"Scheherazade, Op. 35: I. The Sea and Sindbad's Ship\", 'Chicago Symphony Orchestra & Fritz Reiner'), \n",
       "('Concerto No.2 in F Major, BWV1047, I. Allegro', 'Orchestra of The Age of Enlightenment'), ('Concerto for Piano No. 2 in F Minor, Op. 21: II. Larghetto', 'Emanuel Ax, Eugene Ormandy & Philadelphia \n",
       "Orchestra'), ('Cavalleria Rusticana \\\\ Act \\\\ Intermezzo Sinfonico', 'James Levine'), ('Karelia Suite, Op.11: 2. Ballade (Tempo Di Menuetto)', 'Berliner Philharmoniker & Hans Rosbaud'), ('Piano Sonata\n",
       "No. 14 in C Sharp Minor, Op. 27, No. 2, \"Moonlight\": I. Adagio sostenuto', 'Maurizio Pollini'), ('Fantasia On Greensleeves', 'Academy of St. Martin in the Fields & Sir Neville Marriner'), ('Das Lied \n",
       "Von Der Erde, Von Der Jugend', 'Gustav Mahler'), ('Concerto for Cello and Orchestra in E minor, Op. 85: I. Adagio - Moderato', 'Felix Schmidt, London Symphony Orchestra & Rafael Frühbeck de Burgos'), \n",
       "('Two Fanfares for Orchestra: II. Short Ride in a Fast Machine', 'Edo de Waart & San Francisco Symphony'), (\"Wellington's Victory or the Battle Symphony, Op.91: 2. Symphony of Triumph\", 'Antal Doráti \n",
       "& London Symphony Orchestra'), ('Missa Papae Marcelli: Kyrie', 'Choir Of Westminster Abbey & Simon Preston'), ('Romeo et Juliette: No. 11 - Danse des Chevaliers', 'Michael Tilson Thomas & San \n",
       "Francisco Symphony'), ('On the Beautiful Blue Danube', 'Eugene Ormandy'), (\"Symphonie Fantastique, Op. 14: V. Songe d'une nuit du sabbat\", 'Michael Tilson Thomas & San Francisco Symphony'), ('Carmen: \n",
       "Overture', 'Chor der Wiener Staatsoper, Herbert Von Karajan & Wiener Philharmoniker'), ('Lamentations of Jeremiah, First Set \\\\ Incipit Lamentatio', \"The King's Singers\"), ('Music for the Royal \n",
       "Fireworks, HWV351 (1749): La Réjouissance', 'English Concert & Trevor Pinnock'), ('Peer Gynt Suite No.1, Op.46: 1. Morning Mood', 'Berliner Philharmoniker & Herbert Von Karajan'), ('Die Zauberflöte, \n",
       "K.620: \"Der Hölle Rache Kocht in Meinem Herze\"', 'Sir Georg Solti, Sumi Jo & Wiener Philharmoniker'), ('SCRIABIN: Prelude in B Major, Op. 11, No. 11', \"Christopher O'Riley\"), ('Pavan, Lachrimae \n",
       "Antiquae', 'Fretwork'), ('Symphony No. 41 in C Major, K. 551, \"Jupiter\": IV. Molto allegro', 'Berliner Philharmoniker & Herbert Von Karajan'), ('Rehab', 'Amy Winehouse'), (\"You Know I'm No Good\", 'Amy\n",
       "Winehouse'), ('Me & Mr. Jones', 'Amy Winehouse'), ('Just Friends', 'Amy Winehouse'), ('Back to Black', 'Amy Winehouse'), ('Love Is a Losing Game', 'Amy Winehouse'), ('Tears Dry On Their Own', 'Amy \n",
       "Winehouse'), ('Wake Up Alone', 'Amy Winehouse'), ('Some Unholy War', 'Amy Winehouse'), ('He Can Only Hold Her', 'Amy Winehouse'), (\"You Know I'm No Good (feat. Ghostface Killah)\", 'Amy Winehouse'), \n",
       "('Rehab (Hot Chip Remix)', 'Amy Winehouse'), ('Intro / Stronger Than Me', 'Amy Winehouse'), ('You Sent Me Flying / Cherry', 'Amy Winehouse'), ('F**k Me Pumps', 'Amy Winehouse'), ('I Heard Love Is \n",
       "Blind', 'Amy Winehouse'), ('(There Is) No Greater Love (Teo Licks)', 'Amy Winehouse'), ('In My Bed', 'Amy Winehouse'), ('Take the Box', 'Amy Winehouse'), ('October Song', 'Amy Winehouse'), ('What Is \n",
       "It About Men', 'Amy Winehouse'), ('Help Yourself', 'Amy Winehouse'), ('Amy Amy Amy (Outro)', 'Amy Winehouse'), ('Slowness', 'Calexico'), ('Prometheus Overture, Op. 43', 'Otto Klemperer & Philharmonia \n",
       "Orchestra'), ('Sonata for Solo Violin: IV: Presto', 'Yehudi Menuhin'), (\"A Midsummer Night's Dream, Op.61 Incidental Music: No.7 Notturno\", 'Philharmonia Orchestra & Sir Neville Marriner'), ('Suite \n",
       "No. 3 in D, BWV 1068: III. Gavotte I & II', 'Academy of St. Martin in the Fields, Sir Neville Marriner & Thurston Dart'), ('Concert pour 4 Parties de V**les, H. 545: I. Prelude', 'Les Arts Florissants\n",
       "& William Christie'), ('Adios nonino', 'The 12 Cellists of The Berlin Philharmonic'), ('Symphony No. 3 Op. 36 for Orchestra and Soprano \"Symfonia Piesni Zalosnych\" \\\\ Lento E Largo - Tranquillissimo',\n",
       "'Adrian Leaper & Doreen de Feis'), ('Act IV, Symphony', 'Roger Norrington, London Classical Players'), ('3 Gymnopédies: No.1 - Lent Et Grave, No.3 - Lent Et Douloureux', \"Charles Dutoit & L'Orchestre \n",
       "Symphonique de Montréal\"), ('Music for the Funeral of Queen Mary: VI. \"Thou Knowest, Lord, the Secrets of Our Hearts\"', 'Equale Brass Ensemble, John Eliot Gardiner & Munich Monteverdi Orchestra and \n",
       "Choir'), ('Symphony No. 2: III. Allegro vivace', \"Kent Nagano and Orchestre de l'Opéra de Lyon\"), ('Partita in E Major, BWV 1006A: I. Prelude', 'Julian Bream'), ('Le Sacre Du Printemps: I.iv. Spring \n",
       "Rounds', 'Berliner Philharmoniker & Herbert Von Karajan'), ('Sing Joyfully', \"The King's Singers\"), ('Metopes, Op. 29: Calypso', 'Martin Roscoe'), ('Symphony No. 2, Op. 16 -  \"The Four Temperaments\": \n",
       "II. Allegro Comodo e Flemmatico', 'Göteborgs Symfoniker & Neeme Järvi'), ('24 Caprices, Op. 1, No. 24, for Solo Violin, in A Minor', 'Itzhak Perlman'), ('Étude 1, In C Major - Preludio (Presto) - \n",
       "Liszt', 'Michele Campanella'), ('Erlkonig, D.328', 'Gerald Moore'), ('Concerto for Violin, Strings and Continuo in G Major, Op. 3, No. 9: I. Allegro', 'Mela Tenenbaum, Pro Musica Prague & Richard \n",
       "Kapp'), ('Pini Di Roma (Pinien Von Rom) \\\\ I Pini Della Via Appia', 'Eugene Ormandy'), ('String Quartet No. 12 in C Minor, D. 703 \"Quartettsatz\": II. Andante - Allegro assai', 'Emerson String \n",
       "Quartet'), (\"L'orfeo, Act 3, Sinfonia (Orchestra)\", 'C. Monteverdi, Nigel Rogers - Chiaroscuro; London Baroque; London Cornett & Sackbu'), ('Quintet for Horn, Violin, 2 Violas, and Cello in E Flat \n",
       "Major, K. 407/386c: III. Allegro', 'Nash Ensemble'), ('Koyaanisqatsi', 'Philip Glass Ensemble')]\n",
       "\n",
       "Out: None\n"
      ]
     },
     "metadata": {},
     "output_type": "display_data"
    },
    {
     "data": {
      "text/html": [
       "<pre style=\"white-space:pre;overflow-x:auto;line-height:normal;font-family:Menlo,'DejaVu Sans Mono',consolas,'Courier New',monospace\"><span style=\"color: #7f7f7f; text-decoration-color: #7f7f7f\">[Step 3: Duration 0.55 seconds| Input tokens: 10,607 | Output tokens: 393]</span>\n",
       "</pre>\n"
      ],
      "text/plain": [
       "\u001b[2m[Step 3: Duration 0.55 seconds| Input tokens: 10,607 | Output tokens: 393]\u001b[0m\n"
      ]
     },
     "metadata": {},
     "output_type": "display_data"
    },
    {
     "data": {
      "text/html": [
       "<pre style=\"white-space:pre;overflow-x:auto;line-height:normal;font-family:Menlo,'DejaVu Sans Mono',consolas,'Courier New',monospace\"><span style=\"color: #d4b702; text-decoration-color: #d4b702\">━━━━━━━━━━━━━━━━━━━━━━━━━━━━━━━━━━━━━━━━━━━━━━━━━━━━━━━━━━━━━━━━━━━━━━━━━━━━━━━━━━━━━━━━━━━━━━━━ </span><span style=\"font-weight: bold\">Step </span><span style=\"color: #008080; text-decoration-color: #008080; font-weight: bold\">4</span><span style=\"color: #d4b702; text-decoration-color: #d4b702\"> ━━━━━━━━━━━━━━━━━━━━━━━━━━━━━━━━━━━━━━━━━━━━━━━━━━━━━━━━━━━━━━━━━━━━━━━━━━━━━━━━━━━━━━━━━━━━━━━━</span>\n",
       "</pre>\n"
      ],
      "text/plain": [
       "\u001b[38;2;212;183;2m━━━━━━━━━━━━━━━━━━━━━━━━━━━━━━━━━━━━━━━━━━━━━━━━━━━━━━━━━━━━━━━━━━━━━━━━━━━━━━━━━━━━━━━━━━━━━━━━ \u001b[0m\u001b[1mStep \u001b[0m\u001b[1;36m4\u001b[0m\u001b[38;2;212;183;2m ━━━━━━━━━━━━━━━━━━━━━━━━━━━━━━━━━━━━━━━━━━━━━━━━━━━━━━━━━━━━━━━━━━━━━━━━━━━━━━━━━━━━━━━━━━━━━━━━\u001b[0m\n"
      ]
     },
     "metadata": {},
     "output_type": "display_data"
    },
    {
     "data": {
      "text/html": [
       "<pre style=\"white-space:pre;overflow-x:auto;line-height:normal;font-family:Menlo,'DejaVu Sans Mono',consolas,'Courier New',monospace\"> ─ <span style=\"font-weight: bold\">Executing this code:</span> ─────────────────────────────────────────────────────────────────────────────────────────────────────────────────────────────────────────────────────────────────────────────── \n",
       "  <span style=\"color: #ff4689; text-decoration-color: #ff4689; background-color: #272822\">import</span><span style=\"color: #f8f8f2; text-decoration-color: #f8f8f2; background-color: #272822\"> json</span><span style=\"background-color: #272822\">                                                                                                                                                                                         </span>  \n",
       "  <span style=\"color: #f8f8f2; text-decoration-color: #f8f8f2; background-color: #272822\">mj_songs </span><span style=\"color: #ff4689; text-decoration-color: #ff4689; background-color: #272822\">=</span><span style=\"color: #f8f8f2; text-decoration-color: #f8f8f2; background-color: #272822\"> []</span><span style=\"background-color: #272822\">                                                                                                                                                                                       </span>  \n",
       "  <span style=\"color: #66d9ef; text-decoration-color: #66d9ef; background-color: #272822\">for</span><span style=\"color: #f8f8f2; text-decoration-color: #f8f8f2; background-color: #272822\"> song </span><span style=\"color: #ff4689; text-decoration-color: #ff4689; background-color: #272822\">in</span><span style=\"color: #f8f8f2; text-decoration-color: #f8f8f2; background-color: #272822\"> all_songs:</span><span style=\"background-color: #272822\">                                                                                                                                                                              </span>  \n",
       "  <span style=\"color: #f8f8f2; text-decoration-color: #f8f8f2; background-color: #272822\">    </span><span style=\"color: #66d9ef; text-decoration-color: #66d9ef; background-color: #272822\">if</span><span style=\"color: #f8f8f2; text-decoration-color: #f8f8f2; background-color: #272822\"> </span><span style=\"color: #e6db74; text-decoration-color: #e6db74; background-color: #272822\">'Michael Jackson'</span><span style=\"color: #f8f8f2; text-decoration-color: #f8f8f2; background-color: #272822\"> </span><span style=\"color: #ff4689; text-decoration-color: #ff4689; background-color: #272822\">in</span><span style=\"color: #f8f8f2; text-decoration-color: #f8f8f2; background-color: #272822\"> song[</span><span style=\"color: #ae81ff; text-decoration-color: #ae81ff; background-color: #272822\">1</span><span style=\"color: #f8f8f2; text-decoration-color: #f8f8f2; background-color: #272822\">]:</span><span style=\"background-color: #272822\">                                                                                                                                                                </span>  \n",
       "  <span style=\"color: #f8f8f2; text-decoration-color: #f8f8f2; background-color: #272822\">        mj_songs</span><span style=\"color: #ff4689; text-decoration-color: #ff4689; background-color: #272822\">.</span><span style=\"color: #f8f8f2; text-decoration-color: #f8f8f2; background-color: #272822\">append(song[</span><span style=\"color: #ae81ff; text-decoration-color: #ae81ff; background-color: #272822\">0</span><span style=\"color: #f8f8f2; text-decoration-color: #f8f8f2; background-color: #272822\">])</span><span style=\"background-color: #272822\">                                                                                                                                                                    </span>  \n",
       "  <span style=\"color: #f8f8f2; text-decoration-color: #f8f8f2; background-color: #272822\">print(mj_songs)</span><span style=\"background-color: #272822\">                                                                                                                                                                                     </span>  \n",
       " ────────────────────────────────────────────────────────────────────────────────────────────────────────────────────────────────────────────────────────────────────────────────────────────────────── \n",
       "</pre>\n"
      ],
      "text/plain": [
       " ─ \u001b[1mExecuting this code:\u001b[0m ─────────────────────────────────────────────────────────────────────────────────────────────────────────────────────────────────────────────────────────────────────────────── \n",
       "  \u001b[38;2;255;70;137;48;2;39;40;34mimport\u001b[0m\u001b[38;2;248;248;242;48;2;39;40;34m \u001b[0m\u001b[38;2;248;248;242;48;2;39;40;34mjson\u001b[0m\u001b[48;2;39;40;34m                                                                                                                                                                                         \u001b[0m  \n",
       "  \u001b[38;2;248;248;242;48;2;39;40;34mmj_songs\u001b[0m\u001b[38;2;248;248;242;48;2;39;40;34m \u001b[0m\u001b[38;2;255;70;137;48;2;39;40;34m=\u001b[0m\u001b[38;2;248;248;242;48;2;39;40;34m \u001b[0m\u001b[38;2;248;248;242;48;2;39;40;34m[\u001b[0m\u001b[38;2;248;248;242;48;2;39;40;34m]\u001b[0m\u001b[48;2;39;40;34m                                                                                                                                                                                       \u001b[0m  \n",
       "  \u001b[38;2;102;217;239;48;2;39;40;34mfor\u001b[0m\u001b[38;2;248;248;242;48;2;39;40;34m \u001b[0m\u001b[38;2;248;248;242;48;2;39;40;34msong\u001b[0m\u001b[38;2;248;248;242;48;2;39;40;34m \u001b[0m\u001b[38;2;255;70;137;48;2;39;40;34min\u001b[0m\u001b[38;2;248;248;242;48;2;39;40;34m \u001b[0m\u001b[38;2;248;248;242;48;2;39;40;34mall_songs\u001b[0m\u001b[38;2;248;248;242;48;2;39;40;34m:\u001b[0m\u001b[48;2;39;40;34m                                                                                                                                                                              \u001b[0m  \n",
       "  \u001b[38;2;248;248;242;48;2;39;40;34m    \u001b[0m\u001b[38;2;102;217;239;48;2;39;40;34mif\u001b[0m\u001b[38;2;248;248;242;48;2;39;40;34m \u001b[0m\u001b[38;2;230;219;116;48;2;39;40;34m'\u001b[0m\u001b[38;2;230;219;116;48;2;39;40;34mMichael Jackson\u001b[0m\u001b[38;2;230;219;116;48;2;39;40;34m'\u001b[0m\u001b[38;2;248;248;242;48;2;39;40;34m \u001b[0m\u001b[38;2;255;70;137;48;2;39;40;34min\u001b[0m\u001b[38;2;248;248;242;48;2;39;40;34m \u001b[0m\u001b[38;2;248;248;242;48;2;39;40;34msong\u001b[0m\u001b[38;2;248;248;242;48;2;39;40;34m[\u001b[0m\u001b[38;2;174;129;255;48;2;39;40;34m1\u001b[0m\u001b[38;2;248;248;242;48;2;39;40;34m]\u001b[0m\u001b[38;2;248;248;242;48;2;39;40;34m:\u001b[0m\u001b[48;2;39;40;34m                                                                                                                                                                \u001b[0m  \n",
       "  \u001b[38;2;248;248;242;48;2;39;40;34m        \u001b[0m\u001b[38;2;248;248;242;48;2;39;40;34mmj_songs\u001b[0m\u001b[38;2;255;70;137;48;2;39;40;34m.\u001b[0m\u001b[38;2;248;248;242;48;2;39;40;34mappend\u001b[0m\u001b[38;2;248;248;242;48;2;39;40;34m(\u001b[0m\u001b[38;2;248;248;242;48;2;39;40;34msong\u001b[0m\u001b[38;2;248;248;242;48;2;39;40;34m[\u001b[0m\u001b[38;2;174;129;255;48;2;39;40;34m0\u001b[0m\u001b[38;2;248;248;242;48;2;39;40;34m]\u001b[0m\u001b[38;2;248;248;242;48;2;39;40;34m)\u001b[0m\u001b[48;2;39;40;34m                                                                                                                                                                    \u001b[0m  \n",
       "  \u001b[38;2;248;248;242;48;2;39;40;34mprint\u001b[0m\u001b[38;2;248;248;242;48;2;39;40;34m(\u001b[0m\u001b[38;2;248;248;242;48;2;39;40;34mmj_songs\u001b[0m\u001b[38;2;248;248;242;48;2;39;40;34m)\u001b[0m\u001b[48;2;39;40;34m                                                                                                                                                                                     \u001b[0m  \n",
       " ────────────────────────────────────────────────────────────────────────────────────────────────────────────────────────────────────────────────────────────────────────────────────────────────────── \n"
      ]
     },
     "metadata": {},
     "output_type": "display_data"
    },
    {
     "data": {
      "text/html": [
       "<pre style=\"white-space:pre;overflow-x:auto;line-height:normal;font-family:Menlo,'DejaVu Sans Mono',consolas,'Courier New',monospace\"><span style=\"font-weight: bold\">Execution logs:</span>\n",
       "[]\n",
       "\n",
       "Out: None\n",
       "</pre>\n"
      ],
      "text/plain": [
       "\u001b[1mExecution logs:\u001b[0m\n",
       "[]\n",
       "\n",
       "Out: None\n"
      ]
     },
     "metadata": {},
     "output_type": "display_data"
    },
    {
     "data": {
      "text/html": [
       "<pre style=\"white-space:pre;overflow-x:auto;line-height:normal;font-family:Menlo,'DejaVu Sans Mono',consolas,'Courier New',monospace\"><span style=\"color: #7f7f7f; text-decoration-color: #7f7f7f\">[Step 4: Duration 0.61 seconds| Input tokens: 20,079 | Output tokens: 479]</span>\n",
       "</pre>\n"
      ],
      "text/plain": [
       "\u001b[2m[Step 4: Duration 0.61 seconds| Input tokens: 20,079 | Output tokens: 479]\u001b[0m\n"
      ]
     },
     "metadata": {},
     "output_type": "display_data"
    },
    {
     "data": {
      "text/html": [
       "<pre style=\"white-space:pre;overflow-x:auto;line-height:normal;font-family:Menlo,'DejaVu Sans Mono',consolas,'Courier New',monospace\"><span style=\"color: #800000; text-decoration-color: #800000; font-weight: bold\">Reached max steps.</span>\n",
       "</pre>\n"
      ],
      "text/plain": [
       "\u001b[1;31mReached max steps.\u001b[0m\n"
      ]
     },
     "metadata": {},
     "output_type": "display_data"
    },
    {
     "data": {
      "text/html": [
       "<pre style=\"white-space:pre;overflow-x:auto;line-height:normal;font-family:Menlo,'DejaVu Sans Mono',consolas,'Courier New',monospace\">Final answer: Unfortunately, I was unable to retrieve the list of songs by Michael Jackson. The Chinook database does not contain any songs by Michael Jackson. I tried different approaches, but none \n",
       "of them were successful.\n",
       "\n",
       "If you need to find the list of Michael Jackson's songs, I suggest trying a different source, such as a music streaming platform or a website dedicated to Michael Jackson's music.\n",
       "</pre>\n"
      ],
      "text/plain": [
       "Final answer: Unfortunately, I was unable to retrieve the list of songs by Michael Jackson. The Chinook database does not contain any songs by Michael Jackson. I tried different approaches, but none \n",
       "of them were successful.\n",
       "\n",
       "If you need to find the list of Michael Jackson's songs, I suggest trying a different source, such as a music streaming platform or a website dedicated to Michael Jackson's music.\n"
      ]
     },
     "metadata": {},
     "output_type": "display_data"
    },
    {
     "data": {
      "text/html": [
       "<pre style=\"white-space:pre;overflow-x:auto;line-height:normal;font-family:Menlo,'DejaVu Sans Mono',consolas,'Courier New',monospace\"><span style=\"color: #7f7f7f; text-decoration-color: #7f7f7f\">[Step 5: Duration 0.00 seconds| Input tokens: 27,587 | Output tokens: 556]</span>\n",
       "</pre>\n"
      ],
      "text/plain": [
       "\u001b[2m[Step 5: Duration 0.00 seconds| Input tokens: 27,587 | Output tokens: 556]\u001b[0m\n"
      ]
     },
     "metadata": {},
     "output_type": "display_data"
    },
    {
     "data": {
      "text/plain": [
       "\"Unfortunately, I was unable to retrieve the list of songs by Michael Jackson. The Chinook database does not contain any songs by Michael Jackson. I tried different approaches, but none of them were successful.\\n\\nIf you need to find the list of Michael Jackson's songs, I suggest trying a different source, such as a music streaming platform or a website dedicated to Michael Jackson's music.\""
      ]
     },
     "execution_count": 30,
     "metadata": {},
     "output_type": "execute_result"
    }
   ],
   "source": [
    "#TODO: Force agent to only search 'internal'. Do not use search engine\n",
    "band = \"michael jackson\"\n",
    "#band = \"men at work\"\n",
    "\n",
    "agent.run(f\"\"\" \n",
    "   List all the songs by {band}. \n",
    "   Display the songs in a number list starting from 1.\n",
    "\"\"\")"
   ]
  }
 ],
 "metadata": {
  "kernelspec": {
   "display_name": "Python 3",
   "language": "python",
   "name": "python3"
  },
  "language_info": {
   "codemirror_mode": {
    "name": "ipython",
    "version": 3
   },
   "file_extension": ".py",
   "mimetype": "text/x-python",
   "name": "python",
   "nbconvert_exporter": "python",
   "pygments_lexer": "ipython3",
   "version": "3.12.8"
  }
 },
 "nbformat": 4,
 "nbformat_minor": 2
}
