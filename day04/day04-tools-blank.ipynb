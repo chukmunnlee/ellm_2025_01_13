{
 "cells": [
  {
   "cell_type": "markdown",
   "metadata": {},
   "source": [
    "# Tools\n",
    "\n",
    "This notebook contains all the tools that will be used by the agent."
   ]
  },
  {
   "cell_type": "code",
   "execution_count": 1,
   "metadata": {},
   "outputs": [],
   "source": [
    "import requests\n",
    "import sqlite3\n",
    "import pandas as pd\n",
    "\n",
    "from transformers import Tool\n",
    "from smolagents import tool"
   ]
  },
  {
   "cell_type": "markdown",
   "metadata": {},
   "source": [
    "## Creating simple tool\n",
    "\n",
    "A Python function must be annotated with `@tool`. It should also have a docstring describing what does the function do, what does it return and the description of its parameters."
   ]
  },
  {
   "cell_type": "markdown",
   "metadata": {},
   "source": [
    "### City to location \n",
    "\n",
    "The following function look up at latitude and longitude of a city."
   ]
  },
  {
   "cell_type": "code",
   "execution_count": 5,
   "metadata": {},
   "outputs": [
    {
     "name": "stdout",
     "output_type": "stream",
     "text": [
      "   id      country            city   latitude  longitude  altitude\n",
      "0   2  Afghanistan        Kandahar  31.610000  65.699997    1015.0\n",
      "1   3  Afghanistan  Mazar-e Sharif  36.706944  67.112221     369.0\n",
      "2   4  Afghanistan           Herat  34.340000  62.189999     927.0\n",
      "3   5  Afghanistan       Jalalabad  34.420000  70.449997     573.0\n",
      "4   6  Afghanistan          Konduz  36.720000  68.860001     394.0\n"
     ]
    }
   ],
   "source": [
    "# TODO: Load CSV file containing latitude, longitude and altitude of cities from the file data/cities_latlng.csv\n",
    "# TODO: Use df as the variable name\n",
    "# https://github.com/bahar/WorldCityLocations/tree/master\n",
    "\n",
    "df = pd.read_csv('./data/cities_latlng.csv', sep=\";\")\n",
    "df.columns = [ 'id', 'country', 'city', 'latitude', 'longitude', 'altitude']\n",
    "print(df.head())\n",
    "\n",
    "df.drop('country', axis=1, inplace=True)"
   ]
  },
  {
   "cell_type": "code",
   "execution_count": 6,
   "metadata": {},
   "outputs": [
    {
     "data": {
      "text/html": [
       "<div>\n",
       "<style scoped>\n",
       "    .dataframe tbody tr th:only-of-type {\n",
       "        vertical-align: middle;\n",
       "    }\n",
       "\n",
       "    .dataframe tbody tr th {\n",
       "        vertical-align: top;\n",
       "    }\n",
       "\n",
       "    .dataframe thead th {\n",
       "        text-align: right;\n",
       "    }\n",
       "</style>\n",
       "<table border=\"1\" class=\"dataframe\">\n",
       "  <thead>\n",
       "    <tr style=\"text-align: right;\">\n",
       "      <th></th>\n",
       "      <th>id</th>\n",
       "      <th>city</th>\n",
       "      <th>latitude</th>\n",
       "      <th>longitude</th>\n",
       "      <th>altitude</th>\n",
       "    </tr>\n",
       "  </thead>\n",
       "  <tbody>\n",
       "    <tr>\n",
       "      <th>5481</th>\n",
       "      <td>5483</td>\n",
       "      <td>Tokyo</td>\n",
       "      <td>35.689527</td>\n",
       "      <td>139.691681</td>\n",
       "      <td>40.0</td>\n",
       "    </tr>\n",
       "  </tbody>\n",
       "</table>\n",
       "</div>"
      ],
      "text/plain": [
       "        id   city   latitude   longitude  altitude\n",
       "5481  5483  Tokyo  35.689527  139.691681      40.0"
      ]
     },
     "execution_count": 6,
     "metadata": {},
     "output_type": "execute_result"
    }
   ],
   "source": [
    "# TODO: Explore the loaded dataframe\n",
    "df[df['city'] == 'Tokyo']\n"
   ]
  },
  {
   "cell_type": "code",
   "execution_count": 13,
   "metadata": {},
   "outputs": [],
   "source": [
    "# TODO: Add tool description\n",
    "\n",
    "@tool\n",
    "def get_latlng(city: str) -> dict:\n",
    "   \"\"\" \n",
    "   Return the latitude, longitude and altitude of a city in a dictionary with the following 4 keys: city, latitude, longitude, altitude\n",
    "\n",
    "   Args:\n",
    "      city: the name of the city that you want the latitude, longitude and altitude \n",
    "   \"\"\"\n",
    "   r = df.query(f\"city.str.lower() == '{city.lower()}'\")\n",
    "   if len(r) <= 0:\n",
    "      return None\n",
    "   return { 'city': city, 'latitude': r.iloc[0]['latitude'], 'longitude': r.iloc[0]['longitude'], 'altitude': r.iloc[0]['altitude'] }"
   ]
  },
  {
   "cell_type": "code",
   "execution_count": 10,
   "metadata": {},
   "outputs": [
    {
     "data": {
      "text/plain": [
       "{'city': 'tokyo',\n",
       " 'latitude': 35.6895266,\n",
       " 'longitude': 139.6916809,\n",
       " 'altitude': 40.0}"
      ]
     },
     "execution_count": 10,
     "metadata": {},
     "output_type": "execute_result"
    }
   ],
   "source": [
    "# TODO: Test get_latlng method\n",
    "# TODO: perform a case insensitive search\n",
    "get_latlng('tokyo')\n"
   ]
  },
  {
   "cell_type": "markdown",
   "metadata": {},
   "source": [
    "### Temperature at latitude and longitude\n",
    "\n",
    "The following function lookup the weather at the given latitude and longtude."
   ]
  },
  {
   "cell_type": "code",
   "execution_count": 19,
   "metadata": {},
   "outputs": [],
   "source": [
    "# TODO: Add tool description\n",
    "\n",
    "@tool\n",
    "def get_temperature(latitude: float, longitude: float) -> dict:\n",
    "   \"\"\" \n",
    "   Return the temperature of a location given by the latitude and longitude in a dictionary with the following 2 keys: temperature_unit, temperature\n",
    "\n",
    "   Args:\n",
    "      latitude: latitude of a city, a number\n",
    "      longitude: longitude of a city, a number\n",
    "   \"\"\"\n",
    "   url = f\"https://api.open-meteo.com/v1/forecast?latitude={latitude}&longitude={longitude}&current=temperature_2m\"\n",
    "   resp = requests.get(url)\n",
    "   j = resp.json()\n",
    "   if resp.status_code >= 400:\n",
    "      raise Exception(j['reason'])\n",
    "   temperature = j['current']['temperature_2m']\n",
    "   units = j['current_units']['temperature_2m']\n",
    "   return { \"temperature_unit\": units, \"temperature\": temperature }"
   ]
  },
  {
   "cell_type": "code",
   "execution_count": 20,
   "metadata": {},
   "outputs": [
    {
     "name": "stdout",
     "output_type": "stream",
     "text": [
      "{'temperature_unit': '°C', 'temperature': 22.0}\n"
     ]
    }
   ],
   "source": [
    "# TODO: Test get_temperature method\n",
    "\n",
    "# case insensitive search\n",
    "pos = get_latlng('mumbai')\n",
    "temperature = get_temperature(pos['latitude'], pos['longitude'])\n",
    "print(temperature)"
   ]
  },
  {
   "cell_type": "markdown",
   "metadata": {},
   "source": [
    "### Query relational database\n",
    "\n",
    "The following function queries a relational database (SQLite) view called `album_track`. The table's schema is as follows:\n",
    "| Field name  | Type          |\n",
    "|-------------|---------------| \n",
    "| AlbumId     | integer       |\n",
    "| Title       | nvarchar(160) |\n",
    "| track_name  | nvarchar(200) |\n",
    "| artist_name | nvarchar(120) |\n",
    "| duration    | integer       |\n",
    "| composer    | nvarchar(220) |\n"
   ]
  },
  {
   "cell_type": "code",
   "execution_count": 21,
   "metadata": {},
   "outputs": [],
   "source": [
    "# TODO: Add tool description\n",
    "\n",
    "def query_album_track(query: str) -> str:\n",
    "   database = \"data/chinook_sqlite.sqlite\" \n",
    "   conn = sqlite3.connect(database)\n",
    "   try:\n",
    "      cursor = conn.cursor() \n",
    "      rows = cursor.execute(query)\n",
    "      return rows.fetchall()\n",
    "   finally:\n",
    "      conn.close()"
   ]
  },
  {
   "cell_type": "code",
   "execution_count": 24,
   "metadata": {},
   "outputs": [
    {
     "data": {
      "text/plain": [
       "[('AC/DC',),\n",
       " ('Accept',),\n",
       " ('Aerosmith',),\n",
       " ('Alanis Morissette',),\n",
       " ('Alice In Chains',),\n",
       " ('Antônio Carlos Jobim',),\n",
       " ('Apocalyptica',),\n",
       " ('Audioslave',),\n",
       " ('BackBeat',),\n",
       " ('Billy Cobham',),\n",
       " ('Black Label Society',),\n",
       " ('Black Sabbath',),\n",
       " ('Body Count',),\n",
       " ('Bruce Dickinson',),\n",
       " ('Buddy Guy',),\n",
       " ('Caetano Veloso',),\n",
       " ('Chico Buarque',),\n",
       " ('Chico Science & Nação Zumbi',),\n",
       " ('Cidade Negra',),\n",
       " ('Cláudio Zoli',),\n",
       " ('Various Artists',),\n",
       " ('Led Zeppelin',),\n",
       " ('Frank Zappa & Captain Beefheart',),\n",
       " ('Marcos Valle',),\n",
       " ('Metallica',),\n",
       " ('Queen',),\n",
       " ('Kiss',),\n",
       " ('Spyro Gyra',),\n",
       " ('Green Day',),\n",
       " ('David Coverdale',),\n",
       " ('Gonzaguinha',),\n",
       " ('Os Mutantes',),\n",
       " ('Deep Purple',),\n",
       " ('Santana',),\n",
       " ('Ed Motta',),\n",
       " ('Miles Davis',),\n",
       " ('Gene Krupa',),\n",
       " ('Toquinho & Vinícius',),\n",
       " ('Creedence Clearwater Revival',),\n",
       " ('Cássia Eller',),\n",
       " ('Def Leppard',),\n",
       " ('Dennis Chambers',),\n",
       " ('Djavan',),\n",
       " ('Elis Regina',),\n",
       " ('Eric Clapton',),\n",
       " ('Faith No More',),\n",
       " ('Falamansa',),\n",
       " ('Foo Fighters',),\n",
       " ('Frank Sinatra',),\n",
       " ('Funk Como Le Gusta',),\n",
       " ('Gilberto Gil',),\n",
       " ('Godsmack',),\n",
       " (\"Guns N' Roses\",),\n",
       " ('Incognito',),\n",
       " ('Iron Maiden',),\n",
       " ('James Brown',),\n",
       " ('Jamiroquai',),\n",
       " ('JET',),\n",
       " ('Jimi Hendrix',),\n",
       " ('Joe Satriani',),\n",
       " ('Jorge Ben',),\n",
       " ('Jota Quest',),\n",
       " ('João Suplicy',),\n",
       " ('Judas Priest',),\n",
       " ('Legião Urbana',),\n",
       " ('Lenny Kravitz',),\n",
       " ('Lulu Santos',),\n",
       " ('Marillion',),\n",
       " ('Marisa Monte',),\n",
       " ('Marvin Gaye',),\n",
       " ('Men At Work',),\n",
       " ('Milton Nascimento',),\n",
       " ('Motörhead',),\n",
       " ('Mônica Marianno',),\n",
       " ('Mötley Crüe',),\n",
       " ('Nirvana',),\n",
       " ('O Terço',),\n",
       " ('Olodum',),\n",
       " ('Os Paralamas Do Sucesso',),\n",
       " ('Ozzy Osbourne',),\n",
       " ('Page & Plant',),\n",
       " ('Passengers',),\n",
       " (\"Paul D'Ianno\",),\n",
       " ('Pearl Jam',),\n",
       " ('Pink Floyd',),\n",
       " ('Planet Hemp',),\n",
       " ('R.E.M. Feat. Kate Pearson',),\n",
       " ('R.E.M.',),\n",
       " ('Raimundos',),\n",
       " ('Raul Seixas',),\n",
       " ('Red Hot Chili Peppers',),\n",
       " ('Rush',),\n",
       " ('Skank',),\n",
       " ('Smashing Pumpkins',),\n",
       " ('Soundgarden',),\n",
       " ('Stevie Ray Vaughan & Double Trouble',),\n",
       " ('Stone Temple Pilots',),\n",
       " ('System Of A Down',),\n",
       " ('Terry Bozzio, Tony Levin & Steve Stevens',),\n",
       " ('The Black Crowes',),\n",
       " ('The Clash',),\n",
       " ('The Cult',),\n",
       " ('The Doors',),\n",
       " ('The Police',),\n",
       " ('The Rolling Stones',),\n",
       " ('The Tea Party',),\n",
       " ('The Who',),\n",
       " ('Tim Maia',),\n",
       " ('Titãs',),\n",
       " ('Battlestar Galactica',),\n",
       " ('Heroes',),\n",
       " ('Lost',),\n",
       " ('U2',),\n",
       " ('UB40',),\n",
       " ('Van Halen',),\n",
       " ('Velvet Revolver',),\n",
       " ('Vinícius De Moraes',),\n",
       " ('Zeca Pagodinho',),\n",
       " ('The Office',),\n",
       " ('Dread Zeppelin',),\n",
       " ('Battlestar Galactica (Classic)',),\n",
       " ('Aquaman',),\n",
       " ('Scorpions',),\n",
       " ('House Of Pain',),\n",
       " ('O Rappa',),\n",
       " ('Cake',),\n",
       " ('Aisha Duo',),\n",
       " ('Habib Koité and Bamada',),\n",
       " ('Karsh Kale',),\n",
       " ('The Posies',),\n",
       " ('Luciana Souza/Romero Lubambo',),\n",
       " ('Aaron Goldberg',),\n",
       " ('Nicolaus Esterhazy Sinfonia',),\n",
       " ('Temple of the Dog',),\n",
       " ('Chris Cornell',),\n",
       " ('Alberto Turco & Nova Schola Gregoriana',),\n",
       " ('Richard Marlow & The Choir of Trinity College, Cambridge',),\n",
       " ('English Concert & Trevor Pinnock',),\n",
       " ('Anne-Sophie Mutter, Herbert Von Karajan & Wiener Philharmoniker',),\n",
       " ('Hilary Hahn, Jeffrey Kahane, Los Angeles Chamber Orchestra & Margaret Batjer',),\n",
       " ('Wilhelm Kempff',),\n",
       " ('Yo-Yo Ma',),\n",
       " ('Scholars Baroque Ensemble',),\n",
       " ('Academy of St. Martin in the Fields & Sir Neville Marriner',),\n",
       " ('Academy of St. Martin in the Fields Chamber Ensemble & Sir Neville Marriner',),\n",
       " ('Berliner Philharmoniker, Claudio Abbado & Sabine Meyer',),\n",
       " ('Royal Philharmonic Orchestra & Sir Thomas Beecham',),\n",
       " ('Orchestre Révolutionnaire et Romantique & John Eliot Gardiner',),\n",
       " ('Britten Sinfonia, Ivor Bolton & Lesley Garrett',),\n",
       " ('Chicago Symphony Chorus, Chicago Symphony Orchestra & Sir Georg Solti',),\n",
       " ('Sir Georg Solti & Wiener Philharmoniker',),\n",
       " ('Academy of St. Martin in the Fields, John Birch, Sir Neville Marriner & Sylvia McNair',),\n",
       " ('London Symphony Orchestra & Sir Charles Mackerras',),\n",
       " ('Barry Wordsworth & BBC Concert Orchestra',),\n",
       " ('Herbert Von Karajan, Mirella Freni & Wiener Philharmoniker',),\n",
       " ('Eugene Ormandy',),\n",
       " ('Luciano Pavarotti',),\n",
       " ('Leonard Bernstein & New York Philharmonic',),\n",
       " ('Boston Symphony Orchestra & Seiji Ozawa',),\n",
       " ('Aaron Copland & London Symphony Orchestra',),\n",
       " ('Ton Koopman',),\n",
       " ('Sergei Prokofiev & Yuri Temirkanov',),\n",
       " ('Chicago Symphony Orchestra & Fritz Reiner',),\n",
       " ('Orchestra of The Age of Enlightenment',),\n",
       " ('Emanuel Ax, Eugene Ormandy & Philadelphia Orchestra',),\n",
       " ('James Levine',),\n",
       " ('Berliner Philharmoniker & Hans Rosbaud',),\n",
       " ('Maurizio Pollini',),\n",
       " ('Gustav Mahler',),\n",
       " ('Felix Schmidt, London Symphony Orchestra & Rafael Frühbeck de Burgos',),\n",
       " ('Edo de Waart & San Francisco Symphony',),\n",
       " ('Antal Doráti & London Symphony Orchestra',),\n",
       " ('Choir Of Westminster Abbey & Simon Preston',),\n",
       " ('Michael Tilson Thomas & San Francisco Symphony',),\n",
       " ('Chor der Wiener Staatsoper, Herbert Von Karajan & Wiener Philharmoniker',),\n",
       " (\"The King's Singers\",),\n",
       " ('Berliner Philharmoniker & Herbert Von Karajan',),\n",
       " ('Sir Georg Solti, Sumi Jo & Wiener Philharmoniker',),\n",
       " (\"Christopher O'Riley\",),\n",
       " ('Fretwork',),\n",
       " ('Amy Winehouse',),\n",
       " ('Calexico',),\n",
       " ('Otto Klemperer & Philharmonia Orchestra',),\n",
       " ('Yehudi Menuhin',),\n",
       " ('Philharmonia Orchestra & Sir Neville Marriner',),\n",
       " ('Academy of St. Martin in the Fields, Sir Neville Marriner & Thurston Dart',),\n",
       " ('Les Arts Florissants & William Christie',),\n",
       " ('The 12 Cellists of The Berlin Philharmonic',),\n",
       " ('Adrian Leaper & Doreen de Feis',),\n",
       " ('Roger Norrington, London Classical Players',),\n",
       " (\"Charles Dutoit & L'Orchestre Symphonique de Montréal\",),\n",
       " ('Equale Brass Ensemble, John Eliot Gardiner & Munich Monteverdi Orchestra and Choir',),\n",
       " (\"Kent Nagano and Orchestre de l'Opéra de Lyon\",),\n",
       " ('Julian Bream',),\n",
       " ('Martin Roscoe',),\n",
       " ('Göteborgs Symfoniker & Neeme Järvi',),\n",
       " ('Itzhak Perlman',),\n",
       " ('Michele Campanella',),\n",
       " ('Gerald Moore',),\n",
       " ('Mela Tenenbaum, Pro Musica Prague & Richard Kapp',),\n",
       " ('Emerson String Quartet',),\n",
       " ('C. Monteverdi, Nigel Rogers - Chiaroscuro; London Baroque; London Cornett & Sackbu',),\n",
       " ('Nash Ensemble',),\n",
       " ('Philip Glass Ensemble',)]"
      ]
     },
     "execution_count": 24,
     "metadata": {},
     "output_type": "execute_result"
    }
   ],
   "source": [
    "# TODO: Test the query_album_track function\n",
    "query_album_track('select distinct artist_name from album_track')"
   ]
  },
  {
   "cell_type": "markdown",
   "metadata": {},
   "source": [
    "### Tools with states\n",
    "\n",
    "The following isn an example of a more complex tool that requires initialisation"
   ]
  },
  {
   "cell_type": "code",
   "execution_count": 25,
   "metadata": {},
   "outputs": [],
   "source": [
    "class SQLiteTool(Tool):\n",
    "\n",
    "   # Required metadata for the agent\n",
    "   name = \"chinook_sqlite\"\n",
    "\n",
    "   description = (\"\"\" \n",
    "      Perform SQL queries on the album_track table. Returns the result as an array of dictionary.\n",
    "      The table name is album_track and it has the following columns:\n",
    "            AlbumId: integer\n",
    "            Title: nvarchar(160)\n",
    "            track_name: nvarchar(200)\n",
    "            artist_name: nvarchar(120)\n",
    "            duration: integer \n",
    "            composer: nvarchar(220)\n",
    "      The duration column is in milliseconds\n",
    "   \"\"\")\n",
    "\n",
    "   # JSON schema\n",
    "   inputs = {\n",
    "      \"query\": {\n",
    "         \"type\": \"string\",\n",
    "         \"description\": \"A valid SQL query\"\n",
    "      }      \n",
    "   }\n",
    "\n",
    "   output_type = \"string\"\n",
    "\n",
    "   def __init__(self, db_file):\n",
    "      self.db_file = db_file \n",
    "\n",
    "   # The tool method\n",
    "   def __call__(self, query: str) -> list:\n",
    "      conn = sqlite3.connect(self.db_file)\n",
    "      try:\n",
    "         cursor = conn.cursor() \n",
    "         rows = cursor.execute(query)\n",
    "         return rows.fetchall()\n",
    "      finally:\n",
    "         conn.close()"
   ]
  }
 ],
 "metadata": {
  "kernelspec": {
   "display_name": "Python 3",
   "language": "python",
   "name": "python3"
  },
  "language_info": {
   "codemirror_mode": {
    "name": "ipython",
    "version": 3
   },
   "file_extension": ".py",
   "mimetype": "text/x-python",
   "name": "python",
   "nbconvert_exporter": "python",
   "pygments_lexer": "ipython3",
   "version": "3.12.8"
  }
 },
 "nbformat": 4,
 "nbformat_minor": 2
}
